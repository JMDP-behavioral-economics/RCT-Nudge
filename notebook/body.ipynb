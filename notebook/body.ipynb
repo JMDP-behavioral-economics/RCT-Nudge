{
 "cells": [
  {
   "cell_type": "code",
   "execution_count": 1,
   "metadata": {
    "vscode": {
     "languageId": "r"
    }
   },
   "outputs": [],
   "source": [
    "library(repr)\n",
    "options(repr.plot.width=15, repr.plot.height=10)"
   ]
  },
  {
   "cell_type": "code",
   "execution_count": null,
   "metadata": {
    "vscode": {
     "languageId": "r"
    }
   },
   "outputs": [],
   "source": [
    "#| include: false\n",
    "\n",
    "library(here)\n",
    "library(IRdisplay)\n",
    "source(here(\"R\", \"_library.r\"))\n",
    "source(here(\"R\", \"_outcome_labels.r\"))\n",
    "\n",
    "root <- \"D:/JMDPフィールド実験\""
   ]
  },
  {
   "attachments": {},
   "cell_type": "markdown",
   "metadata": {},
   "source": [
    "# Field Experiment\n",
    "## Background: Coordination Process of JMDP\n",
    "\n",
    "フィールド実験の介入のタイミングとデータの理解を促すために、骨髄バンクに登録したドナー候補者が幹細胞を提供するに至るまでの工程を概観しておく。\n",
    "はじめに、あるドナー候補者のHLAが骨髄バンクに登録した患者のHLAと一致すると、骨髄バンクの事務局はその候補者に幹細胞提供を依頼する適合通知を送付する[^SNS]。\n",
    "ドナー候補者は適合通知に対して提供の意向と問診表を記入して、返信する。\n",
    "\n",
    "[^SNS]: 適合通知を送付したことを伝えるSMSメッセージも送付している。\n",
    "\n",
    "提供を希望したドナー候補者はおよそ1カ月以内に確認検査を受ける。確認検査では、コーディネーターが提供方法（骨髄採取・末梢血幹細胞採取）を詳細に説明し、ドナー候補者とその家族の意向について調査する。\n",
    "このとき、ドナー候補者は希望する採取方法を選べる。\n",
    "また、調整医師が問診・診察・感染症の有無や血液型を調べるための一般血液検査を実施する。\n",
    "この検査を通じて、ドナー候補者が、骨髄バンクが設定した基準を満たしているかどうかを調べる。\n",
    "\n",
    "骨髄バンクに登録したドナーは同時に最大10人のドナー候補者とのコーディネーションを進められる。\n",
    "患者の主治医は確認検査まで至った複数のドナー候補者の中から最も最適な候補者（第一候補者）を選ぶ。\n",
    "重要な点であるが、ドナー候補者は自身とマッチした患者が何人のドナーとのコーディネーションを進めているかを知ることができない。\n",
    "また、コーディネーターや調整医師もこの点を知らないので、ドナー候補者が他者からその情報を得ることもできない。\n",
    "\n",
    "第一候補者となったドナーはコーディネーターと調整医師からの説明を再度受けて、最終的な意思決定をする（最終同意）。\n",
    "このとき、ドナーの家族の代表者も採取に同意する必要がある。\n",
    "また、最終同意後、ドナーは自分の意向を変えられない。\n",
    "最終的な同意をした後、ドナーは約1週間の入院をして、術前検査と採取準備（貧血を防ぐための自己血採血）を受ける。\n",
    "この後、ドナーは幹細胞を採取する処置を受ける。確認検査から採取までの期間はおよそ3～4カ月程度である。\n",
    "\n",
    "## Experimental Design\n",
    "\n",
    "![](../image/intervention.png)\n",
    "\n",
    "我々は、骨髄バンクがドナー候補者に幹細胞提供を依頼する適合通知の内容に介入を施した。上図に介入の内容を示す。\n",
    "介入前の適合通知はドナー候補者として選ばれたこと、7日以内に提供意思と問診表を記入して返信してほしいことを記載している。\n",
    "また、適合通知と併せて同封した資料の一つは先の小節で述べた採取までの流れを示したハンドブックである。\n",
    "\n",
    "我々はコーディネーションの促進を目的として、適合通知に行動科学の知見に基づく二種類のメッセージを追加した[^pressure]。\n",
    "確率メッセージは骨髄バンクに登録した患者とHLA型が一致するドナー登録者が少ないことを強調している。\n",
    "これは同時に進行している他のドナー候補者の数に関する信念の過大評価を防ぎ、幹細胞提供の「ただ乗り」行動を抑制できる可能性がある。\n",
    "\n",
    "[^pressure]: メッセージの作成の際、我々はドナー候補者に過度なプレッシャーを与えないように適切な配慮をしている。第一に、嘆願調のようなメッセージを避けている。第二に、メッセージの作成に際して、骨髄バンクが公開している情報のみを使用している。第三に、これまでと同様に移植リスクに関する説明をしている。\n",
    "\n",
    "患者メッセージは骨髄バンクを通して移植を受けられる患者が半数しかいないことを強調している。\n",
    "これは自分が協力しなくても患者は助かるだろうという認識を修正し、ドナー候補者の利他性を刺激していることを目的としている。\n",
    "さらに、提供に至るまでの期間を短くすることの重要性を強調することで、適合通知への早い返信を促している。\n",
    "\n",
    "二種類の介入メッセージの効果を推定するために、我々は四つの実験群を設ける。\n",
    "実験群Aは介入メッセージのない適合通知を送る（コントロール群）。実験群BとCはそれぞれ確率メッセージと患者情報メッセージを送る。\n",
    "さらに、情報過多による認知負荷の負の影響を検証するために、二つの介入メッセージを両方加えた適合通知を送付する実験群Dも設ける。"
   ]
  },
  {
   "cell_type": "code",
   "execution_count": 3,
   "metadata": {
    "vscode": {
     "languageId": "r"
    }
   },
   "outputs": [
    {
     "name": "stderr",
     "output_type": "stream",
     "text": [
      "\u001b[1mRows: \u001b[22m\u001b[34m24\u001b[39m \u001b[1mColumns: \u001b[22m\u001b[34m7\u001b[39m\n"
     ]
    },
    {
     "name": "stderr",
     "output_type": "stream",
     "text": [
      "\u001b[36m──\u001b[39m \u001b[1mColumn specification\u001b[22m \u001b[36m────────────────────────────────────────────────────────\u001b[39m\n",
      "\u001b[1mDelimiter:\u001b[22m \",\"\n",
      "\u001b[31mchr\u001b[39m  (1): treat\n",
      "\u001b[32mdbl\u001b[39m  (4): year, month, week, RCTweek\n",
      "\u001b[34mdate\u001b[39m (2): start_date, end_date\n"
     ]
    },
    {
     "name": "stderr",
     "output_type": "stream",
     "text": [
      "\n",
      "\u001b[36mℹ\u001b[39m Use `spec()` to retrieve the full column specification for this data.\n",
      "\u001b[36mℹ\u001b[39m Specify the column types or set `show_col_types = FALSE` to quiet this message.\n"
     ]
    }
   ],
   "source": [
    "#| include: false\n",
    "\n",
    "schedule <- read_csv(here(root, \"RCT-schedule.csv\"))"
   ]
  },
  {
   "cell_type": "code",
   "execution_count": 4,
   "metadata": {
    "vscode": {
     "languageId": "r"
    }
   },
   "outputs": [
    {
     "data": {
      "text/html": [
       "<table class=\"table\" style=\"margin-left: auto; margin-right: auto;\">\n",
       "<caption>Assignment Schedule</caption>\n",
       " <thead>\n",
       "  <tr>\n",
       "   <th style=\"text-align:left;\"> week </th>\n",
       "   <th style=\"text-align:center;\"> Sep 21 </th>\n",
       "   <th style=\"text-align:center;\"> Oct 21 </th>\n",
       "   <th style=\"text-align:center;\"> Nov 21 </th>\n",
       "   <th style=\"text-align:center;\"> Dec 21 </th>\n",
       "   <th style=\"text-align:center;\"> Jan 22 </th>\n",
       "   <th style=\"text-align:center;\"> Feb 22 </th>\n",
       "  </tr>\n",
       " </thead>\n",
       "<tbody>\n",
       "  <tr>\n",
       "   <td style=\"text-align:left;\"> Week 1 </td>\n",
       "   <td style=\"text-align:center;\"> B </td>\n",
       "   <td style=\"text-align:center;\"> C </td>\n",
       "   <td style=\"text-align:center;\"> C </td>\n",
       "   <td style=\"text-align:center;\"> D </td>\n",
       "   <td style=\"text-align:center;\"> B </td>\n",
       "   <td style=\"text-align:center;\"> A </td>\n",
       "  </tr>\n",
       "  <tr>\n",
       "   <td style=\"text-align:left;\"> Week 2 </td>\n",
       "   <td style=\"text-align:center;\"> D </td>\n",
       "   <td style=\"text-align:center;\"> B </td>\n",
       "   <td style=\"text-align:center;\"> A </td>\n",
       "   <td style=\"text-align:center;\"> A </td>\n",
       "   <td style=\"text-align:center;\"> C </td>\n",
       "   <td style=\"text-align:center;\"> B </td>\n",
       "  </tr>\n",
       "  <tr>\n",
       "   <td style=\"text-align:left;\"> Week 3 </td>\n",
       "   <td style=\"text-align:center;\"> A </td>\n",
       "   <td style=\"text-align:center;\"> D </td>\n",
       "   <td style=\"text-align:center;\"> B </td>\n",
       "   <td style=\"text-align:center;\"> C </td>\n",
       "   <td style=\"text-align:center;\"> D </td>\n",
       "   <td style=\"text-align:center;\"> C </td>\n",
       "  </tr>\n",
       "  <tr>\n",
       "   <td style=\"text-align:left;\"> Week 4 </td>\n",
       "   <td style=\"text-align:center;\"> C </td>\n",
       "   <td style=\"text-align:center;\"> A </td>\n",
       "   <td style=\"text-align:center;\"> D </td>\n",
       "   <td style=\"text-align:center;\"> B </td>\n",
       "   <td style=\"text-align:center;\"> A </td>\n",
       "   <td style=\"text-align:center;\"> D </td>\n",
       "  </tr>\n",
       "</tbody>\n",
       "</table>"
      ]
     },
     "metadata": {},
     "output_type": "display_data"
    }
   ],
   "source": [
    "#| output: asis\n",
    "\n",
    "schedule %>%\n",
    "  mutate(\n",
    "    my = paste0(month, \"/\", year - 2000),\n",
    "    my = factor(\n",
    "      my,\n",
    "      levels = c(\"9/21\", \"10/21\", \"11/21\", \"12/21\", \"1/22\", \"2/22\"),\n",
    "      labels = c(\"Sep 21\", \"Oct 21\", \"Nov 21\", \"Dec 21\", \"Jan 22\", \"Feb 22\")\n",
    "    ),\n",
    "    week = factor(week, levels = 1:4, labels = paste(\"Week\", 1:4))\n",
    "  ) %>%\n",
    "  dplyr::select(week, my, treat) %>%\n",
    "  pivot_wider(values_from = treat, names_from = my) %>%\n",
    "  kable(\n",
    "    caption = 'Assignment Schedule',\n",
    "    align = 'lcccccc',\n",
    "    # format = 'latex',\n",
    "    booktabs = TRUE,\n",
    "    linesep = \"\"\n",
    "  ) %>%\n",
    "  kableExtra::kable_styling() %>%\n",
    "  # print()\n",
    "  as.character() %>%\n",
    "  display_html()"
   ]
  },
  {
   "attachments": {},
   "cell_type": "markdown",
   "metadata": {},
   "source": [
    "我々は2021年9月から2022年2月にかけて骨髄バンクが適合通知を送付したドナー候補者11,154名をフィールド実験の対象とした。実験群の割り当ては骨髄バンク事務局の業務の無理のない範囲で週単位でクラスターランダム化した。このとき、週・月の固定効果を取り除けるように、実験群が週・月でバランスするように割り当てた。割り当てのスケジュールは上表にまとめている。"
   ]
  },
  {
   "attachments": {},
   "cell_type": "markdown",
   "metadata": {},
   "source": [
    "## Data and Empirical Strategy"
   ]
  },
  {
   "cell_type": "code",
   "execution_count": 5,
   "metadata": {
    "vscode": {
     "languageId": "r"
    }
   },
   "outputs": [
    {
     "name": "stderr",
     "output_type": "stream",
     "text": [
      "\u001b[1mRows: \u001b[22m\u001b[34m11153\u001b[39m \u001b[1mColumns: \u001b[22m\u001b[34m39\u001b[39m\n"
     ]
    },
    {
     "name": "stderr",
     "output_type": "stream",
     "text": [
      "\u001b[36m──\u001b[39m \u001b[1mColumn specification\u001b[22m \u001b[36m────────────────────────────────────────────────────────\u001b[39m\n",
      "\u001b[1mDelimiter:\u001b[22m \",\"\n",
      "\u001b[31mchr\u001b[39m   (6): treat, prefecture, reasonBM, reasonPB, plan_method, method\n",
      "\u001b[32mdbl\u001b[39m  (31): year, month, week, RCTweek, id, sentenceB, sentenceC, toka, male,...\n",
      "\u001b[34mdate\u001b[39m  (2): start_date, end_date\n"
     ]
    },
    {
     "name": "stderr",
     "output_type": "stream",
     "text": [
      "\n",
      "\u001b[36mℹ\u001b[39m Use `spec()` to retrieve the full column specification for this data.\n",
      "\u001b[36mℹ\u001b[39m Specify the column types or set `show_col_types = FALSE` to quiet this message.\n"
     ]
    }
   ],
   "source": [
    "#| include: false\n",
    "\n",
    "rawdt <- read_csv(here(root, \"shaped.csv\"), locale = locale(encoding = \"cp932\"))\n",
    "\n",
    "use <- rawdt %>%\n",
    "  dplyr::filter(ongoing == 0) %>%\n",
    "  mutate(\n",
    "    treat = factor(treat, levels = LETTERS[1:4]),\n",
    "    plan_two_methods = if_else(plan_method == \"BM/PB\", 1, 0)\n",
    "  )"
   ]
  },
  {
   "cell_type": "code",
   "execution_count": 6,
   "metadata": {
    "vscode": {
     "languageId": "r"
    }
   },
   "outputs": [
    {
     "data": {
      "text/html": [
       "'F-value = 0.105; p-value = 0.956'"
      ],
      "text/latex": [
       "'F-value = 0.105; p-value = 0.956'"
      ],
      "text/markdown": [
       "'F-value = 0.105; p-value = 0.956'"
      ],
      "text/plain": [
       "[1] \"F-value = 0.105; p-value = 0.956\""
      ]
     },
     "metadata": {},
     "output_type": "display_data"
    }
   ],
   "source": [
    "#| include: false\n",
    "\n",
    "lm_robust(\n",
    "  ongoing ~ treat,\n",
    "  data = rawdt,\n",
    "  cluster = RCTweek,\n",
    "  se_type = \"stata\"\n",
    ") %>%\n",
    "{\n",
    "  f <- summary(.)$fstatistic[1]\n",
    "  numdf <- summary(.)$fstatistic[2]\n",
    "  dendf <- summary(.)$fstatistic[3]\n",
    "  p <- pf(f, numdf, dendf, lower.tail = FALSE)\n",
    "\n",
    "  sprintf(\"F-value = %1.3f; p-value = %1.3f\", f, p)\n",
    "}"
   ]
  },
  {
   "attachments": {},
   "cell_type": "markdown",
   "metadata": {},
   "source": [
    "我々は2022年6月末に骨髄バンクが管理するコーディネーションデータの提供を受けた。観測単位はフィールド実験の対象であるドナー候補者である。個人属性として性別・年齢・過去のコーディネーション回数・居住地域（都道府県レベル）を記録している。コーディネーションの過程について、提供に至るまでの各工程（適合通知への返信・確認検査・第一候補者選定・最終同意・採取）に到達したかどうかを記録しており、これらをアウトカム変数として用いる。特に、適合通知の返信については、返信したかどうかに加えて、返信日数・提供意向についても記録している。コーディネーションが途中で中断した場合、その理由を三つのカテゴリー（患者理由・ドナーの健康以外の理由・ドナーの健康上の理由）で記録している。分析対象は国内在住でコーディネーションが完全に終了している11,049名とする[^exclude]。\n",
    "\n",
    "[^exclude]: 海外に在住している人が1人いた。また、データ提供時点でコーディネーションが進行している人が104名いた。コーディネーションが進行している人の比率は実験群間でバランスしている（F-value, p-value = $0.956$）\n",
    "\n",
    "追加的なデータとして、我々はJMDPがホームページ上で公開している施設リストを用いる。このデータは病院の住所に加えて、骨髄採取が可能かどうか、末梢血幹細胞採取が可能かどうかを含んでいる。我々はこのデータを都道府県レベルで集計して、10平方キロメートル当たりの病院の数を計算し、コーディネーションデータと都道府県をキーとして突合する。我々はこの変数をコーディネーションや提供の移動コストとみなす。"
   ]
  },
  {
   "cell_type": "code",
   "execution_count": 17,
   "metadata": {
    "vscode": {
     "languageId": "r"
    }
   },
   "outputs": [
    {
     "data": {
      "text/html": [
       "<table class=\"table table\" style=\"width: auto !important; margin-left: auto; margin-right: auto; margin-left: auto; margin-right: auto;\">\n",
       "<caption>Overview of Field Experiment</caption>\n",
       " <thead>\n",
       "<tr>\n",
       "<th style=\"empty-cells: hide;border-bottom:hidden;\" colspan=\"1\"></th>\n",
       "<th style=\"border-bottom:hidden;padding-bottom:0; padding-left:3px;padding-right:3px;text-align: center; \" colspan=\"4\"><div style=\"border-bottom: 1px solid #ddd; padding-bottom: 5px; \">Experimental Arms</div></th>\n",
       "<th style=\"empty-cells: hide;border-bottom:hidden;\" colspan=\"1\"></th>\n",
       "</tr>\n",
       "  <tr>\n",
       "   <th style=\"text-align:left;\">   </th>\n",
       "   <th style=\"text-align:center;\"> A </th>\n",
       "   <th style=\"text-align:center;\"> B </th>\n",
       "   <th style=\"text-align:center;\"> C </th>\n",
       "   <th style=\"text-align:center;\"> D </th>\n",
       "   <th style=\"text-align:center;\"> F-test, p-value </th>\n",
       "  </tr>\n",
       " </thead>\n",
       "<tbody>\n",
       "  <tr grouplength=\"3\"><td colspan=\"6\" style=\"border-bottom: 1px solid;\"><strong>A. Interventions</strong></td></tr>\n",
       "<tr>\n",
       "   <td style=\"text-align:left;padding-left: 2em;\" indentlevel=\"1\"> Standard notification </td>\n",
       "   <td style=\"text-align:center;\"> X </td>\n",
       "   <td style=\"text-align:center;\"> X </td>\n",
       "   <td style=\"text-align:center;\"> X </td>\n",
       "   <td style=\"text-align:center;\"> X </td>\n",
       "   <td style=\"text-align:center;\">  </td>\n",
       "  </tr>\n",
       "  <tr>\n",
       "   <td style=\"text-align:left;padding-left: 2em;\" indentlevel=\"1\"> Probability message </td>\n",
       "   <td style=\"text-align:center;\">  </td>\n",
       "   <td style=\"text-align:center;\"> X </td>\n",
       "   <td style=\"text-align:center;\">  </td>\n",
       "   <td style=\"text-align:center;\"> X </td>\n",
       "   <td style=\"text-align:center;\">  </td>\n",
       "  </tr>\n",
       "  <tr>\n",
       "   <td style=\"text-align:left;padding-left: 2em;\" indentlevel=\"1\"> Patients message </td>\n",
       "   <td style=\"text-align:center;\">  </td>\n",
       "   <td style=\"text-align:center;\">  </td>\n",
       "   <td style=\"text-align:center;\"> X </td>\n",
       "   <td style=\"text-align:center;\"> X </td>\n",
       "   <td style=\"text-align:center;\">  </td>\n",
       "  </tr>\n",
       "  <tr grouplength=\"1\"><td colspan=\"6\" style=\"border-bottom: 1px solid;\"><strong>B. Sample Size</strong></td></tr>\n",
       "<tr>\n",
       "   <td style=\"text-align:left;padding-left: 2em;\" indentlevel=\"1\"> N </td>\n",
       "   <td style=\"text-align:center;\"> 2535 </td>\n",
       "   <td style=\"text-align:center;\"> 3053 </td>\n",
       "   <td style=\"text-align:center;\"> 2726 </td>\n",
       "   <td style=\"text-align:center;\"> 2735 </td>\n",
       "   <td style=\"text-align:center;\">  </td>\n",
       "  </tr>\n",
       "  <tr grouplength=\"6\"><td colspan=\"6\" style=\"border-bottom: 1px solid;\"><strong>C. Covariates, Balance Test</strong></td></tr>\n",
       "<tr>\n",
       "   <td style=\"text-align:left;padding-left: 2em;\" indentlevel=\"1\"> Male (=1) </td>\n",
       "   <td style=\"text-align:center;\"> 0.62 </td>\n",
       "   <td style=\"text-align:center;\"> 0.63 </td>\n",
       "   <td style=\"text-align:center;\"> 0.63 </td>\n",
       "   <td style=\"text-align:center;\"> 0.61 </td>\n",
       "   <td style=\"text-align:center;\"> 0.36 </td>\n",
       "  </tr>\n",
       "  <tr>\n",
       "   <td style=\"text-align:left;padding-left: 2em;\" indentlevel=\"1\"> Age </td>\n",
       "   <td style=\"text-align:center;\"> 38.38 </td>\n",
       "   <td style=\"text-align:center;\"> 38.12 </td>\n",
       "   <td style=\"text-align:center;\"> 37.45 </td>\n",
       "   <td style=\"text-align:center;\"> 37.98 </td>\n",
       "   <td style=\"text-align:center;\"> 0.07 </td>\n",
       "  </tr>\n",
       "  <tr>\n",
       "   <td style=\"text-align:left;padding-left: 2em;\" indentlevel=\"1\"> Number of past coordinations </td>\n",
       "   <td style=\"text-align:center;\"> 1.61 </td>\n",
       "   <td style=\"text-align:center;\"> 1.59 </td>\n",
       "   <td style=\"text-align:center;\"> 1.62 </td>\n",
       "   <td style=\"text-align:center;\"> 1.56 </td>\n",
       "   <td style=\"text-align:center;\"> 0.45 </td>\n",
       "  </tr>\n",
       "  <tr>\n",
       "   <td style=\"text-align:left;padding-left: 2em;\" indentlevel=\"1\"> Number of listed hospitals </td>\n",
       "   <td style=\"text-align:center;\"> 0.48 </td>\n",
       "   <td style=\"text-align:center;\"> 0.49 </td>\n",
       "   <td style=\"text-align:center;\"> 0.49 </td>\n",
       "   <td style=\"text-align:center;\"> 0.49 </td>\n",
       "   <td style=\"text-align:center;\"> 0.80 </td>\n",
       "  </tr>\n",
       "  <tr>\n",
       "   <td style=\"text-align:left;padding-left: 2em;\" indentlevel=\"1\"> Number of hospitals listed with PBSC collection </td>\n",
       "   <td style=\"text-align:center;\"> 0.16 </td>\n",
       "   <td style=\"text-align:center;\"> 0.17 </td>\n",
       "   <td style=\"text-align:center;\"> 0.17 </td>\n",
       "   <td style=\"text-align:center;\"> 0.16 </td>\n",
       "   <td style=\"text-align:center;\"> 0.80 </td>\n",
       "  </tr>\n",
       "  <tr>\n",
       "   <td style=\"text-align:left;padding-left: 2em;\" indentlevel=\"1\"> Number of hospitals listed with BM collection </td>\n",
       "   <td style=\"text-align:center;\"> 0.25 </td>\n",
       "   <td style=\"text-align:center;\"> 0.26 </td>\n",
       "   <td style=\"text-align:center;\"> 0.25 </td>\n",
       "   <td style=\"text-align:center;\"> 0.25 </td>\n",
       "   <td style=\"text-align:center;\"> 0.67 </td>\n",
       "  </tr>\n",
       "</tbody>\n",
       "</table>"
      ]
     },
     "metadata": {},
     "output_type": "display_data"
    }
   ],
   "source": [
    "#| output: asis\n",
    "\n",
    "balance_test <- use %>%\n",
    "  select(\n",
    "    male,\n",
    "    age,\n",
    "    coordinate,\n",
    "    hospital_per_area,\n",
    "    PB_per_area,\n",
    "    BM_per_area,\n",
    "    treat,\n",
    "    RCTweek\n",
    "  ) %>%\n",
    "  pivot_longer(male:BM_per_area, values_to = \"value\", names_to = \"vars\") %>%\n",
    "  group_by(vars) %>%\n",
    "  do(est = lm_robust(\n",
    "    value ~ treat,\n",
    "    clusters = RCTweek,\n",
    "    se_type = \"stata\",\n",
    "    data = .\n",
    "  )) %>%\n",
    "  summarize(\n",
    "    vars = vars,\n",
    "    f = summary(est)$fstatistic[1],\n",
    "    numdf = summary(est)$fstatistic[2],\n",
    "    dendf = summary(est)$fstatistic[3],\n",
    "    \"F-test, p-value\" = pf(f, numdf, dendf, lower.tail = FALSE)\n",
    "  )\n",
    "\n",
    "size <- with(use, sprintf(\"%1d\", table(treat))) %>%\n",
    "  {\n",
    "    tribble(\n",
    "      ~terms, ~A, ~B, ~C, ~D, ~\"F-test, p-value\",\n",
    "      \"Standard notification\", \"X\", \"X\", \"X\", \"X\", \"\",\n",
    "      \"Probability message\", \"\", \"X\", \"\", \"X\", \"\",\n",
    "      \"Patients message\", \"\", \"\", \"X\", \"X\", \"\",\n",
    "      \"N\", .[1], .[2], .[3], .[4], \"\"\n",
    "    )\n",
    "  }\n",
    "\n",
    "attr(size, \"position\") <- seq(nrow(size))\n",
    "\n",
    "use %>%\n",
    "  datasummary(\n",
    "    (`Male (=1)` = male) +\n",
    "    (`Age` = age) +\n",
    "    (`Number of past coordinations` = coordinate) +\n",
    "    (`Number of listed hospitals` = hospital_per_area) +\n",
    "    (`Number of hospitals listed with PBSC collection` = PB_per_area) +\n",
    "    (`Number of hospitals listed with BM collection` = BM_per_area) ~ mean * treat,\n",
    "    data = .,\n",
    "    title = \"Overview of Field Experiment\",\n",
    "    add_rows = size,\n",
    "    add_columns = balance_test[c(5, 1, 3, 4, 6, 2), 5],\n",
    "    # output = \"latex\",\n",
    "    align = \"lccccc\",\n",
    "  ) %>%\n",
    "  kableExtra::kable_styling() %>%\n",
    "  add_header_above(c(\" \" = 1, \"Experimental Arms\" = 4, \" \" = 1)) %>%\n",
    "  group_rows(\"A. Interventions\", 1, 3) %>%\n",
    "  group_rows(\"B. Sample Size\", 4, 4) %>%\n",
    "  group_rows(\"C. Covariates, Balance Test\", 5, 10) %>%\n",
    "  # print()\n",
    "  as.character() %>%\n",
    "  display_html()"
   ]
  },
  {
   "attachments": {},
   "cell_type": "markdown",
   "metadata": {},
   "source": [
    "上表はフィールド実験を概観している。パネルAは各実験群の介入をまとめており、パネルBは各実験群のサンプルサイズを示している。パネルCは共変量のバランステストの結果を示しており、割り当てのランダム化が成功しているかどうかを検証している。ほとんどの共変量が群間でバランスしているので、実験群の割り当てはおおよそランダムである。ただし、実験群C・Dのドナー候補者は実験群A・Bのドナー候補者よりも若く、群間でアンバランスな可能性がある（F-test, p-value = $0.07$）。\n",
    "\n",
    "ドナー候補者は実験群を選択できない、すなわち、実験群は外生的であるので、単純な二群比較は平均処置効果を識別できる。ただし、年齢および割り当ての週と月の数が実験群間で完全にバランスしていないので、単純な二群比較はバイアスを伴う可能性がある。そこで、二群比較に加えて、我々は$m$月の第$w$週に適合通知を受け取った個人$i$について以下の線形確率モデルを推定する、\n",
    "\n",
    "\\begin{equation}\n",
    "  Y_{imw} =\n",
    "  \\beta_1 \\cdot \\text{B}_{mw} + \\beta_2 \\cdot \\text{C}_{mw}\n",
    "  + \\beta_3 \\cdot \\text{D}_{mw}\n",
    "  + X'_i \\gamma + \\lambda_m + \\theta_w + u_{imw}\n",
    "\\end{equation}\n",
    "\n",
    "ここで、$X_i$は個人属性ベクトル、$\\lambda_m$と$\\theta_w$はそれぞれ週・月のダミー変数である。\n",
    "我々はランダム化のユニットである実験週レベルでクラスタした標準誤差を使用する。"
   ]
  },
  {
   "attachments": {},
   "cell_type": "markdown",
   "metadata": {},
   "source": [
    "# Results: Effects on Reply and Intentions"
   ]
  },
  {
   "cell_type": "code",
   "execution_count": 8,
   "metadata": {
    "vscode": {
     "languageId": "r"
    }
   },
   "outputs": [],
   "source": [
    "stock <- use %>%\n",
    "  dplyr::filter(exg_stop_reply == 0) %>%\n",
    "  rename(positive = intention) %>%\n",
    "  mutate(\n",
    "    negative = reply * (1 - positive),\n",
    "    age_demean = age - mean(rawdt$age),\n",
    "  ) %>%\n",
    "  select(reply, positive, negative, everything()) %>%\n",
    "  pivot_longer(reply:negative, \"outcome\") %>%\n",
    "  mutate(outcome = factor(\n",
    "    outcome,\n",
    "    levels = unlist(names(outcome_label)[1:3]),\n",
    "    labels = unlist(outcome_label[1:3])\n",
    "  ))"
   ]
  },
  {
   "attachments": {},
   "cell_type": "markdown",
   "metadata": {},
   "source": [
    "はじめに、ドナー候補者の意向が最も現れる返信に対する効果を推定する。返信のアウトカム変数は提供意向に関わらず適合通知に返信したらならば1を取るダミー変数である。さらに、提供意向の変数を用いて、返信に対する効果を二つに分解する。第一に、正の意向を示して、適合通知に返信した効果である。アウトカム変数は適合通知に返信し、かつ提供の意向を示したならば1を取るダミー変数である。第二に、負の意向を示して、適合通知に返信した効果である。アウトカム変数は適合通知に返信し、かつ提供の意向を示さなければ1を取るダミー変数である。提供の意向に関する二つのアウトカム変数の和は必ず返信のアウトカム変数と一致するので、二つの意向に対する効果の和は必ず返信に対する効果となる。コントロール（実験群A）の返信率は$88.35$%である。正の意向を伴って返信した比率は$55.33$%である一方で、負の意向を伴って返信した比率は$33.03$%である。したがって、適合通知に返信したドナー候補者の$62.63$%が提供したいと考えている。\n",
    "\n",
    "返信をする以前に患者側の都合でコーディネーションが中断してしまう可能性がある。このケースはドナー候補者の意向と無関係に生じるコーディネーションの中断なので、分析のサンプルから除外する。各実験群の$0.5$--$0.7$%をこのケースで除外しており、その比率は群間でバランスしている。"
   ]
  },
  {
   "attachments": {},
   "cell_type": "markdown",
   "metadata": {},
   "source": [
    "## Main Results"
   ]
  },
  {
   "cell_type": "code",
   "execution_count": 19,
   "metadata": {
    "vscode": {
     "languageId": "r"
    }
   },
   "outputs": [
    {
     "data": {
      "text/html": [
       "<table style=\"NAborder-bottom: 0; width: auto !important; margin-left: auto; margin-right: auto; margin-left: auto; margin-right: auto;border-bottom: 0;\" class=\"table table\">\n",
       "<caption>Linear Probability Model of Replay and Intention</caption>\n",
       " <thead>\n",
       "<tr>\n",
       "<th style=\"empty-cells: hide;border-bottom:hidden;\" colspan=\"3\"></th>\n",
       "<th style=\"border-bottom:hidden;padding-bottom:0; padding-left:3px;padding-right:3px;text-align: center; \" colspan=\"4\"><div style=\"border-bottom: 1px solid #ddd; padding-bottom: 5px; \">Intention</div></th>\n",
       "</tr>\n",
       "<tr>\n",
       "<th style=\"empty-cells: hide;border-bottom:hidden;\" colspan=\"1\"></th>\n",
       "<th style=\"border-bottom:hidden;padding-bottom:0; padding-left:3px;padding-right:3px;text-align: center; \" colspan=\"2\"><div style=\"border-bottom: 1px solid #ddd; padding-bottom: 5px; \">Reply</div></th>\n",
       "<th style=\"border-bottom:hidden;padding-bottom:0; padding-left:3px;padding-right:3px;text-align: center; \" colspan=\"2\"><div style=\"border-bottom: 1px solid #ddd; padding-bottom: 5px; \">Positive</div></th>\n",
       "<th style=\"border-bottom:hidden;padding-bottom:0; padding-left:3px;padding-right:3px;text-align: center; \" colspan=\"2\"><div style=\"border-bottom: 1px solid #ddd; padding-bottom: 5px; \">Negative</div></th>\n",
       "</tr>\n",
       "  <tr>\n",
       "   <th style=\"text-align:left;\">   </th>\n",
       "   <th style=\"text-align:center;\">  (1) </th>\n",
       "   <th style=\"text-align:center;\">   (2) </th>\n",
       "   <th style=\"text-align:center;\">   (3) </th>\n",
       "   <th style=\"text-align:center;\">   (4) </th>\n",
       "   <th style=\"text-align:center;\">   (5) </th>\n",
       "   <th style=\"text-align:center;\">   (6) </th>\n",
       "  </tr>\n",
       " </thead>\n",
       "<tbody>\n",
       "  <tr>\n",
       "   <td style=\"text-align:left;\"> Constant </td>\n",
       "   <td style=\"text-align:center;\"> 0.8835*** </td>\n",
       "   <td style=\"text-align:center;\"> 0.9510*** </td>\n",
       "   <td style=\"text-align:center;\"> 0.5533*** </td>\n",
       "   <td style=\"text-align:center;\"> 0.6463*** </td>\n",
       "   <td style=\"text-align:center;\"> 0.3303*** </td>\n",
       "   <td style=\"text-align:center;\"> 0.3047*** </td>\n",
       "  </tr>\n",
       "  <tr>\n",
       "   <td style=\"text-align:left;\">  </td>\n",
       "   <td style=\"text-align:center;\"> (0.0065) </td>\n",
       "   <td style=\"text-align:center;\"> (0.0190) </td>\n",
       "   <td style=\"text-align:center;\"> (0.0125) </td>\n",
       "   <td style=\"text-align:center;\"> (0.0277) </td>\n",
       "   <td style=\"text-align:center;\"> (0.0089) </td>\n",
       "   <td style=\"text-align:center;\"> (0.0210) </td>\n",
       "  </tr>\n",
       "  <tr>\n",
       "   <td style=\"text-align:left;\"> Treatment B </td>\n",
       "   <td style=\"text-align:center;\"> 0.0105 </td>\n",
       "   <td style=\"text-align:center;\"> 0.0130** </td>\n",
       "   <td style=\"text-align:center;\"> 0.0218 </td>\n",
       "   <td style=\"text-align:center;\"> 0.0203* </td>\n",
       "   <td style=\"text-align:center;\"> -0.0113 </td>\n",
       "   <td style=\"text-align:center;\"> -0.0073 </td>\n",
       "  </tr>\n",
       "  <tr>\n",
       "   <td style=\"text-align:left;\">  </td>\n",
       "   <td style=\"text-align:center;\"> (0.0075) </td>\n",
       "   <td style=\"text-align:center;\"> (0.0061) </td>\n",
       "   <td style=\"text-align:center;\"> (0.0135) </td>\n",
       "   <td style=\"text-align:center;\"> (0.0123) </td>\n",
       "   <td style=\"text-align:center;\"> (0.0094) </td>\n",
       "   <td style=\"text-align:center;\"> (0.0075) </td>\n",
       "  </tr>\n",
       "  <tr>\n",
       "   <td style=\"text-align:left;\"> Treatment C </td>\n",
       "   <td style=\"text-align:center;\"> -0.0057 </td>\n",
       "   <td style=\"text-align:center;\"> 0.0006 </td>\n",
       "   <td style=\"text-align:center;\"> -0.0053 </td>\n",
       "   <td style=\"text-align:center;\"> -0.0052 </td>\n",
       "   <td style=\"text-align:center;\"> -0.0004 </td>\n",
       "   <td style=\"text-align:center;\"> 0.0057 </td>\n",
       "  </tr>\n",
       "  <tr>\n",
       "   <td style=\"text-align:left;\">  </td>\n",
       "   <td style=\"text-align:center;\"> (0.0081) </td>\n",
       "   <td style=\"text-align:center;\"> (0.0053) </td>\n",
       "   <td style=\"text-align:center;\"> (0.0151) </td>\n",
       "   <td style=\"text-align:center;\"> (0.0111) </td>\n",
       "   <td style=\"text-align:center;\"> (0.0150) </td>\n",
       "   <td style=\"text-align:center;\"> (0.0093) </td>\n",
       "  </tr>\n",
       "  <tr>\n",
       "   <td style=\"text-align:left;\"> Treatment D </td>\n",
       "   <td style=\"text-align:center;\"> 0.0058 </td>\n",
       "   <td style=\"text-align:center;\"> 0.0063 </td>\n",
       "   <td style=\"text-align:center;\"> 0.0046 </td>\n",
       "   <td style=\"text-align:center;\"> 0.0063 </td>\n",
       "   <td style=\"text-align:center;\"> 0.0012 </td>\n",
       "   <td style=\"text-align:center;\"> 0.0000 </td>\n",
       "  </tr>\n",
       "  <tr>\n",
       "   <td style=\"text-align:left;box-shadow: 0px 1px\">  </td>\n",
       "   <td style=\"text-align:center;box-shadow: 0px 1px\"> (0.0074) </td>\n",
       "   <td style=\"text-align:center;box-shadow: 0px 1px\"> (0.0051) </td>\n",
       "   <td style=\"text-align:center;box-shadow: 0px 1px\"> (0.0166) </td>\n",
       "   <td style=\"text-align:center;box-shadow: 0px 1px\"> (0.0097) </td>\n",
       "   <td style=\"text-align:center;box-shadow: 0px 1px\"> (0.0138) </td>\n",
       "   <td style=\"text-align:center;box-shadow: 0px 1px\"> (0.0065) </td>\n",
       "  </tr>\n",
       "  <tr>\n",
       "   <td style=\"text-align:left;\"> Control average </td>\n",
       "   <td style=\"text-align:center;\"> 0.8835 </td>\n",
       "   <td style=\"text-align:center;\"> 0.8835 </td>\n",
       "   <td style=\"text-align:center;\"> 0.5533 </td>\n",
       "   <td style=\"text-align:center;\"> 0.5533 </td>\n",
       "   <td style=\"text-align:center;\"> 0.3303 </td>\n",
       "   <td style=\"text-align:center;\"> 0.3303 </td>\n",
       "  </tr>\n",
       "  <tr>\n",
       "   <td style=\"text-align:left;\"> Covariates </td>\n",
       "   <td style=\"text-align:center;\">  </td>\n",
       "   <td style=\"text-align:center;\"> X </td>\n",
       "   <td style=\"text-align:center;\">  </td>\n",
       "   <td style=\"text-align:center;\"> X </td>\n",
       "   <td style=\"text-align:center;\">  </td>\n",
       "   <td style=\"text-align:center;\"> X </td>\n",
       "  </tr>\n",
       "  <tr>\n",
       "   <td style=\"text-align:left;\"> Num.Obs. </td>\n",
       "   <td style=\"text-align:center;\"> 10985 </td>\n",
       "   <td style=\"text-align:center;\"> 10985 </td>\n",
       "   <td style=\"text-align:center;\"> 10985 </td>\n",
       "   <td style=\"text-align:center;\"> 10985 </td>\n",
       "   <td style=\"text-align:center;\"> 10985 </td>\n",
       "   <td style=\"text-align:center;\"> 10985 </td>\n",
       "  </tr>\n",
       "</tbody>\n",
       "<tfoot><tr><td style=\"padding: 0; \" colspan=\"100%\">\n",
       "<sup></sup> * p &lt; 0.1, ** p &lt; 0.05, *** p &lt; 0.01</td></tr></tfoot>\n",
       "<tfoot>\n",
       "<tr><td style=\"padding: 0; \" colspan=\"100%\"><span style=\"font-style: italic;\">Note: </span></td></tr>\n",
       "<tr><td style=\"padding: 0; \" colspan=\"100%\">\n",
       "<sup></sup> * p &lt; 0.1, ** p &lt; 0.05, *** p &lt; 0.01. Standard errors clustered by experimental weeks are reported in parentheses. Covariates are gender, squared polynomial of (demeaned) age, number of past coordinations, number of hospitals per 10 square kilometers, number of hospitals with PBSC collection per 10 square kilometers, number of hospitals with BM collection per 10 square kilometers, prefecture dummies, month dummies, and week dummies.</td></tr>\n",
       "</tfoot>\n",
       "</table>"
      ]
     },
     "metadata": {},
     "output_type": "display_data"
    }
   ],
   "source": [
    "#| output: asis\n",
    "\n",
    "mod <- list(\n",
    "  unctrl = value ~ treat,\n",
    "  ctrl = value ~ treat + age_demean + I(age_demean^2) + male + coordinate +\n",
    "    hospital_per_area + PB_per_area + BM_per_area +\n",
    "    factor(prefecture) + factor(month) + factor(week)\n",
    ")\n",
    "\n",
    "est_stock <- stock %>%\n",
    "  group_by(outcome) %>%\n",
    "  nest() %>%\n",
    "  mutate(\n",
    "    fit1 = map(\n",
    "      data,\n",
    "      ~ lm_robust(\n",
    "        mod$unctrl,\n",
    "        data = .,\n",
    "        cluster = RCTweek,\n",
    "        se_type = \"stata\"\n",
    "      )\n",
    "    ),\n",
    "    fit2 = map(\n",
    "      data,\n",
    "      ~ lm_robust(\n",
    "        mod$ctrl,\n",
    "        data = .,\n",
    "        cluster = RCTweek,\n",
    "        se_type = \"stata\"\n",
    "      )\n",
    "    )\n",
    "  ) %>%\n",
    "  pivot_longer(\n",
    "    fit1:fit2,\n",
    "    names_prefix = \"fit\",\n",
    "    names_to = \"model\",\n",
    "    values_to = \"fit\"\n",
    "  )\n",
    "\n",
    "ctrl_avg <- stock %>%\n",
    "  dplyr::filter(treat == \"A\") %>%\n",
    "  group_by(outcome) %>%\n",
    "  summarize(mean = sprintf(\"%1.4f\", mean(value)))\n",
    "\n",
    "add_table <- tibble::tribble(\n",
    "  ~term, ~\"(1)\", ~\"(2)\", ~\"(3)\", ~\"(4)\", ~\"(5)\", ~\"(6)\",\n",
    "  \"Control average\", ctrl_avg$mean[1], ctrl_avg$mean[1],\n",
    "  ctrl_avg$mean[2], ctrl_avg$mean[2],\n",
    "  ctrl_avg$mean[3], ctrl_avg$mean[3],\n",
    "  \"Covariates\", \"\", \"X\", \"\", \"X\", \"\", \"X\"\n",
    ")\n",
    "\n",
    "attr(add_table, \"position\") <- 9:12\n",
    "\n",
    "est_stock %>%\n",
    "  pull(fit) %>%\n",
    "  setNames(paste0(\"(\", seq_len(length(.)), \")\")) %>%\n",
    "  modelsummary(\n",
    "    title = \"Linear Probability Model of Replay and Intention\",\n",
    "    coef_map = c(\n",
    "      \"(Intercept)\" = \"Constant\",\n",
    "      \"treatB\" = \"Treatment B\",\n",
    "      \"treatC\" = \"Treatment C\",\n",
    "      \"treatD\" = \"Treatment D\"\n",
    "    ),\n",
    "    stars = c(\"***\" = .01, \"**\" = .05, \"*\" = .1),\n",
    "    fmt = 4,\n",
    "    gof_omit = \"R2|AIC|BIC|Log|Std|FE|se_type\",\n",
    "    add_rows = add_table,\n",
    "  ) %>%\n",
    "  kableExtra::kable_styling() %>%\n",
    "  kableExtra::add_header_above(c(\n",
    "    \" \" = 1, \"Reply\" = 2, \"Positive\" = 2, \"Negative\" = 2\n",
    "  )) %>%\n",
    "  kableExtra::add_header_above(c(\n",
    "    \" \" = 3, \"Intention\" = 4\n",
    "  )) %>%\n",
    "  kableExtra::footnote(\n",
    "    paste(\n",
    "      \"* p < 0.1, ** p < 0.05, *** p < 0.01.\",\n",
    "      \"Standard errors clustered by experimental weeks\",\n",
    "      \"are reported in parentheses.\",\n",
    "      \"Covariates are gender, squared polynomial of (demeaned) age,\",\n",
    "      \"number of past coordinations,\",\n",
    "      \"number of hospitals per 10 square kilometers,\",\n",
    "      \"number of hospitals with PBSC collection per 10 square kilometers,\",\n",
    "      \"number of hospitals with BM collection per 10 square kilometers,\",\n",
    "      \"prefecture dummies, month dummies, and week dummies.\"\n",
    "    ),\n",
    "    threeparttable = TRUE\n",
    "  ) %>%\n",
    "  # print()\n",
    "  as.character() %>%\n",
    "  display_html()"
   ]
  },
  {
   "attachments": {},
   "cell_type": "markdown",
   "metadata": {},
   "source": [
    "上表は線形確率モデルの推定結果である。奇数列は実験群ダミーのみを説明変数として用いているのに対して、偶数列は個人属性や月・週の固定効果も制御している。列(1)は、確率メッセージを加えた適合通知を送付する実験群Bが返信率を$0.01$もしくは$1.2$%高めていることを示している。個人属性などをコントロールする（列(2)）と、効果のサイズは大きく変化しないが、統計的に5%水準で有意となる。この効果は正の意向を伴った返信の増加に由来している。列(3)と(5)では、実験群Bが正の意向を伴った返信率を$0.02$もしくは$3.94$%高めている一方で、負の意向を伴った返信率を$0.01$もしくは$3.42$%下げている。ただし、これらの統計的な有意性は弱い。また、実験群CとDは実験群Bよりも効果のサイズが小さく、統計的に非有意である。我々は頑健性の分析としてロジットモデルを推定した。その結果は効果の方向について上表と整合的であるが、統計的に非有意である。総合すると、我々の介入は全体的に返信に大きな影響を与えていない。"
   ]
  },
  {
   "cell_type": "code",
   "execution_count": 10,
   "metadata": {
    "vscode": {
     "languageId": "r"
    }
   },
   "outputs": [
    {
     "name": "stderr",
     "output_type": "stream",
     "text": [
      "3 coefficients  not defined because the design matrix is rank deficient\n",
      "\n",
      "\n"
     ]
    },
    {
     "name": "stderr",
     "output_type": "stream",
     "text": [
      "3 coefficients  not defined because the design matrix is rank deficient\n",
      "\n",
      "\n"
     ]
    },
    {
     "name": "stderr",
     "output_type": "stream",
     "text": [
      "3 coefficients  not defined because the design matrix is rank deficient\n",
      "\n",
      "\n"
     ]
    },
    {
     "name": "stderr",
     "output_type": "stream",
     "text": [
      "3 coefficients  not defined because the design matrix is rank deficient\n",
      "\n",
      "\n"
     ]
    },
    {
     "name": "stderr",
     "output_type": "stream",
     "text": [
      "3 coefficients  not defined because the design matrix is rank deficient\n",
      "\n",
      "\n"
     ]
    },
    {
     "name": "stderr",
     "output_type": "stream",
     "text": [
      "3 coefficients  not defined because the design matrix is rank deficient\n",
      "\n",
      "\n"
     ]
    },
    {
     "name": "stderr",
     "output_type": "stream",
     "text": [
      "3 coefficients  not defined because the design matrix is rank deficient\n",
      "\n",
      "\n"
     ]
    },
    {
     "name": "stderr",
     "output_type": "stream",
     "text": [
      "3 coefficients  not defined because the design matrix is rank deficient\n",
      "\n",
      "\n"
     ]
    },
    {
     "name": "stderr",
     "output_type": "stream",
     "text": [
      "3 coefficients  not defined because the design matrix is rank deficient\n",
      "\n",
      "\n"
     ]
    },
    {
     "name": "stderr",
     "output_type": "stream",
     "text": [
      "3 coefficients  not defined because the design matrix is rank deficient\n",
      "\n",
      "\n"
     ]
    },
    {
     "name": "stderr",
     "output_type": "stream",
     "text": [
      "3 coefficients  not defined because the design matrix is rank deficient\n",
      "\n",
      "\n"
     ]
    },
    {
     "name": "stderr",
     "output_type": "stream",
     "text": [
      "3 coefficients  not defined because the design matrix is rank deficient\n",
      "\n",
      "\n"
     ]
    },
    {
     "name": "stderr",
     "output_type": "stream",
     "text": [
      "\u001b[1m\u001b[22mAdding missing grouping variables: `outcome`\n"
     ]
    },
    {
     "data": {
      "image/png": "[encoded data removed]",
      "text/plain": [
       "plot without title"
      ]
     },
     "metadata": {
      "image/png": {
       "height": 600,
       "width": 900
      }
     },
     "output_type": "display_data"
    }
   ],
   "source": [
    "#| label: reg-reply-stock-subsample\n",
    "#| fig-cap: 'Effect on Reply and Intentions by Gender and Age Group. Note: These plots show the average effect (and associated 95% confidential interval) on each outcome by gender and age group. We cluster standard errors by experimental weeks. We control number of past coordinations, number of hospitals per 10 square kilometers, number of hospitals with PBSC collection per 10 square kilometers, number of hospitals with BM collection per 10 square kilometers, prefecture dummies, month dummies, and week dummies.'\n",
    "\n",
    "est_stock_sub <- stock %>%\n",
    "  mutate(age_less30 = if_else(age < 30, 1, 0)) %>%\n",
    "  group_by(outcome, male, age_less30) %>%\n",
    "  nest() %>%\n",
    "  mutate(est = map(data, ~ lm_robust(\n",
    "    update(mod$ctrl, . ~ . - male - age_demean),\n",
    "    cluster = RCTweek,\n",
    "    se_type = \"stata\",\n",
    "    data = .x\n",
    "  ))) %>%\n",
    "  mutate(\n",
    "    fit = map(est, tidy),\n",
    "    fit = map(fit, ~ subset(.x, str_detect(term, \"treat\"))),\n",
    "    fit = map(fit, ~ dplyr::select(.x, -outcome)),\n",
    "    N = map_chr(est, ~ paste(\"N =\", nobs(.x))),\n",
    "    mean = map_dbl(data, ~ with(subset(., treat == \"A\"), mean(value))),\n",
    "    mean = sprintf(\"Control avg = %1.3f\", mean)\n",
    "  ) %>%\n",
    "  select(-data, -est) %>%\n",
    "  unnest(cols = fit) %>%\n",
    "  mutate(\n",
    "    pos = paste0(male, age_less30),\n",
    "    pos = factor(\n",
    "      pos,\n",
    "      levels = c(\"01\", \"00\", \"11\", \"10\"),\n",
    "      labels = c(\n",
    "        \"Female\\u00d7\\nAge<30\",\n",
    "        \"Female\\u00d7\\n30\\u2264Age\",\n",
    "        \"Male\\u00d7\\nAge<30\",\n",
    "        \"Male\\u00d7\\n30\\u2264Age\"\n",
    "      )\n",
    "    ),\n",
    "    term = str_replace(term, \"treat\", \"\"),\n",
    "    term = factor(term, LETTERS[2:4])\n",
    "  )\n",
    "\n",
    "text <- est_stock_sub %>%\n",
    "  select(male, age_less30, pos, N, mean) %>%\n",
    "  distinct()\n",
    "\n",
    "plot_list <- unique(est_stock_sub$outcome) %>%\n",
    "  purrr::map(function(x) {\n",
    "    subset(est_stock_sub, outcome == x) %>%\n",
    "      ggplot(aes(x = pos, y = estimate)) +\n",
    "      geom_hline(aes(yintercept = 0), linetype = 2) +\n",
    "      geom_point(\n",
    "        aes(color = term, shape = term),\n",
    "        size = 3, position = position_dodge(0.5)\n",
    "      ) +\n",
    "      geom_errorbar(\n",
    "        aes(ymin = conf.low, ymax = conf.high, color = term),\n",
    "        position = position_dodge(0.5),\n",
    "        width = 0\n",
    "      ) +\n",
    "      geom_text(\n",
    "        aes(y = -0.125, label = N),\n",
    "        data = subset(text, outcome == x),\n",
    "        color = \"black\"\n",
    "      ) +\n",
    "      geom_text(\n",
    "        aes(y = -0.15, label = mean),\n",
    "        data = subset(text, outcome == x),\n",
    "        color = \"black\"\n",
    "      ) +\n",
    "      scale_y_continuous(\n",
    "        breaks = seq(-0.2, 0.2, by = 0.05), limits = c(-0.17, 0.17)\n",
    "      ) +\n",
    "      labs(\n",
    "        title = paste(\"Outcome:\", x),\n",
    "        x = \"Subset\",\n",
    "        y = \"Estimated Effects (95%CI)\",\n",
    "        color = \"Treatment\", shape = \"Treatment\"\n",
    "      ) +\n",
    "      simplegg()\n",
    "  })\n",
    "\n",
    "wrap_plots(plot_list, ncol = 2) +\n",
    "  plot_layout(guides = \"collect\") &\n",
    "  theme(legend.position = \"bottom\")"
   ]
  },
  {
   "attachments": {},
   "cell_type": "markdown",
   "metadata": {},
   "source": [
    "次に、メッセージの効果の異質性を検証するために、我々は性別と年齢層（30歳未満かどうか）でサンプルを4分割して、各サブセットでメッセージの効果を推定している。上図はその係数プロットである。その結果、確率メッセージを加えた実験群BとDは30歳未満の男性の返信率を$0.06$もしくは$8.06$%高めている（ベースラインの返信率は$74.4$%）。とくに、確率メッセージだけを加えた実験群Bの効果は正の意向を伴う返信率の増加に起因している。このグループで、実験群Bは正の意向を伴う返信率を$0.1$もしくは$25.91$%高めている（ベースラインの比率は$38.6$%）一方で、負の意向を伴う返信率を$0.03$もしくは$8.38$%下げている（ベースラインの比率は$35.8$%）。これらは統計的に有意な効果である。対して、他の性年代のグループ（とくに、30歳以上の男女）では、介入メッセージが返信や意向に大きな影響を与えていない。ただし、30歳未満の女性で、実験群Dが正の意向を伴う返信率を$0.05$もしくは$9.69$%下げている。したがって、他のドナー候補者が少ないというメッセージは若年男性の提供意向を高め、適合通知への返信を促している。若年男性ドナーは移植成績が良いにも関わらず、提供意向が他の性年代よりも明らかに低いことを考慮すると、確率メッセージは移植コーディネーションの効率性を改善しているといえる"
   ]
  },
  {
   "attachments": {},
   "cell_type": "markdown",
   "metadata": {},
   "source": [
    "## Response Speed to Notification"
   ]
  },
  {
   "cell_type": "code",
   "execution_count": 20,
   "metadata": {
    "vscode": {
     "languageId": "r"
    }
   },
   "outputs": [],
   "source": [
    "flow <- stock %>%\n",
    "  mutate(\n",
    "    days_reply = if_else(is.na(days_reply), 10000, days_reply),\n",
    "    days4 = if_else(days_reply <= 4, value, 0),\n",
    "    days7 = if_else(days_reply <= 7, value, 0),\n",
    "    days10 = if_else(days_reply <= 10, value, 0),\n",
    "    days14 = if_else(days_reply <= 14, value, 0),\n",
    "    days21 = if_else(days_reply <= 21, value, 0),\n",
    "    days28 = if_else(days_reply <= 28, value, 0)\n",
    "  ) %>%\n",
    "  select(-value) %>%\n",
    "  pivot_longer(days4:days28, \"within\", \"days\") %>%\n",
    "  mutate(within = as.numeric(within))"
   ]
  },
  {
   "attachments": {},
   "cell_type": "markdown",
   "metadata": {},
   "source": [
    "患者メッセージはドナー候補者の利他性を刺激しており、特に、適合通知に早く返信することで患者の移植率に貢献できることを強調している。そこで、確率メッセージも含めた二つの介入メッセージが適合通知への返信スピードにどのような影響を与えたかを検証する。そこで、我々は$d$日以内に返信する確率$\\text{Pr}(D_{imw} \\le d)$を線形確率モデルで推定する。このとき、アウトカム変数は$d$日以内に返信したならば1を取るようなダミー変数である。ただし、$d$の値を十分に大きくすると、$\\text{Pr}(D_{imw} \\le d)$に対する効果は前小節で示した返信に対する効果と一致する。\n",
    "\n",
    "また、前小節と同様に、$\\text{Pr}(D_{imw} \\le d)$に対する効果を提供意向の観点から二つの効果に分解する。正の意向については、提供意向があり、かつ$d$日以内に返信したならば1を取るようなダミー変数である。負の意向については、提供意向がなく、かつ$d$日以内に返信したならば1を取るようなダミー変数である。"
   ]
  },
  {
   "cell_type": "code",
   "execution_count": 21,
   "metadata": {
    "vscode": {
     "languageId": "r"
    }
   },
   "outputs": [
    {
     "name": "stderr",
     "output_type": "stream",
     "text": [
      "3 coefficients  not defined because the design matrix is rank deficient\n",
      "\n",
      "\n",
      "3 coefficients  not defined because the design matrix is rank deficient\n",
      "\n",
      "\n",
      "3 coefficients  not defined because the design matrix is rank deficient\n",
      "\n",
      "\n",
      "3 coefficients  not defined because the design matrix is rank deficient\n",
      "\n",
      "\n",
      "3 coefficients  not defined because the design matrix is rank deficient\n",
      "\n",
      "\n",
      "3 coefficients  not defined because the design matrix is rank deficient\n",
      "\n",
      "\n",
      "3 coefficients  not defined because the design matrix is rank deficient\n",
      "\n",
      "\n",
      "3 coefficients  not defined because the design matrix is rank deficient\n",
      "\n",
      "\n",
      "3 coefficients  not defined because the design matrix is rank deficient\n",
      "\n",
      "\n",
      "3 coefficients  not defined because the design matrix is rank deficient\n",
      "\n",
      "\n",
      "3 coefficients  not defined because the design matrix is rank deficient\n",
      "\n",
      "\n",
      "3 coefficients  not defined because the design matrix is rank deficient\n",
      "\n",
      "\n",
      "3 coefficients  not defined because the design matrix is rank deficient\n",
      "\n",
      "\n",
      "3 coefficients  not defined because the design matrix is rank deficient\n",
      "\n",
      "\n",
      "3 coefficients  not defined because the design matrix is rank deficient\n",
      "\n",
      "\n",
      "3 coefficients  not defined because the design matrix is rank deficient\n",
      "\n",
      "\n",
      "3 coefficients  not defined because the design matrix is rank deficient\n",
      "\n",
      "\n",
      "3 coefficients  not defined because the design matrix is rank deficient\n",
      "\n",
      "\n",
      "\u001b[1m\u001b[22m`summarise()` has grouped output by 'outcome'. You can override using the\n",
      "`.groups` argument.\n"
     ]
    },
    {
     "data": {
      "image/png": "[encoded data removed]",
      "text/plain": [
       "plot without title"
      ]
     },
     "metadata": {
      "image/png": {
       "height": 600,
       "width": 900
      }
     },
     "output_type": "display_data"
    }
   ],
   "source": [
    "#| label: reg-reply-flow\n",
    "#| fig-cap: \"Effect on Reply within Specific Days after Sending Notification. Notes: These plots show the average effect (and associated 95% confidential interval) on each outcome.\"\n",
    "est_flow <- flow %>%\n",
    "  group_by(outcome, within) %>%\n",
    "  nest() %>%\n",
    "  mutate(fit = map(data, ~ lm_robust(\n",
    "    mod$ctrl,\n",
    "    cluster = RCTweek,\n",
    "    se_type = \"stata\",\n",
    "    data = .x\n",
    "  ))) %>%\n",
    "  mutate(\n",
    "    tidy = map(fit, tidy),\n",
    "    tidy = map(tidy, ~ subset(.x, str_detect(term, \"treat\"))),\n",
    "    tidy = map(tidy, ~ dplyr::select(.x, -outcome))\n",
    "  ) %>%\n",
    "  dplyr::select(-data, -fit) %>%\n",
    "  unnest(cols = tidy) %>%\n",
    "  mutate(\n",
    "    term = str_replace(term, \"treat\", \"\"),\n",
    "    term = factor(term, LETTERS[2:4])\n",
    "  )\n",
    "\n",
    "ctrl_avg <- flow %>%\n",
    "  dplyr::filter(treat == \"A\") %>%\n",
    "  group_by(outcome, within) %>%\n",
    "  summarize(mean = mean(value)) %>%\n",
    "  mutate(mean = sprintf(\"%1d\\n(%1.3f)\", within, mean))\n",
    "\n",
    "plot_list <- unique(est_flow$outcome) %>%\n",
    "  purrr::map(function(x) {\n",
    "    subset(est_flow, outcome == x) %>%\n",
    "      ggplot(aes(x = within, y = estimate, color = term, shape = term)) +\n",
    "      geom_hline(aes(yintercept = 0), linetype = 2) +\n",
    "      geom_point(size = 3, position = position_dodge(2)) +\n",
    "      geom_errorbar(\n",
    "        aes(ymin = conf.low, ymax = conf.high),\n",
    "        position = position_dodge(2),\n",
    "        width = 0\n",
    "      ) +\n",
    "      scale_x_continuous(\n",
    "        breaks = subset(ctrl_avg, outcome == x)$within,\n",
    "        labels = subset(ctrl_avg, outcome == x)$mean\n",
    "      ) +\n",
    "      scale_y_continuous(\n",
    "        breaks = seq(-0.2, 0.2, by = 0.025), limits = c(-0.1, 0.05)\n",
    "      ) +\n",
    "      labs(\n",
    "        title = paste(\"Outcome:\", x),\n",
    "        x = \"Days after sending notification\\n(Control average)\",\n",
    "        y = \"Estimated Effects (95%CI)\",\n",
    "        color = \"Treatment\", shape = \"Treatment\"\n",
    "      ) +\n",
    "      simplegg()\n",
    "  })\n",
    "\n",
    "wrap_plots(plot_list, ncol = 2) +\n",
    "  plot_layout(guides = \"collect\") &\n",
    "  theme(legend.position = \"bottom\")"
   ]
  }
 ],
 "metadata": {
  "kernelspec": {
   "display_name": "IR 4.2",
   "language": "R",
   "name": "ir42"
  },
  "language_info": {
   "codemirror_mode": "r",
   "file_extension": ".r",
   "mimetype": "text/x-r-source",
   "name": "R",
   "pygments_lexer": "r",
   "version": "4.2.2"
  },
  "vscode": {
   "interpreter": {
    "hash": "369f2c481f4da34e4445cda3fffd2e751bd1c4d706f27375911949ba6bb62e1c"
   }
  }
 },
 "nbformat": 4,
 "nbformat_minor": 2
}
