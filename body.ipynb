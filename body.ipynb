{
 "cells": [
  {
   "cell_type": "raw",
   "metadata": {},
   "source": [
    "---\n",
    "title: |\n",
    "  Only You:\n",
    "  A Field Experiment of Text Message to Prevent Free-riding in Japan Marrow Donor Program\n",
    "author:\n",
    "  - name: Hiroki Kato\n",
    "    affiliations:\n",
    "      - Graduate School of Economics, Osaka University, Japan\n",
    "  - name: Fumio Ohtake\n",
    "    affiliations:\n",
    "      - Graduate School of Economics, Osaka University, Japan\n",
    "      - Center for Infectious Disease Education and Research (CiDER), Osaka University, Japan\n",
    "  - name: Saiko Kurosawa\n",
    "    affiliations:\n",
    "      - Department of Oncology, Ina Central Hospital, Japan\n",
    "  - name: Kazuhiro Yoshiuchi\n",
    "    affiliations:\n",
    "      - Graduate School of Medicine, Tokyo University, Japan\n",
    "  - name: Takahiro Fukuda\n",
    "    affiliations:\n",
    "      - Department of Hematopoietic Stem Cell Transplantation, National Cancer Center Hospital, Japan\n",
    "date: last-modified\n",
    "date-format: \"[Last Updated on] MMMM D, YYYY\"\n",
    "\n",
    "pdf-engine: lualatex\n",
    "format:\n",
    "    pdf:\n",
    "      documentclass: bxjsarticle\n",
    "      classoption:\n",
    "        - pandoc\n",
    "        - ja=standard\n",
    "        - jafont=haranoaji\n",
    "      papersize: a4\n",
    "      fontsize: 11pt\n",
    "      include-in-header:\n",
    "        text: |\n",
    "          \\usepackage{authblk}\n",
    "          \\usepackage{siunitx}\n",
    "          \\usepackage{threeparttable, threeparttablex, multirow}\n",
    "          \\newcolumntype{d}{S[input-symbols = ()]}\n",
    "          \\usepackage{lscape}\n",
    "      geometry:\n",
    "        - top=30mm\n",
    "        - left=30mm\n",
    "        - right=30mm\n",
    "        - bottom=30mm\n",
    "      toc: false\n",
    "      number-sections: true\n",
    "      fig-format: pdf\n",
    "      fig-pos: t\n",
    "      template-partials:\n",
    "        - tex/title.tex\n",
    "    html:\n",
    "      number-sections: true\n",
    "      code-fold: true\n",
    "      title-block-banner: true\n",
    "    docx:\n",
    "      number-sections: true\n",
    "      toc: false\n",
    "\n",
    "jupyter:\n",
    "  kernelspec:\n",
    "    display_name: IR 4.2\n",
    "    language: R\n",
    "    name: ir42\n",
    "execute:\n",
    "  echo: false\n",
    "  warning: false\n",
    "  error: false\n",
    "  cache: false\n",
    "  enabled: true\n",
    "---"
   ]
  },
  {
   "cell_type": "code",
   "execution_count": 1,
   "metadata": {
    "vscode": {
     "languageId": "r"
    }
   },
   "outputs": [],
   "source": [
    "#| include: false\n",
    "\n",
    "library(repr)\n",
    "library(IRdisplay)\n",
    "options(repr.plot.width=15, repr.plot.height=10)"
   ]
  },
  {
   "cell_type": "code",
   "execution_count": 2,
   "metadata": {
    "vscode": {
     "languageId": "r"
    }
   },
   "outputs": [],
   "source": [
    "#| include: false\n",
    "\n",
    "library(here)\n",
    "library(tidyverse)\n",
    "library(lubridate)\n",
    "library(estimatr)\n",
    "library(fixest)\n",
    "library(modelsummary)\n",
    "library(kableExtra)\n",
    "library(flextable)\n",
    "library(officer)\n",
    "library(RCTtoolbox)\n",
    "library(patchwork)\n",
    "\n",
    "options(\n",
    "  knitr.table.format = \"markdown\",\n",
    "  kableExtra.auto_format = FALSE,\n",
    "  modelsummary_stars_note = FALSE,\n",
    "  modelsummary_factory_default = \"latex\",\n",
    "  modelsummary_factory_html = \"kableExtra\",\n",
    "  modelsummary_factory_latex = \"kableExtra\",\n",
    "  modelsummary_factory_word = \"flextable\"\n",
    ")"
   ]
  },
  {
   "cell_type": "code",
   "execution_count": 3,
   "metadata": {
    "vscode": {
     "languageId": "r"
    }
   },
   "outputs": [],
   "source": [
    "#| include: false\n",
    "\n",
    "root <- \"D:/JMDPフィールド実験\"\n",
    "\n",
    "outcome_label <- list(\n",
    "  reply = \"Reply\",\n",
    "  positive = \"Positive intention\",\n",
    "  negative = \"Negative intention\",\n",
    "  test = \"CT\",\n",
    "  candidate = \"Candidate\",\n",
    "  consent = \"Consent\",\n",
    "  donate = \"Donation\"\n",
    ")"
   ]
  },
  {
   "attachments": {},
   "cell_type": "markdown",
   "metadata": {},
   "source": [
    "# Field Experiment\n",
    "## Background: Coordination Process of JMDP"
   ]
  },
  {
   "attachments": {},
   "cell_type": "markdown",
   "metadata": {},
   "source": [
    "\n",
    "フィールド実験の介入のタイミングとデータの理解を促すために、骨髄バンクに登録したドナー候補者が幹細胞を提供するに至るまでの工程を概観しておく。\n",
    "はじめに、あるドナー候補者のHLAが骨髄バンクに登録した患者のHLAと一致すると、骨髄バンクの事務局はその候補者に幹細胞提供を依頼する適合通知を送付する[^SNS]。\n",
    "ドナー候補者は適合通知に対して提供の意向と問診表を記入して、返信する。\n",
    "\n",
    "[^SNS]: 適合通知を送付したことを伝えるSMSメッセージも送付している。\n",
    "\n",
    "提供を希望したドナー候補者はおよそ1カ月以内に確認検査を受ける。確認検査では、コーディネーターが提供方法（骨髄採取・末梢血幹細胞採取）を詳細に説明し、ドナー候補者とその家族の意向について調査する。\n",
    "このとき、ドナー候補者は希望する採取方法を選べる。\n",
    "また、調整医師が問診・診察・感染症の有無や血液型を調べるための一般血液検査を実施する。\n",
    "この検査を通じて、ドナー候補者が、骨髄バンクが設定した基準を満たしているかどうかを調べる。\n",
    "\n",
    "骨髄バンクに登録したドナーは同時に最大10人のドナー候補者とのコーディネーションを進められる。\n",
    "患者の主治医は確認検査まで至った複数のドナー候補者の中から最も最適な候補者（第一候補者）を選ぶ。\n",
    "重要な点であるが、ドナー候補者は自身とマッチした患者が何人のドナーとのコーディネーションを進めているかを知ることができない。\n",
    "また、コーディネーターや調整医師もこの点を知らないので、ドナー候補者が他者からその情報を得ることもできない。\n",
    "\n",
    "第一候補者となったドナーはコーディネーターと調整医師からの説明を再度受けて、最終的な意思決定をする（最終同意）。\n",
    "このとき、ドナーの家族の代表者も採取に同意する必要がある。\n",
    "また、最終同意後、ドナーは自分の意向を変えられない。\n",
    "最終的な同意をした後、ドナーは約1週間の入院をして、術前検査と採取準備（貧血を防ぐための自己血採血）を受ける。\n",
    "この後、ドナーは幹細胞を採取する処置を受ける。確認検査から採取までの期間はおよそ3～4カ月程度である。"
   ]
  },
  {
   "attachments": {},
   "cell_type": "markdown",
   "metadata": {},
   "source": [
    "## Experimental Design"
   ]
  },
  {
   "attachments": {},
   "cell_type": "markdown",
   "metadata": {},
   "source": [
    "![Intervention Messages](image/intervention.png){#fig-intervention}\n",
    "\n",
    "我々は、骨髄バンクがドナー候補者に幹細胞提供を依頼する適合通知の内容に介入を施した。上図に介入の内容を示す。\n",
    "介入前の適合通知はドナー候補者として選ばれたこと、7日以内に提供意思と問診表を記入して返信してほしいことを記載している。\n",
    "また、適合通知と併せて同封した資料の一つは先の小節で述べた採取までの流れを示したハンドブックである。\n",
    "\n",
    "我々はコーディネーションの促進を目的として、適合通知に行動科学の知見に基づく二種類のメッセージを追加した（@fig-intervention）[^pressure]。\n",
    "確率メッセージは骨髄バンクに登録した患者とHLA型が一致するドナー登録者が少ないことを強調している。\n",
    "これは同時に進行している他のドナー候補者の数に関する信念の過大評価を防ぎ、幹細胞提供の「ただ乗り」行動を抑制できる可能性がある。\n",
    "\n",
    "[^pressure]: メッセージの作成の際、我々はドナー候補者に過度なプレッシャーを与えないように適切な配慮をしている。第一に、嘆願調のようなメッセージを避けている。第二に、メッセージの作成に際して、骨髄バンクが公開している情報のみを使用している。第三に、これまでと同様に移植リスクに関する説明をしている。\n",
    "\n",
    "患者メッセージは骨髄バンクを通して移植を受けられる患者が半数しかいないことを強調している。\n",
    "これは自分が協力しなくても患者は助かるだろうという認識を修正し、ドナー候補者の利他性を刺激していることを目的としている。\n",
    "さらに、提供に至るまでの期間を短くすることの重要性を強調することで、適合通知への早い返信を促している。\n",
    "\n",
    "二種類の介入メッセージの効果を推定するために、我々は四つの実験群を設ける。\n",
    "実験群Aは介入メッセージのない適合通知を送る（コントロール群）。実験群BとCはそれぞれ確率メッセージと患者情報メッセージを送る。\n",
    "さらに、情報過多による認知負荷の負の影響を検証するために、二つの介入メッセージを両方加えた適合通知を送付する実験群Dも設ける。"
   ]
  },
  {
   "cell_type": "code",
   "execution_count": 4,
   "metadata": {
    "vscode": {
     "languageId": "r"
    }
   },
   "outputs": [
    {
     "name": "stderr",
     "output_type": "stream",
     "text": [
      "\u001b[1mRows: \u001b[22m\u001b[34m24\u001b[39m \u001b[1mColumns: \u001b[22m\u001b[34m7\u001b[39m\n"
     ]
    },
    {
     "name": "stderr",
     "output_type": "stream",
     "text": [
      "\u001b[36m──\u001b[39m \u001b[1mColumn specification\u001b[22m \u001b[36m────────────────────────────────────────────────────────\u001b[39m\n",
      "\u001b[1mDelimiter:\u001b[22m \",\"\n",
      "\u001b[31mchr\u001b[39m  (1): treat\n",
      "\u001b[32mdbl\u001b[39m  (4): year, month, week, RCTweek\n",
      "\u001b[34mdate\u001b[39m (2): start_date, end_date\n"
     ]
    },
    {
     "name": "stderr",
     "output_type": "stream",
     "text": [
      "\n",
      "\u001b[36mℹ\u001b[39m Use `spec()` to retrieve the full column specification for this data.\n",
      "\u001b[36mℹ\u001b[39m Specify the column types or set `show_col_types = FALSE` to quiet this message.\n"
     ]
    }
   ],
   "source": [
    "#| include: false\n",
    "\n",
    "schedule <- read_csv(here(root, \"RCT-schedule.csv\"))"
   ]
  },
  {
   "cell_type": "code",
   "execution_count": 5,
   "metadata": {
    "vscode": {
     "languageId": "r"
    }
   },
   "outputs": [
    {
     "name": "stdout",
     "output_type": "stream",
     "text": [
      "\n",
      "\n",
      "|week   | Sep 21 | Oct 21 | Nov 21 | Dec 21 | Jan 22 | Feb 22 |\n",
      "|:------|:------:|:------:|:------:|:------:|:------:|:------:|\n",
      "|Week 1 |   B    |   C    |   C    |   D    |   B    |   A    |\n",
      "|Week 2 |   D    |   B    |   A    |   A    |   C    |   B    |\n",
      "|Week 3 |   A    |   D    |   B    |   C    |   D    |   C    |\n",
      "|Week 4 |   C    |   A    |   D    |   B    |   A    |   D    |\n"
     ]
    }
   ],
   "source": [
    "#| label: tbl-assignment\n",
    "#| tbl-cap: \"Assignment Schedule\"\n",
    "#| output: asis\n",
    "\n",
    "schedule %>%\n",
    "  mutate(\n",
    "    my = paste0(month, \"/\", year - 2000),\n",
    "    my = factor(\n",
    "      my,\n",
    "      levels = c(\"9/21\", \"10/21\", \"11/21\", \"12/21\", \"1/22\", \"2/22\"),\n",
    "      labels = c(\"Sep 21\", \"Oct 21\", \"Nov 21\", \"Dec 21\", \"Jan 22\", \"Feb 22\")\n",
    "    ),\n",
    "    week = factor(week, levels = 1:4, labels = paste(\"Week\", 1:4))\n",
    "  ) %>%\n",
    "  dplyr::select(week, my, treat) %>%\n",
    "  pivot_wider(values_from = treat, names_from = my) %>%\n",
    "  kable(\n",
    "    align = 'lcccccc',\n",
    "    booktabs = TRUE,\n",
    "    linesep = \"\"\n",
    "  ) %>%\n",
    "  print()"
   ]
  },
  {
   "attachments": {},
   "cell_type": "markdown",
   "metadata": {},
   "source": [
    "我々は2021年9月から2022年2月にかけて骨髄バンクが適合通知を送付したドナー候補者11,154名をフィールド実験の対象とした。実験群の割り当ては骨髄バンク事務局の業務の無理のない範囲で週単位でクラスターランダム化した。このとき、週・月の固定効果を取り除けるように、実験群が週・月でバランスするように割り当てた。割り当てのスケジュールは @tbl-assignment にまとめている。"
   ]
  },
  {
   "attachments": {},
   "cell_type": "markdown",
   "metadata": {},
   "source": [
    "## Data and Empirical Strategy"
   ]
  },
  {
   "cell_type": "code",
   "execution_count": 6,
   "metadata": {
    "vscode": {
     "languageId": "r"
    }
   },
   "outputs": [
    {
     "name": "stderr",
     "output_type": "stream",
     "text": [
      "\u001b[1mRows: \u001b[22m\u001b[34m11153\u001b[39m \u001b[1mColumns: \u001b[22m\u001b[34m39\u001b[39m\n"
     ]
    },
    {
     "name": "stderr",
     "output_type": "stream",
     "text": [
      "\u001b[36m──\u001b[39m \u001b[1mColumn specification\u001b[22m \u001b[36m────────────────────────────────────────────────────────\u001b[39m\n",
      "\u001b[1mDelimiter:\u001b[22m \",\"\n",
      "\u001b[31mchr\u001b[39m   (6): treat, prefecture, reasonBM, reasonPB, plan_method, method\n",
      "\u001b[32mdbl\u001b[39m  (31): year, month, week, RCTweek, id, sentenceB, sentenceC, toka, male,...\n",
      "\u001b[34mdate\u001b[39m  (2): start_date, end_date\n"
     ]
    },
    {
     "name": "stderr",
     "output_type": "stream",
     "text": [
      "\n",
      "\u001b[36mℹ\u001b[39m Use `spec()` to retrieve the full column specification for this data.\n",
      "\u001b[36mℹ\u001b[39m Specify the column types or set `show_col_types = FALSE` to quiet this message.\n"
     ]
    }
   ],
   "source": [
    "#| include: false\n",
    "\n",
    "rawdt <- read_csv(here(root, \"shaped.csv\"), locale = locale(encoding = \"cp932\"))\n",
    "\n",
    "use <- rawdt %>%\n",
    "  dplyr::filter(ongoing == 0) %>%\n",
    "  mutate(\n",
    "    treat = factor(treat, levels = LETTERS[1:4]),\n",
    "    plan_two_methods = if_else(plan_method == \"BM/PB\", 1, 0)\n",
    "  )"
   ]
  },
  {
   "cell_type": "code",
   "execution_count": 7,
   "metadata": {
    "vscode": {
     "languageId": "r"
    }
   },
   "outputs": [
    {
     "data": {
      "text/html": [
       "'F-value = 0.105; p-value = 0.956'"
      ],
      "text/latex": [
       "'F-value = 0.105; p-value = 0.956'"
      ],
      "text/markdown": [
       "'F-value = 0.105; p-value = 0.956'"
      ],
      "text/plain": [
       "[1] \"F-value = 0.105; p-value = 0.956\""
      ]
     },
     "metadata": {},
     "output_type": "display_data"
    }
   ],
   "source": [
    "#| include: false\n",
    "\n",
    "lm_robust(\n",
    "  ongoing ~ treat,\n",
    "  data = rawdt,\n",
    "  cluster = RCTweek,\n",
    "  se_type = \"stata\"\n",
    ") %>%\n",
    "{\n",
    "  f <- summary(.)$fstatistic[1]\n",
    "  numdf <- summary(.)$fstatistic[2]\n",
    "  dendf <- summary(.)$fstatistic[3]\n",
    "  p <- pf(f, numdf, dendf, lower.tail = FALSE)\n",
    "\n",
    "  sprintf(\"F-value = %1.3f; p-value = %1.3f\", f, p)\n",
    "}"
   ]
  },
  {
   "attachments": {},
   "cell_type": "markdown",
   "metadata": {},
   "source": [
    "我々は2022年6月末に骨髄バンクが管理するコーディネーションデータの提供を受けた。観測単位はフィールド実験の対象であるドナー候補者である。個人属性として性別・年齢・過去のコーディネーション回数・居住地域（都道府県レベル）を記録している。コーディネーションの過程について、提供に至るまでの各工程（適合通知への返信・確認検査・第一候補者選定・最終同意・採取）に到達したかどうかを記録しており、これらをアウトカム変数として用いる。特に、適合通知の返信については、返信したかどうかに加えて、返信日数・提供意向についても記録している。コーディネーションが途中で中断した場合、その理由を三つのカテゴリー（患者理由・ドナーの健康以外の理由・ドナーの健康上の理由）で記録している。分析対象は国内在住でコーディネーションが完全に終了している11,049名とする[^exclude]。\n",
    "\n",
    "[^exclude]: 海外に在住している人が1人いた。また、データ提供時点でコーディネーションが進行している人が104名いた。コーディネーションが進行している人の比率は実験群間でバランスしている（F-value, p-value = $0.956$）\n",
    "\n",
    "追加的なデータとして、我々はJMDPがホームページ上で公開している施設リストを用いる。このデータは病院の住所に加えて、骨髄採取が可能かどうか、末梢血幹細胞採取が可能かどうかを含んでいる。我々はこのデータを都道府県レベルで集計して、10平方キロメートル当たりの病院の数を計算し、コーディネーションデータと都道府県をキーとして突合する。我々はこの変数をコーディネーションや提供の移動コストとみなす。"
   ]
  },
  {
   "cell_type": "code",
   "execution_count": 8,
   "metadata": {
    "vscode": {
     "languageId": "r"
    }
   },
   "outputs": [
    {
     "name": "stdout",
     "output_type": "stream",
     "text": [
      "\\begin{table}\n",
      "\\centering\n",
      "\\begin{tabular}[t]{lccccc}\n",
      "\\toprule\n",
      "\\multicolumn{1}{c}{ } & \\multicolumn{4}{c}{Experimental Arms} & \\multicolumn{1}{c}{ } \\\\\n",
      "\\cmidrule(l{3pt}r{3pt}){2-5}\n",
      "  & A & B & C & D & F-test, p-value\\\\\n",
      "\\midrule\n",
      "\\addlinespace[0.3em]\n",
      "\\multicolumn{6}{l}{\\textbf{A. Interventions}}\\\\\n",
      "\\hspace{1em}Standard notification & X & X & X & X & \\\\\n",
      "\\hspace{1em}Probability message &  & X &  & X & \\\\\n",
      "\\hspace{1em}Patients message &  &  & X & X & \\\\\n",
      "\\addlinespace[0.3em]\n",
      "\\multicolumn{6}{l}{\\textbf{B. Sample Size}}\\\\\n",
      "\\hspace{1em}N & 2535 & 3053 & 2726 & 2735 & \\\\\n",
      "\\addlinespace[0.3em]\n",
      "\\multicolumn{6}{l}{\\textbf{C. Covariates, Balance Test}}\\\\\n",
      "\\hspace{1em}Male (=1) & \\num{0.62} & \\num{0.63} & \\num{0.63} & \\num{0.61} & \\num{0.36}\\\\\n",
      "\\hspace{1em}Age & \\num{38.38} & \\num{38.12} & \\num{37.45} & \\num{37.98} & \\num{0.07}\\\\\n",
      "\\hspace{1em}Number of past coordinations & \\num{1.61} & \\num{1.59} & \\num{1.62} & \\num{1.56} & \\num{0.45}\\\\\n",
      "\\hspace{1em}Number of listed hospitals & \\num{0.48} & \\num{0.49} & \\num{0.49} & \\num{0.49} & \\num{0.80}\\\\\n",
      "\\hspace{1em}Number of hospitals listed with PBSC collection & \\num{0.16} & \\num{0.17} & \\num{0.17} & \\num{0.16} & \\num{0.80}\\\\\n",
      "\\hspace{1em}Number of hospitals listed with BM collection & \\num{0.25} & \\num{0.26} & \\num{0.25} & \\num{0.25} & \\num{0.67}\\\\\n",
      "\\bottomrule\n",
      "\\end{tabular}\n",
      "\\end{table}\n"
     ]
    }
   ],
   "source": [
    "#| label: tbl-experiment-summary\n",
    "#| tbl-cap: \"Overview of Field Experiment\"\n",
    "#| output: asis\n",
    "\n",
    "balance_test <- use %>%\n",
    "  select(\n",
    "    male,\n",
    "    age,\n",
    "    coordinate,\n",
    "    hospital_per_area,\n",
    "    PB_per_area,\n",
    "    BM_per_area,\n",
    "    treat,\n",
    "    RCTweek\n",
    "  ) %>%\n",
    "  pivot_longer(male:BM_per_area, values_to = \"value\", names_to = \"vars\") %>%\n",
    "  group_by(vars) %>%\n",
    "  do(est = lm_robust(\n",
    "    value ~ treat,\n",
    "    clusters = RCTweek,\n",
    "    se_type = \"stata\",\n",
    "    data = .\n",
    "  )) %>%\n",
    "  summarize(\n",
    "    vars = vars,\n",
    "    f = summary(est)$fstatistic[1],\n",
    "    numdf = summary(est)$fstatistic[2],\n",
    "    dendf = summary(est)$fstatistic[3],\n",
    "    \"F-test, p-value\" = pf(f, numdf, dendf, lower.tail = FALSE)\n",
    "  )\n",
    "\n",
    "size <- with(use, sprintf(\"%1d\", table(treat))) %>%\n",
    "  {\n",
    "    tribble(\n",
    "      ~terms, ~A, ~B, ~C, ~D, ~\"F-test, p-value\",\n",
    "      \"Standard notification\", \"X\", \"X\", \"X\", \"X\", \"\",\n",
    "      \"Probability message\", \"\", \"X\", \"\", \"X\", \"\",\n",
    "      \"Patients message\", \"\", \"\", \"X\", \"X\", \"\",\n",
    "      \"N\", .[1], .[2], .[3], .[4], \"\"\n",
    "    )\n",
    "  }\n",
    "\n",
    "attr(size, \"position\") <- seq(nrow(size))\n",
    "\n",
    "use %>%\n",
    "  datasummary(\n",
    "    (`Male (=1)` = male) +\n",
    "    (`Age` = age) +\n",
    "    (`Number of past coordinations` = coordinate) +\n",
    "    (`Number of listed hospitals` = hospital_per_area) +\n",
    "    (`Number of hospitals listed with PBSC collection` = PB_per_area) +\n",
    "    (`Number of hospitals listed with BM collection` = BM_per_area) ~ mean * treat,\n",
    "    data = .,\n",
    "    add_rows = size,\n",
    "    add_columns = balance_test[c(5, 1, 3, 4, 6, 2), 5],\n",
    "    align = \"lccccc\",\n",
    "  ) %>%\n",
    "  kableExtra::kable_styling() %>%\n",
    "  add_header_above(c(\" \" = 1, \"Experimental Arms\" = 4, \" \" = 1)) %>%\n",
    "  group_rows(\"A. Interventions\", 1, 3) %>%\n",
    "  group_rows(\"B. Sample Size\", 4, 4) %>%\n",
    "  group_rows(\"C. Covariates, Balance Test\", 5, 10) %>%\n",
    "  print()"
   ]
  },
  {
   "attachments": {},
   "cell_type": "markdown",
   "metadata": {},
   "source": [
    "@tbl-experiment-summary はフィールド実験を概観している。パネルAは各実験群の介入をまとめており、パネルBは各実験群のサンプルサイズを示している。パネルCは共変量のバランステストの結果を示しており、割り当てのランダム化が成功しているかどうかを検証している。ほとんどの共変量が群間でバランスしているので、実験群の割り当てはおおよそランダムである。ただし、実験群C・Dのドナー候補者は実験群A・Bのドナー候補者よりも若く、群間でアンバランスな可能性がある（F-test, p-value = $0.07$）。\n",
    "\n",
    "ドナー候補者は実験群を選択できない、すなわち、実験群は外生的であるので、単純な二群比較は平均処置効果を識別できる。ただし、年齢および割り当ての週と月の数が実験群間で完全にバランスしていないので、単純な二群比較はバイアスを伴う可能性がある。そこで、二群比較に加えて、我々は$m$月の第$w$週に適合通知を受け取った個人$i$について以下の線形確率モデルを推定する、\n",
    "\n",
    "\\begin{equation}\n",
    "  Y_{imw} =\n",
    "  \\beta_1 \\cdot \\text{B}_{mw} + \\beta_2 \\cdot \\text{C}_{mw}\n",
    "  + \\beta_3 \\cdot \\text{D}_{mw}\n",
    "  + X'_i \\gamma + \\lambda_m + \\theta_w + u_{imw}\n",
    "\\end{equation}\n",
    "\n",
    "ここで、$X_i$は個人属性ベクトル、$\\lambda_m$と$\\theta_w$はそれぞれ週・月のダミー変数である。\n",
    "我々はランダム化のユニットである実験週レベルでクラスタした標準誤差を使用する。"
   ]
  },
  {
   "attachments": {},
   "cell_type": "markdown",
   "metadata": {},
   "source": [
    "# Results: Effects on Reply and Intentions"
   ]
  },
  {
   "cell_type": "code",
   "execution_count": 9,
   "metadata": {
    "vscode": {
     "languageId": "r"
    }
   },
   "outputs": [],
   "source": [
    "#| include: false\n",
    "\n",
    "stock <- use %>%\n",
    "  dplyr::filter(exg_stop_reply == 0) %>%\n",
    "  rename(positive = intention) %>%\n",
    "  mutate(\n",
    "    negative = reply * (1 - positive),\n",
    "    age_demean = age - mean(rawdt$age),\n",
    "  ) %>%\n",
    "  select(reply, positive, negative, everything()) %>%\n",
    "  pivot_longer(reply:negative, names_to = \"outcome\") %>%\n",
    "  mutate(outcome = factor(\n",
    "    outcome,\n",
    "    levels = unlist(names(outcome_label)[1:3]),\n",
    "    labels = unlist(outcome_label[1:3])\n",
    "  ))"
   ]
  },
  {
   "attachments": {},
   "cell_type": "markdown",
   "metadata": {},
   "source": [
    "はじめに、ドナー候補者の意向が最も現れる返信に対する効果を推定する。返信のアウトカム変数は提供意向に関わらず適合通知に返信したらならば1を取るダミー変数である。さらに、提供意向の変数を用いて、返信に対する効果を二つに分解する。第一に、正の意向を示して、適合通知に返信した効果である。アウトカム変数は適合通知に返信し、かつ提供の意向を示したならば1を取るダミー変数である。第二に、負の意向を示して、適合通知に返信した効果である。アウトカム変数は適合通知に返信し、かつ提供の意向を示さなければ1を取るダミー変数である。提供の意向に関する二つのアウトカム変数の和は必ず返信のアウトカム変数と一致するので、二つの意向に対する効果の和は必ず返信に対する効果となる。コントロール（実験群A）の返信率は$88.35$%である。正の意向を伴って返信した比率は$55.33$%である一方で、負の意向を伴って返信した比率は$33.03$%である。したがって、適合通知に返信したドナー候補者の$62.63$%が提供したいと考えている。\n",
    "\n",
    "返信をする以前に患者側の都合でコーディネーションが中断してしまう可能性がある。このケースはドナー候補者の意向と無関係に生じるコーディネーションの中断なので、分析のサンプルから除外する。各実験群の$0.5$--$0.7$%をこのケースで除外しており、その比率は群間でバランスしている。"
   ]
  },
  {
   "attachments": {},
   "cell_type": "markdown",
   "metadata": {},
   "source": [
    "## Main Results"
   ]
  },
  {
   "cell_type": "code",
   "execution_count": 10,
   "metadata": {
    "vscode": {
     "languageId": "r"
    }
   },
   "outputs": [
    {
     "name": "stdout",
     "output_type": "stream",
     "text": [
      "\\begin{table}\n",
      "\\centering\n",
      "\\begin{threeparttable}\n",
      "\\begin{tabular}[t]{lcccccc}\n",
      "\\toprule\n",
      "\\multicolumn{3}{c}{ } & \\multicolumn{4}{c}{Intention} \\\\\n",
      "\\cmidrule(l{3pt}r{3pt}){4-7}\n",
      "\\multicolumn{1}{c}{ } & \\multicolumn{2}{c}{Reply} & \\multicolumn{2}{c}{Positive} & \\multicolumn{2}{c}{Negative} \\\\\n",
      "\\cmidrule(l{3pt}r{3pt}){2-3} \\cmidrule(l{3pt}r{3pt}){4-5} \\cmidrule(l{3pt}r{3pt}){6-7}\n",
      "  & (1) & (2) & (3) & (4) & (5) & (6)\\\\\n",
      "\\midrule\n",
      "Constant & \\num{0.8835}*** & \\num{0.9510}*** & \\num{0.5533}*** & \\num{0.6463}*** & \\num{0.3303}*** & \\num{0.3047}***\\\\\n",
      " & (\\num{0.0065}) & (\\num{0.0190}) & (\\num{0.0125}) & (\\num{0.0277}) & (\\num{0.0089}) & (\\num{0.0210})\\\\\n",
      "Treatment B & \\num{0.0105} & \\num{0.0130}** & \\num{0.0218} & \\num{0.0203}* & \\num{-0.0113} & \\num{-0.0073}\\\\\n",
      " & (\\num{0.0075}) & (\\num{0.0061}) & (\\num{0.0135}) & (\\num{0.0123}) & (\\num{0.0094}) & (\\num{0.0075})\\\\\n",
      "Treatment C & \\num{-0.0057} & \\num{0.0006} & \\num{-0.0053} & \\num{-0.0052} & \\num{-0.0004} & \\num{0.0057}\\\\\n",
      " & (\\num{0.0081}) & (\\num{0.0053}) & (\\num{0.0151}) & (\\num{0.0111}) & (\\num{0.0150}) & (\\num{0.0093})\\\\\n",
      "Treatment D & \\num{0.0058} & \\num{0.0063} & \\num{0.0046} & \\num{0.0063} & \\num{0.0012} & \\num{0.0000}\\\\\n",
      " & (\\num{0.0074}) & (\\num{0.0051}) & (\\num{0.0166}) & (\\num{0.0097}) & (\\num{0.0138}) & (\\num{0.0065})\\\\\n",
      "\\midrule\n",
      "Control average & 0.8835 & 0.8835 & 0.5533 & 0.5533 & 0.3303 & 0.3303\\\\\n",
      "Covariates &  & X &  & X &  & X\\\\\n",
      "Num.Obs. & \\num{10985} & \\num{10985} & \\num{10985} & \\num{10985} & \\num{10985} & \\num{10985}\\\\\n",
      "\\bottomrule\n",
      "\\end{tabular}\n",
      "\\begin{tablenotes}\n",
      "\\item \\textit{Note: } \n",
      "\\item * p < 0.1, ** p < 0.05, *** p < 0.01. Standard errors clustered by experimental weeks are reported in parentheses. Covariates are gender, squared polynomial of (demeaned) age, number of past coordinations, number of hospitals per 10 square kilometers, number of hospitals with PBSC collection per 10 square kilometers, number of hospitals with BM collection per 10 square kilometers, prefecture dummies, month dummies, and week dummies.\n",
      "\\end{tablenotes}\n",
      "\\end{threeparttable}\n",
      "\\end{table}\n"
     ]
    }
   ],
   "source": [
    "#| label: tbl-full-reply\n",
    "#| tbl-cap: \"Linear Probability Model of Replay and Intention\"\n",
    "#| output: asis\n",
    "\n",
    "mod <- list(\n",
    "  unctrl = value ~ treat,\n",
    "  ctrl = value ~ treat + age_demean + I(age_demean^2) + male + coordinate +\n",
    "    hospital_per_area + PB_per_area + BM_per_area +\n",
    "    factor(prefecture) + factor(month) + factor(week)\n",
    ")\n",
    "\n",
    "est_stock <- stock %>%\n",
    "  group_by(outcome) %>%\n",
    "  nest() %>%\n",
    "  mutate(\n",
    "    fit1 = map(\n",
    "      data,\n",
    "      ~ lm_robust(\n",
    "        mod$unctrl,\n",
    "        data = .,\n",
    "        cluster = RCTweek,\n",
    "        se_type = \"stata\"\n",
    "      )\n",
    "    ),\n",
    "    fit2 = map(\n",
    "      data,\n",
    "      ~ lm_robust(\n",
    "        mod$ctrl,\n",
    "        data = .,\n",
    "        cluster = RCTweek,\n",
    "        se_type = \"stata\"\n",
    "      )\n",
    "    )\n",
    "  ) %>%\n",
    "  pivot_longer(\n",
    "    fit1:fit2,\n",
    "    names_prefix = \"fit\",\n",
    "    names_to = \"model\",\n",
    "    values_to = \"fit\"\n",
    "  )\n",
    "\n",
    "ctrl_avg <- stock %>%\n",
    "  dplyr::filter(treat == \"A\") %>%\n",
    "  group_by(outcome) %>%\n",
    "  summarize(mean = sprintf(\"%1.4f\", mean(value)))\n",
    "\n",
    "add_table <- tibble::tribble(\n",
    "  ~term, ~\"(1)\", ~\"(2)\", ~\"(3)\", ~\"(4)\", ~\"(5)\", ~\"(6)\",\n",
    "  \"Control average\", ctrl_avg$mean[1], ctrl_avg$mean[1],\n",
    "  ctrl_avg$mean[2], ctrl_avg$mean[2],\n",
    "  ctrl_avg$mean[3], ctrl_avg$mean[3],\n",
    "  \"Covariates\", \"\", \"X\", \"\", \"X\", \"\", \"X\"\n",
    ")\n",
    "\n",
    "attr(add_table, \"position\") <- 9:12\n",
    "\n",
    "est_stock %>%\n",
    "  pull(fit) %>%\n",
    "  setNames(paste0(\"(\", seq_len(length(.)), \")\")) %>%\n",
    "  modelsummary(\n",
    "    coef_map = c(\n",
    "      \"(Intercept)\" = \"Constant\",\n",
    "      \"treatB\" = \"Treatment B\",\n",
    "      \"treatC\" = \"Treatment C\",\n",
    "      \"treatD\" = \"Treatment D\"\n",
    "    ),\n",
    "    stars = c(\"***\" = .01, \"**\" = .05, \"*\" = .1),\n",
    "    fmt = 4,\n",
    "    gof_omit = \"R2|AIC|BIC|Log|Std|FE|se_type\",\n",
    "    add_rows = add_table,\n",
    "  ) %>%\n",
    "  kableExtra::kable_styling() %>%\n",
    "  kableExtra::add_header_above(c(\n",
    "    \" \" = 1, \"Reply\" = 2, \"Positive\" = 2, \"Negative\" = 2\n",
    "  )) %>%\n",
    "  kableExtra::add_header_above(c(\n",
    "    \" \" = 3, \"Intention\" = 4\n",
    "  )) %>%\n",
    "  kableExtra::footnote(\n",
    "    paste(\n",
    "      \"* p < 0.1, ** p < 0.05, *** p < 0.01.\",\n",
    "      \"Standard errors clustered by experimental weeks\",\n",
    "      \"are reported in parentheses.\",\n",
    "      \"Covariates are gender, squared polynomial of (demeaned) age,\",\n",
    "      \"number of past coordinations,\",\n",
    "      \"number of hospitals per 10 square kilometers,\",\n",
    "      \"number of hospitals with PBSC collection per 10 square kilometers,\",\n",
    "      \"number of hospitals with BM collection per 10 square kilometers,\",\n",
    "      \"prefecture dummies, month dummies, and week dummies.\"\n",
    "    ),\n",
    "    threeparttable = TRUE\n",
    "  ) %>%\n",
    "  print()"
   ]
  },
  {
   "attachments": {},
   "cell_type": "markdown",
   "metadata": {},
   "source": [
    "@tbl-full-reply は線形確率モデルの推定結果である。奇数列は実験群ダミーのみを説明変数として用いているのに対して、偶数列は個人属性や月・週の固定効果も制御している。列(1)は、確率メッセージを加えた適合通知を送付する実験群Bが返信率を$0.01$もしくは$1.2$%高めていることを示している。個人属性などをコントロールする（列(2)）と、効果のサイズは大きく変化しないが、統計的に5%水準で有意となる。この効果は正の意向を伴った返信の増加に由来している。列(3)と(5)では、実験群Bが正の意向を伴った返信率を$0.02$もしくは$3.94$%高めている一方で、負の意向を伴った返信率を$0.01$もしくは$3.42$%下げている。ただし、これらの統計的な有意性は弱い。また、実験群CとDは実験群Bよりも効果のサイズが小さく、統計的に非有意である。我々は頑健性の分析としてロジットモデルを推定した。その結果は効果の方向について上表と整合的であるが、統計的に非有意である。総合すると、我々の介入は全体的に返信に大きな影響を与えていない。"
   ]
  },
  {
   "cell_type": "code",
   "execution_count": 11,
   "metadata": {
    "vscode": {
     "languageId": "r"
    }
   },
   "outputs": [
    {
     "name": "stderr",
     "output_type": "stream",
     "text": [
      "3 coefficients  not defined because the design matrix is rank deficient\n",
      "\n",
      "\n"
     ]
    },
    {
     "name": "stderr",
     "output_type": "stream",
     "text": [
      "3 coefficients  not defined because the design matrix is rank deficient\n",
      "\n",
      "\n"
     ]
    },
    {
     "name": "stderr",
     "output_type": "stream",
     "text": [
      "3 coefficients  not defined because the design matrix is rank deficient\n",
      "\n",
      "\n"
     ]
    },
    {
     "name": "stderr",
     "output_type": "stream",
     "text": [
      "3 coefficients  not defined because the design matrix is rank deficient\n",
      "\n",
      "\n"
     ]
    },
    {
     "name": "stderr",
     "output_type": "stream",
     "text": [
      "3 coefficients  not defined because the design matrix is rank deficient\n",
      "\n",
      "\n"
     ]
    },
    {
     "name": "stderr",
     "output_type": "stream",
     "text": [
      "3 coefficients  not defined because the design matrix is rank deficient\n",
      "\n",
      "\n"
     ]
    },
    {
     "name": "stderr",
     "output_type": "stream",
     "text": [
      "3 coefficients  not defined because the design matrix is rank deficient\n",
      "\n",
      "\n"
     ]
    },
    {
     "name": "stderr",
     "output_type": "stream",
     "text": [
      "3 coefficients  not defined because the design matrix is rank deficient\n",
      "\n",
      "\n"
     ]
    },
    {
     "name": "stderr",
     "output_type": "stream",
     "text": [
      "3 coefficients  not defined because the design matrix is rank deficient\n",
      "\n",
      "\n"
     ]
    },
    {
     "name": "stderr",
     "output_type": "stream",
     "text": [
      "3 coefficients  not defined because the design matrix is rank deficient\n",
      "\n",
      "\n"
     ]
    },
    {
     "name": "stderr",
     "output_type": "stream",
     "text": [
      "3 coefficients  not defined because the design matrix is rank deficient\n",
      "\n",
      "\n"
     ]
    },
    {
     "name": "stderr",
     "output_type": "stream",
     "text": [
      "3 coefficients  not defined because the design matrix is rank deficient\n",
      "\n",
      "\n"
     ]
    },
    {
     "name": "stderr",
     "output_type": "stream",
     "text": [
      "\u001b[1m\u001b[22mAdding missing grouping variables: `outcome`\n"
     ]
    },
    {
     "data": {
      "image/png": "[encoded data removed]",
      "text/plain": [
       "plot without title"
      ]
     },
     "metadata": {
      "image/png": {
       "height": 600,
       "width": 900
      }
     },
     "output_type": "display_data"
    }
   ],
   "source": [
    "#| label: fig-subsample-reply\n",
    "#| fig-cap: 'Effect on Reply and Intentions by Gender and Age Group. Note: These plots show the average effect (and associated 95% confidential interval) on each outcome by gender and age group. We cluster standard errors by experimental weeks. We control number of past coordinations, number of hospitals per 10 square kilometers, number of hospitals with PBSC collection per 10 square kilometers, number of hospitals with BM collection per 10 square kilometers, prefecture dummies, month dummies, and week dummies.'\n",
    "\n",
    "est_stock_sub <- stock %>%\n",
    "  mutate(age_less30 = if_else(age < 30, 1, 0)) %>%\n",
    "  group_by(outcome, male, age_less30) %>%\n",
    "  nest() %>%\n",
    "  mutate(est = map(data, ~ lm_robust(\n",
    "    update(mod$ctrl, . ~ . - male - age_demean),\n",
    "    cluster = RCTweek,\n",
    "    se_type = \"stata\",\n",
    "    data = .x\n",
    "  ))) %>%\n",
    "  mutate(\n",
    "    fit = map(est, tidy),\n",
    "    fit = map(fit, ~ subset(.x, str_detect(term, \"treat\"))),\n",
    "    fit = map(fit, ~ dplyr::select(.x, -outcome)),\n",
    "    N = map_chr(est, ~ paste(\"N =\", nobs(.x))),\n",
    "    mean = map_dbl(data, ~ with(subset(., treat == \"A\"), mean(value))),\n",
    "    mean = sprintf(\"Control avg = %1.3f\", mean)\n",
    "  ) %>%\n",
    "  select(-data, -est) %>%\n",
    "  unnest(cols = fit) %>%\n",
    "  mutate(\n",
    "    pos = paste0(male, age_less30),\n",
    "    pos = factor(\n",
    "      pos,\n",
    "      levels = c(\"01\", \"00\", \"11\", \"10\"),\n",
    "      labels = c(\n",
    "        \"Female\\u00d7\\nAge<30\",\n",
    "        \"Female\\u00d7\\n30\\u2264Age\",\n",
    "        \"Male\\u00d7\\nAge<30\",\n",
    "        \"Male\\u00d7\\n30\\u2264Age\"\n",
    "      )\n",
    "    ),\n",
    "    term = str_replace(term, \"treat\", \"\"),\n",
    "    term = factor(term, LETTERS[2:4])\n",
    "  )\n",
    "\n",
    "text <- est_stock_sub %>%\n",
    "  select(male, age_less30, pos, N, mean) %>%\n",
    "  distinct()\n",
    "\n",
    "plot_list <- unique(est_stock_sub$outcome) %>%\n",
    "  purrr::map(function(x) {\n",
    "    subset(est_stock_sub, outcome == x) %>%\n",
    "      ggplot(aes(x = pos, y = estimate)) +\n",
    "      geom_hline(aes(yintercept = 0), linetype = 2) +\n",
    "      geom_point(\n",
    "        aes(color = term, shape = term),\n",
    "        size = 3, position = position_dodge(0.5)\n",
    "      ) +\n",
    "      geom_errorbar(\n",
    "        aes(ymin = conf.low, ymax = conf.high, color = term),\n",
    "        position = position_dodge(0.5),\n",
    "        width = 0\n",
    "      ) +\n",
    "      geom_text(\n",
    "        aes(y = -0.125, label = N),\n",
    "        data = subset(text, outcome == x),\n",
    "        color = \"black\"\n",
    "      ) +\n",
    "      geom_text(\n",
    "        aes(y = -0.15, label = mean),\n",
    "        data = subset(text, outcome == x),\n",
    "        color = \"black\"\n",
    "      ) +\n",
    "      scale_y_continuous(\n",
    "        breaks = seq(-0.2, 0.2, by = 0.05), limits = c(-0.17, 0.17)\n",
    "      ) +\n",
    "      labs(\n",
    "        title = paste(\"Outcome:\", x),\n",
    "        x = \"Subset\",\n",
    "        y = \"Estimated Effects (95%CI)\",\n",
    "        color = \"Treatment\", shape = \"Treatment\"\n",
    "      ) +\n",
    "      simplegg()\n",
    "  })\n",
    "\n",
    "wrap_plots(plot_list, ncol = 2) +\n",
    "  plot_layout(guides = \"collect\") &\n",
    "  theme(legend.position = \"bottom\")"
   ]
  },
  {
   "attachments": {},
   "cell_type": "markdown",
   "metadata": {},
   "source": [
    "次に、メッセージの効果の異質性を検証するために、我々は性別と年齢層（30歳未満かどうか）でサンプルを4分割して、各サブセットでメッセージの効果を推定している。 @fig-subsample-reply はその係数プロットである。その結果、確率メッセージを加えた実験群BとDは30歳未満の男性の返信率を$0.06$もしくは$8.06$%高めている（ベースラインの返信率は$74.4$%）。とくに、確率メッセージだけを加えた実験群Bの効果は正の意向を伴う返信率の増加に起因している。このグループで、実験群Bは正の意向を伴う返信率を$0.1$もしくは$25.91$%高めている（ベースラインの比率は$38.6$%）一方で、負の意向を伴う返信率を$0.03$もしくは$8.38$%下げている（ベースラインの比率は$35.8$%）。これらは統計的に有意な効果である。対して、他の性年代のグループ（とくに、30歳以上の男女）では、介入メッセージが返信や意向に大きな影響を与えていない。ただし、30歳未満の女性で、実験群Dが正の意向を伴う返信率を$0.05$もしくは$9.69$%下げている。したがって、他のドナー候補者が少ないというメッセージは若年男性の提供意向を高め、適合通知への返信を促している。若年男性ドナーは移植成績が良いにも関わらず、提供意向が他の性年代よりも明らかに低いことを考慮すると、確率メッセージは移植コーディネーションの効率性を改善しているといえる"
   ]
  },
  {
   "attachments": {},
   "cell_type": "markdown",
   "metadata": {},
   "source": [
    "## Response Speed to Notification"
   ]
  },
  {
   "cell_type": "code",
   "execution_count": 12,
   "metadata": {
    "vscode": {
     "languageId": "r"
    }
   },
   "outputs": [],
   "source": [
    "#| include: false\n",
    "\n",
    "flow <- stock %>%\n",
    "  mutate(\n",
    "    days_reply = if_else(is.na(days_reply), 10000, days_reply),\n",
    "    days4 = if_else(days_reply <= 4, value, 0),\n",
    "    days7 = if_else(days_reply <= 7, value, 0),\n",
    "    days10 = if_else(days_reply <= 10, value, 0),\n",
    "    days14 = if_else(days_reply <= 14, value, 0),\n",
    "    days21 = if_else(days_reply <= 21, value, 0),\n",
    "    days28 = if_else(days_reply <= 28, value, 0)\n",
    "  ) %>%\n",
    "  select(-value) %>%\n",
    "  pivot_longer(days4:days28, names_to = \"within\", names_prefix = \"days\") %>%\n",
    "  mutate(within = as.numeric(within))"
   ]
  },
  {
   "attachments": {},
   "cell_type": "markdown",
   "metadata": {},
   "source": [
    "患者メッセージはドナー候補者の利他性を刺激しており、特に、適合通知に早く返信することで患者の移植率に貢献できることを強調している。そこで、確率メッセージも含めた二つの介入メッセージが適合通知への返信スピードにどのような影響を与えたかを検証する。そこで、我々は$d$日以内に返信する確率$\\text{Pr}(D_{imw} \\le d)$を線形確率モデルで推定する。このとき、アウトカム変数は$d$日以内に返信したならば1を取るようなダミー変数である。ただし、$d$の値を十分に大きくすると、$\\text{Pr}(D_{imw} \\le d)$に対する効果は前小節で示した返信に対する効果と一致する。\n",
    "\n",
    "また、前小節と同様に、$\\text{Pr}(D_{imw} \\le d)$に対する効果を提供意向の観点から二つの効果に分解する。正の意向については、提供意向があり、かつ$d$日以内に返信したならば1を取るようなダミー変数である。負の意向については、提供意向がなく、かつ$d$日以内に返信したならば1を取るようなダミー変数である。"
   ]
  },
  {
   "cell_type": "code",
   "execution_count": 13,
   "metadata": {
    "vscode": {
     "languageId": "r"
    }
   },
   "outputs": [
    {
     "name": "stderr",
     "output_type": "stream",
     "text": [
      "3 coefficients  not defined because the design matrix is rank deficient\n",
      "\n",
      "\n"
     ]
    },
    {
     "name": "stderr",
     "output_type": "stream",
     "text": [
      "3 coefficients  not defined because the design matrix is rank deficient\n",
      "\n",
      "\n"
     ]
    },
    {
     "name": "stderr",
     "output_type": "stream",
     "text": [
      "3 coefficients  not defined because the design matrix is rank deficient\n",
      "\n",
      "\n"
     ]
    },
    {
     "name": "stderr",
     "output_type": "stream",
     "text": [
      "3 coefficients  not defined because the design matrix is rank deficient\n",
      "\n",
      "\n"
     ]
    },
    {
     "name": "stderr",
     "output_type": "stream",
     "text": [
      "3 coefficients  not defined because the design matrix is rank deficient\n",
      "\n",
      "\n"
     ]
    },
    {
     "name": "stderr",
     "output_type": "stream",
     "text": [
      "3 coefficients  not defined because the design matrix is rank deficient\n",
      "\n",
      "\n"
     ]
    },
    {
     "name": "stderr",
     "output_type": "stream",
     "text": [
      "3 coefficients  not defined because the design matrix is rank deficient\n",
      "\n",
      "\n"
     ]
    },
    {
     "name": "stderr",
     "output_type": "stream",
     "text": [
      "3 coefficients  not defined because the design matrix is rank deficient\n",
      "\n",
      "\n"
     ]
    },
    {
     "name": "stderr",
     "output_type": "stream",
     "text": [
      "3 coefficients  not defined because the design matrix is rank deficient\n",
      "\n",
      "\n"
     ]
    },
    {
     "name": "stderr",
     "output_type": "stream",
     "text": [
      "3 coefficients  not defined because the design matrix is rank deficient\n",
      "\n",
      "\n"
     ]
    },
    {
     "name": "stderr",
     "output_type": "stream",
     "text": [
      "3 coefficients  not defined because the design matrix is rank deficient\n",
      "\n",
      "\n"
     ]
    },
    {
     "name": "stderr",
     "output_type": "stream",
     "text": [
      "3 coefficients  not defined because the design matrix is rank deficient\n",
      "\n",
      "\n"
     ]
    },
    {
     "name": "stderr",
     "output_type": "stream",
     "text": [
      "3 coefficients  not defined because the design matrix is rank deficient\n",
      "\n",
      "\n"
     ]
    },
    {
     "name": "stderr",
     "output_type": "stream",
     "text": [
      "3 coefficients  not defined because the design matrix is rank deficient\n",
      "\n",
      "\n"
     ]
    },
    {
     "name": "stderr",
     "output_type": "stream",
     "text": [
      "3 coefficients  not defined because the design matrix is rank deficient\n",
      "\n",
      "\n"
     ]
    },
    {
     "name": "stderr",
     "output_type": "stream",
     "text": [
      "3 coefficients  not defined because the design matrix is rank deficient\n",
      "\n",
      "\n"
     ]
    },
    {
     "name": "stderr",
     "output_type": "stream",
     "text": [
      "3 coefficients  not defined because the design matrix is rank deficient\n",
      "\n",
      "\n"
     ]
    },
    {
     "name": "stderr",
     "output_type": "stream",
     "text": [
      "3 coefficients  not defined because the design matrix is rank deficient\n",
      "\n",
      "\n"
     ]
    },
    {
     "name": "stderr",
     "output_type": "stream",
     "text": [
      "\u001b[1m\u001b[22m`summarise()` has grouped output by 'outcome'. You can override using the\n",
      "`.groups` argument.\n"
     ]
    },
    {
     "data": {
      "image/png": "[encoded data removed]",
      "text/plain": [
       "plot without title"
      ]
     },
     "metadata": {
      "image/png": {
       "height": 600,
       "width": 900
      }
     },
     "output_type": "display_data"
    }
   ],
   "source": [
    "#| label: fig-full-speed\n",
    "#| fig-cap: \"Effect on Reply within Specific Days after Sending Notification. Notes: These plots show the average effect (and associated 95% confidential interval) on each outcome.\"\n",
    "\n",
    "est_flow <- flow %>%\n",
    "  group_by(outcome, within) %>%\n",
    "  nest() %>%\n",
    "  mutate(fit = map(data, ~ lm_robust(\n",
    "    mod$ctrl,\n",
    "    cluster = RCTweek,\n",
    "    se_type = \"stata\",\n",
    "    data = .x\n",
    "  ))) %>%\n",
    "  mutate(\n",
    "    tidy = map(fit, tidy),\n",
    "    tidy = map(tidy, ~ subset(.x, str_detect(term, \"treat\"))),\n",
    "    tidy = map(tidy, ~ dplyr::select(.x, -outcome))\n",
    "  ) %>%\n",
    "  dplyr::select(-data, -fit) %>%\n",
    "  unnest(cols = tidy) %>%\n",
    "  mutate(\n",
    "    term = str_replace(term, \"treat\", \"\"),\n",
    "    term = factor(term, LETTERS[2:4])\n",
    "  )\n",
    "\n",
    "ctrl_avg <- flow %>%\n",
    "  dplyr::filter(treat == \"A\") %>%\n",
    "  group_by(outcome, within) %>%\n",
    "  summarize(mean = mean(value)) %>%\n",
    "  mutate(mean = sprintf(\"%1d\\n(%1.3f)\", within, mean))\n",
    "\n",
    "plot_list <- unique(est_flow$outcome) %>%\n",
    "  purrr::map(function(x) {\n",
    "    subset(est_flow, outcome == x) %>%\n",
    "      ggplot(aes(x = within, y = estimate, color = term, shape = term)) +\n",
    "      geom_hline(aes(yintercept = 0), linetype = 2) +\n",
    "      geom_point(size = 3, position = position_dodge(2)) +\n",
    "      geom_errorbar(\n",
    "        aes(ymin = conf.low, ymax = conf.high),\n",
    "        position = position_dodge(2),\n",
    "        width = 0\n",
    "      ) +\n",
    "      scale_x_continuous(\n",
    "        breaks = subset(ctrl_avg, outcome == x)$within,\n",
    "        labels = subset(ctrl_avg, outcome == x)$mean\n",
    "      ) +\n",
    "      scale_y_continuous(\n",
    "        breaks = seq(-0.2, 0.2, by = 0.025), limits = c(-0.1, 0.05)\n",
    "      ) +\n",
    "      labs(\n",
    "        title = paste(\"Outcome:\", x),\n",
    "        x = \"Days after sending notification\\n(Control average)\",\n",
    "        y = \"Estimated Effects (95%CI)\",\n",
    "        color = \"Treatment\", shape = \"Treatment\"\n",
    "      ) +\n",
    "      simplegg()\n",
    "  })\n",
    "\n",
    "wrap_plots(plot_list, ncol = 2) +\n",
    "  plot_layout(guides = \"collect\") &\n",
    "  theme(legend.position = \"bottom\")"
   ]
  },
  {
   "cell_type": "code",
   "execution_count": 14,
   "metadata": {
    "vscode": {
     "languageId": "r"
    }
   },
   "outputs": [
    {
     "name": "stderr",
     "output_type": "stream",
     "text": [
      "3 coefficients  not defined because the design matrix is rank deficient\n",
      "\n",
      "\n"
     ]
    },
    {
     "name": "stderr",
     "output_type": "stream",
     "text": [
      "3 coefficients  not defined because the design matrix is rank deficient\n",
      "\n",
      "\n"
     ]
    },
    {
     "name": "stderr",
     "output_type": "stream",
     "text": [
      "3 coefficients  not defined because the design matrix is rank deficient\n",
      "\n",
      "\n"
     ]
    },
    {
     "name": "stderr",
     "output_type": "stream",
     "text": [
      "3 coefficients  not defined because the design matrix is rank deficient\n",
      "\n",
      "\n"
     ]
    },
    {
     "name": "stderr",
     "output_type": "stream",
     "text": [
      "3 coefficients  not defined because the design matrix is rank deficient\n",
      "\n",
      "\n"
     ]
    },
    {
     "name": "stderr",
     "output_type": "stream",
     "text": [
      "3 coefficients  not defined because the design matrix is rank deficient\n",
      "\n",
      "\n"
     ]
    },
    {
     "name": "stderr",
     "output_type": "stream",
     "text": [
      "3 coefficients  not defined because the design matrix is rank deficient\n",
      "\n",
      "\n"
     ]
    },
    {
     "name": "stderr",
     "output_type": "stream",
     "text": [
      "3 coefficients  not defined because the design matrix is rank deficient\n",
      "\n",
      "\n"
     ]
    },
    {
     "name": "stderr",
     "output_type": "stream",
     "text": [
      "3 coefficients  not defined because the design matrix is rank deficient\n",
      "\n",
      "\n"
     ]
    },
    {
     "name": "stderr",
     "output_type": "stream",
     "text": [
      "3 coefficients  not defined because the design matrix is rank deficient\n",
      "\n",
      "\n"
     ]
    },
    {
     "name": "stderr",
     "output_type": "stream",
     "text": [
      "3 coefficients  not defined because the design matrix is rank deficient\n",
      "\n",
      "\n"
     ]
    },
    {
     "name": "stderr",
     "output_type": "stream",
     "text": [
      "3 coefficients  not defined because the design matrix is rank deficient\n",
      "\n",
      "\n"
     ]
    },
    {
     "name": "stderr",
     "output_type": "stream",
     "text": [
      "3 coefficients  not defined because the design matrix is rank deficient\n",
      "\n",
      "\n"
     ]
    },
    {
     "name": "stderr",
     "output_type": "stream",
     "text": [
      "3 coefficients  not defined because the design matrix is rank deficient\n",
      "\n",
      "\n"
     ]
    },
    {
     "name": "stderr",
     "output_type": "stream",
     "text": [
      "3 coefficients  not defined because the design matrix is rank deficient\n",
      "\n",
      "\n"
     ]
    },
    {
     "name": "stderr",
     "output_type": "stream",
     "text": [
      "3 coefficients  not defined because the design matrix is rank deficient\n",
      "\n",
      "\n"
     ]
    },
    {
     "name": "stderr",
     "output_type": "stream",
     "text": [
      "3 coefficients  not defined because the design matrix is rank deficient\n",
      "\n",
      "\n"
     ]
    },
    {
     "name": "stderr",
     "output_type": "stream",
     "text": [
      "3 coefficients  not defined because the design matrix is rank deficient\n",
      "\n",
      "\n"
     ]
    },
    {
     "name": "stderr",
     "output_type": "stream",
     "text": [
      "3 coefficients  not defined because the design matrix is rank deficient\n",
      "\n",
      "\n"
     ]
    },
    {
     "name": "stderr",
     "output_type": "stream",
     "text": [
      "3 coefficients  not defined because the design matrix is rank deficient\n",
      "\n",
      "\n"
     ]
    },
    {
     "name": "stderr",
     "output_type": "stream",
     "text": [
      "3 coefficients  not defined because the design matrix is rank deficient\n",
      "\n",
      "\n"
     ]
    },
    {
     "name": "stderr",
     "output_type": "stream",
     "text": [
      "3 coefficients  not defined because the design matrix is rank deficient\n",
      "\n",
      "\n"
     ]
    },
    {
     "name": "stderr",
     "output_type": "stream",
     "text": [
      "3 coefficients  not defined because the design matrix is rank deficient\n",
      "\n",
      "\n"
     ]
    },
    {
     "name": "stderr",
     "output_type": "stream",
     "text": [
      "3 coefficients  not defined because the design matrix is rank deficient\n",
      "\n",
      "\n"
     ]
    },
    {
     "name": "stderr",
     "output_type": "stream",
     "text": [
      "3 coefficients  not defined because the design matrix is rank deficient\n",
      "\n",
      "\n"
     ]
    },
    {
     "name": "stderr",
     "output_type": "stream",
     "text": [
      "3 coefficients  not defined because the design matrix is rank deficient\n",
      "\n",
      "\n"
     ]
    },
    {
     "name": "stderr",
     "output_type": "stream",
     "text": [
      "3 coefficients  not defined because the design matrix is rank deficient\n",
      "\n",
      "\n"
     ]
    },
    {
     "name": "stderr",
     "output_type": "stream",
     "text": [
      "3 coefficients  not defined because the design matrix is rank deficient\n",
      "\n",
      "\n"
     ]
    },
    {
     "name": "stderr",
     "output_type": "stream",
     "text": [
      "3 coefficients  not defined because the design matrix is rank deficient\n",
      "\n",
      "\n"
     ]
    },
    {
     "name": "stderr",
     "output_type": "stream",
     "text": [
      "3 coefficients  not defined because the design matrix is rank deficient\n",
      "\n",
      "\n"
     ]
    },
    {
     "name": "stderr",
     "output_type": "stream",
     "text": [
      "3 coefficients  not defined because the design matrix is rank deficient\n",
      "\n",
      "\n"
     ]
    },
    {
     "name": "stderr",
     "output_type": "stream",
     "text": [
      "3 coefficients  not defined because the design matrix is rank deficient\n",
      "\n",
      "\n"
     ]
    },
    {
     "name": "stderr",
     "output_type": "stream",
     "text": [
      "3 coefficients  not defined because the design matrix is rank deficient\n",
      "\n",
      "\n"
     ]
    },
    {
     "name": "stderr",
     "output_type": "stream",
     "text": [
      "3 coefficients  not defined because the design matrix is rank deficient\n",
      "\n",
      "\n"
     ]
    },
    {
     "name": "stderr",
     "output_type": "stream",
     "text": [
      "3 coefficients  not defined because the design matrix is rank deficient\n",
      "\n",
      "\n"
     ]
    },
    {
     "name": "stderr",
     "output_type": "stream",
     "text": [
      "3 coefficients  not defined because the design matrix is rank deficient\n",
      "\n",
      "\n"
     ]
    },
    {
     "data": {
      "text/html": [
       "<table class=\"dataframe\">\n",
       "<caption>A grouped_df: 108 × 12</caption>\n",
       "<thead>\n",
       "\t<tr><th scope=col>male</th><th scope=col>outcome</th><th scope=col>within</th><th scope=col>avg</th><th scope=col>term</th><th scope=col>estimate</th><th scope=col>std.error</th><th scope=col>statistic</th><th scope=col>p.value</th><th scope=col>conf.low</th><th scope=col>conf.high</th><th scope=col>df</th></tr>\n",
       "\t<tr><th scope=col>&lt;dbl&gt;</th><th scope=col>&lt;fct&gt;</th><th scope=col>&lt;dbl&gt;</th><th scope=col>&lt;chr&gt;</th><th scope=col>&lt;fct&gt;</th><th scope=col>&lt;dbl&gt;</th><th scope=col>&lt;dbl&gt;</th><th scope=col>&lt;dbl&gt;</th><th scope=col>&lt;dbl&gt;</th><th scope=col>&lt;dbl&gt;</th><th scope=col>&lt;dbl&gt;</th><th scope=col>&lt;dbl&gt;</th></tr>\n",
       "</thead>\n",
       "<tbody>\n",
       "\t<tr><td>0</td><td>Reply             </td><td> 4</td><td>4\n",
       "(0.049) </td><td>B</td><td>-0.006328884</td><td>0.009918907</td><td>-0.6380626</td><td>5.297351e-01</td><td>-0.026847706</td><td> 0.0141899381</td><td>23</td></tr>\n",
       "\t<tr><td>0</td><td>Reply             </td><td> 4</td><td>4\n",
       "(0.049) </td><td>C</td><td> 0.061846769</td><td>0.009458265</td><td> 6.5389128</td><td>1.133466e-06</td><td> 0.042280858</td><td> 0.0814126808</td><td>23</td></tr>\n",
       "\t<tr><td>0</td><td>Reply             </td><td> 4</td><td>4\n",
       "(0.049) </td><td>D</td><td> 0.038252858</td><td>0.011056710</td><td> 3.4596962</td><td>2.126848e-03</td><td> 0.015380311</td><td> 0.0611254051</td><td>23</td></tr>\n",
       "\t<tr><td>0</td><td>Reply             </td><td> 7</td><td>7\n",
       "(0.317) </td><td>B</td><td>-0.139458482</td><td>0.027537860</td><td>-5.0642454</td><td>3.978058e-05</td><td>-0.196424886</td><td>-0.0824920774</td><td>23</td></tr>\n",
       "\t<tr><td>0</td><td>Reply             </td><td> 7</td><td>7\n",
       "(0.317) </td><td>C</td><td>-0.032841460</td><td>0.036112901</td><td>-0.9094108</td><td>3.725652e-01</td><td>-0.107546688</td><td> 0.0418637666</td><td>23</td></tr>\n",
       "\t<tr><td>0</td><td>Reply             </td><td> 7</td><td>7\n",
       "(0.317) </td><td>D</td><td>-0.033710309</td><td>0.037525892</td><td>-0.8983213</td><td>3.783226e-01</td><td>-0.111338530</td><td> 0.0439179124</td><td>23</td></tr>\n",
       "\t<tr><td>0</td><td>Reply             </td><td>10</td><td>10\n",
       "(0.496)</td><td>B</td><td>-0.082339482</td><td>0.029961241</td><td>-2.7482000</td><td>1.145112e-02</td><td>-0.144319031</td><td>-0.0203599332</td><td>23</td></tr>\n",
       "\t<tr><td>0</td><td>Reply             </td><td>10</td><td>10\n",
       "(0.496)</td><td>C</td><td> 0.060706352</td><td>0.024242283</td><td> 2.5041516</td><td>1.981181e-02</td><td> 0.010557370</td><td> 0.1108553346</td><td>23</td></tr>\n",
       "\t<tr><td>0</td><td>Reply             </td><td>10</td><td>10\n",
       "(0.496)</td><td>D</td><td>-0.010907611</td><td>0.031041341</td><td>-0.3513898</td><td>7.284946e-01</td><td>-0.075121517</td><td> 0.0533062940</td><td>23</td></tr>\n",
       "\t<tr><td>0</td><td>Reply             </td><td>14</td><td>14\n",
       "(0.699)</td><td>B</td><td>-0.087036424</td><td>0.022307052</td><td>-3.9017448</td><td>7.177904e-04</td><td>-0.133182076</td><td>-0.0408907707</td><td>23</td></tr>\n",
       "\t<tr><td>0</td><td>Reply             </td><td>14</td><td>14\n",
       "(0.699)</td><td>C</td><td> 0.074394156</td><td>0.019264272</td><td> 3.8617684</td><td>7.924700e-04</td><td> 0.034542974</td><td> 0.1142453386</td><td>23</td></tr>\n",
       "\t<tr><td>0</td><td>Reply             </td><td>14</td><td>14\n",
       "(0.699)</td><td>D</td><td> 0.016787600</td><td>0.018818542</td><td> 0.8920776</td><td>3.815898e-01</td><td>-0.022141521</td><td> 0.0557167205</td><td>23</td></tr>\n",
       "\t<tr><td>0</td><td>Reply             </td><td>21</td><td>21\n",
       "(0.825)</td><td>B</td><td>-0.007486056</td><td>0.016346804</td><td>-0.4579523</td><td>6.512839e-01</td><td>-0.041301997</td><td> 0.0263298844</td><td>23</td></tr>\n",
       "\t<tr><td>0</td><td>Reply             </td><td>21</td><td>21\n",
       "(0.825)</td><td>C</td><td> 0.045358681</td><td>0.016603640</td><td> 2.7318516</td><td>1.188616e-02</td><td> 0.011011434</td><td> 0.0797059282</td><td>23</td></tr>\n",
       "\t<tr><td>0</td><td>Reply             </td><td>21</td><td>21\n",
       "(0.825)</td><td>D</td><td>-0.021713019</td><td>0.015224590</td><td>-1.4261809</td><td>1.672493e-01</td><td>-0.053207483</td><td> 0.0097814450</td><td>23</td></tr>\n",
       "\t<tr><td>0</td><td>Reply             </td><td>28</td><td>28\n",
       "(0.850)</td><td>B</td><td> 0.007210463</td><td>0.015945544</td><td> 0.4521930</td><td>6.553659e-01</td><td>-0.025775407</td><td> 0.0401963339</td><td>23</td></tr>\n",
       "\t<tr><td>0</td><td>Reply             </td><td>28</td><td>28\n",
       "(0.850)</td><td>C</td><td> 0.049495593</td><td>0.015583558</td><td> 3.1761420</td><td>4.211843e-03</td><td> 0.017258547</td><td> 0.0817326389</td><td>23</td></tr>\n",
       "\t<tr><td>0</td><td>Reply             </td><td>28</td><td>28\n",
       "(0.850)</td><td>D</td><td>-0.030928987</td><td>0.014777913</td><td>-2.0929198</td><td>4.758287e-02</td><td>-0.061499429</td><td>-0.0003585451</td><td>23</td></tr>\n",
       "\t<tr><td>0</td><td>Positive intention</td><td> 4</td><td>4\n",
       "(0.033) </td><td>B</td><td>-0.011380706</td><td>0.009752931</td><td>-1.1669011</td><td>2.552068e-01</td><td>-0.031556181</td><td> 0.0087947687</td><td>23</td></tr>\n",
       "\t<tr><td>0</td><td>Positive intention</td><td> 4</td><td>4\n",
       "(0.033) </td><td>C</td><td> 0.029059936</td><td>0.008755428</td><td> 3.3190765</td><td>2.989626e-03</td><td> 0.010947953</td><td> 0.0471719198</td><td>23</td></tr>\n",
       "\t<tr><td>0</td><td>Positive intention</td><td> 4</td><td>4\n",
       "(0.033) </td><td>D</td><td> 0.034447300</td><td>0.013429582</td><td> 2.5650315</td><td>1.731010e-02</td><td> 0.006666093</td><td> 0.0622285057</td><td>23</td></tr>\n",
       "\t<tr><td>0</td><td>Positive intention</td><td> 7</td><td>7\n",
       "(0.207) </td><td>B</td><td>-0.087673908</td><td>0.020526084</td><td>-4.2713411</td><td>2.863203e-04</td><td>-0.130135349</td><td>-0.0452124678</td><td>23</td></tr>\n",
       "\t<tr><td>0</td><td>Positive intention</td><td> 7</td><td>7\n",
       "(0.207) </td><td>C</td><td> 0.005078933</td><td>0.032927909</td><td> 0.1542440</td><td>8.787628e-01</td><td>-0.063037637</td><td> 0.0731955032</td><td>23</td></tr>\n",
       "\t<tr><td>0</td><td>Positive intention</td><td> 7</td><td>7\n",
       "(0.207) </td><td>D</td><td>-0.032722039</td><td>0.028215376</td><td>-1.1597237</td><td>2.580594e-01</td><td>-0.091089990</td><td> 0.0256459124</td><td>23</td></tr>\n",
       "\t<tr><td>0</td><td>Positive intention</td><td>10</td><td>10\n",
       "(0.329)</td><td>B</td><td>-0.055287462</td><td>0.019843900</td><td>-2.7861188</td><td>1.049934e-02</td><td>-0.096337697</td><td>-0.0142372277</td><td>23</td></tr>\n",
       "\t<tr><td>0</td><td>Positive intention</td><td>10</td><td>10\n",
       "(0.329)</td><td>C</td><td> 0.049753056</td><td>0.029247550</td><td> 1.7011016</td><td>1.024067e-01</td><td>-0.010750112</td><td> 0.1102562233</td><td>23</td></tr>\n",
       "\t<tr><td>0</td><td>Positive intention</td><td>10</td><td>10\n",
       "(0.329)</td><td>D</td><td>-0.038472978</td><td>0.028015383</td><td>-1.3732804</td><td>1.829056e-01</td><td>-0.096427214</td><td> 0.0194812585</td><td>23</td></tr>\n",
       "\t<tr><td>0</td><td>Positive intention</td><td>14</td><td>14\n",
       "(0.459)</td><td>B</td><td>-0.062337939</td><td>0.024738221</td><td>-2.5199039</td><td>1.913405e-02</td><td>-0.113512847</td><td>-0.0111630307</td><td>23</td></tr>\n",
       "\t<tr><td>0</td><td>Positive intention</td><td>14</td><td>14\n",
       "(0.459)</td><td>C</td><td> 0.029196186</td><td>0.024765161</td><td> 1.1789217</td><td>2.504819e-01</td><td>-0.022034452</td><td> 0.0804268241</td><td>23</td></tr>\n",
       "\t<tr><td>0</td><td>Positive intention</td><td>14</td><td>14\n",
       "(0.459)</td><td>D</td><td>-0.041292016</td><td>0.021494029</td><td>-1.9210924</td><td>6.719964e-02</td><td>-0.085755804</td><td> 0.0031717712</td><td>23</td></tr>\n",
       "\t<tr><td>⋮</td><td>⋮</td><td>⋮</td><td>⋮</td><td>⋮</td><td>⋮</td><td>⋮</td><td>⋮</td><td>⋮</td><td>⋮</td><td>⋮</td><td>⋮</td></tr>\n",
       "\t<tr><td>1</td><td>Positive intention</td><td>10</td><td>10\n",
       "(0.228)</td><td>B</td><td> 0.037980369</td><td>0.029743397</td><td> 1.2769345</td><td>0.214367032</td><td>-0.023548534</td><td> 0.099509273</td><td>23</td></tr>\n",
       "\t<tr><td>1</td><td>Positive intention</td><td>10</td><td>10\n",
       "(0.228)</td><td>C</td><td> 0.009867290</td><td>0.034280206</td><td> 0.2878422</td><td>0.776045305</td><td>-0.061046720</td><td> 0.080781300</td><td>23</td></tr>\n",
       "\t<tr><td>1</td><td>Positive intention</td><td>10</td><td>10\n",
       "(0.228)</td><td>D</td><td> 0.003464337</td><td>0.029143042</td><td> 0.1188735</td><td>0.906407700</td><td>-0.056822639</td><td> 0.063751312</td><td>23</td></tr>\n",
       "\t<tr><td>1</td><td>Positive intention</td><td>14</td><td>14\n",
       "(0.306)</td><td>B</td><td> 0.097932100</td><td>0.033540955</td><td> 2.9197767</td><td>0.007708826</td><td> 0.028547348</td><td> 0.167316852</td><td>23</td></tr>\n",
       "\t<tr><td>1</td><td>Positive intention</td><td>14</td><td>14\n",
       "(0.306)</td><td>C</td><td> 0.033320405</td><td>0.029372518</td><td> 1.1344075</td><td>0.268308879</td><td>-0.027441278</td><td> 0.094082088</td><td>23</td></tr>\n",
       "\t<tr><td>1</td><td>Positive intention</td><td>14</td><td>14\n",
       "(0.306)</td><td>D</td><td> 0.051167402</td><td>0.023329345</td><td> 2.1932636</td><td>0.038661838</td><td> 0.002906976</td><td> 0.099427828</td><td>23</td></tr>\n",
       "\t<tr><td>1</td><td>Positive intention</td><td>21</td><td>21\n",
       "(0.361)</td><td>B</td><td> 0.101226365</td><td>0.030617382</td><td> 3.3061731</td><td>0.003084031</td><td> 0.037889485</td><td> 0.164563245</td><td>23</td></tr>\n",
       "\t<tr><td>1</td><td>Positive intention</td><td>21</td><td>21\n",
       "(0.361)</td><td>C</td><td> 0.023000762</td><td>0.021806294</td><td> 1.0547763</td><td>0.302482330</td><td>-0.022108993</td><td> 0.068110518</td><td>23</td></tr>\n",
       "\t<tr><td>1</td><td>Positive intention</td><td>21</td><td>21\n",
       "(0.361)</td><td>D</td><td> 0.051461952</td><td>0.023010427</td><td> 2.2364623</td><td>0.035310411</td><td> 0.003861258</td><td> 0.099062646</td><td>23</td></tr>\n",
       "\t<tr><td>1</td><td>Positive intention</td><td>28</td><td>28\n",
       "(0.372)</td><td>B</td><td> 0.102852437</td><td>0.028651273</td><td> 3.5898034</td><td>0.001548234</td><td> 0.043582764</td><td> 0.162122111</td><td>23</td></tr>\n",
       "\t<tr><td>1</td><td>Positive intention</td><td>28</td><td>28\n",
       "(0.372)</td><td>C</td><td> 0.028889168</td><td>0.019816780</td><td> 1.4578134</td><td>0.158412160</td><td>-0.012104964</td><td> 0.069883300</td><td>23</td></tr>\n",
       "\t<tr><td>1</td><td>Positive intention</td><td>28</td><td>28\n",
       "(0.372)</td><td>D</td><td> 0.047675114</td><td>0.022401586</td><td> 2.1282026</td><td>0.044254552</td><td> 0.001333903</td><td> 0.094016325</td><td>23</td></tr>\n",
       "\t<tr><td>1</td><td>Negative intention</td><td> 4</td><td>4\n",
       "(0.022) </td><td>B</td><td>-0.010224810</td><td>0.007734770</td><td>-1.3219281</td><td>0.199189825</td><td>-0.026225401</td><td> 0.005775781</td><td>23</td></tr>\n",
       "\t<tr><td>1</td><td>Negative intention</td><td> 4</td><td>4\n",
       "(0.022) </td><td>C</td><td>-0.012580438</td><td>0.006766054</td><td>-1.8593462</td><td>0.075818451</td><td>-0.026577088</td><td> 0.001416212</td><td>23</td></tr>\n",
       "\t<tr><td>1</td><td>Negative intention</td><td> 4</td><td>4\n",
       "(0.022) </td><td>D</td><td> 0.005184695</td><td>0.007454251</td><td> 0.6955354</td><td>0.493688225</td><td>-0.010235597</td><td> 0.020604988</td><td>23</td></tr>\n",
       "\t<tr><td>1</td><td>Negative intention</td><td> 7</td><td>7\n",
       "(0.092) </td><td>B</td><td>-0.039285473</td><td>0.016319635</td><td>-2.4072519</td><td>0.024496130</td><td>-0.073045211</td><td>-0.005525735</td><td>23</td></tr>\n",
       "\t<tr><td>1</td><td>Negative intention</td><td> 7</td><td>7\n",
       "(0.092) </td><td>C</td><td>-0.004313571</td><td>0.015249325</td><td>-0.2828697</td><td>0.779806976</td><td>-0.035859203</td><td> 0.027232060</td><td>23</td></tr>\n",
       "\t<tr><td>1</td><td>Negative intention</td><td> 7</td><td>7\n",
       "(0.092) </td><td>D</td><td>-0.008206535</td><td>0.017792379</td><td>-0.4612388</td><td>0.648959537</td><td>-0.045012876</td><td> 0.028599806</td><td>23</td></tr>\n",
       "\t<tr><td>1</td><td>Negative intention</td><td>10</td><td>10\n",
       "(0.158)</td><td>B</td><td>-0.055876677</td><td>0.018790196</td><td>-2.9737145</td><td>0.006796551</td><td>-0.094747158</td><td>-0.017006196</td><td>23</td></tr>\n",
       "\t<tr><td>1</td><td>Negative intention</td><td>10</td><td>10\n",
       "(0.158)</td><td>C</td><td>-0.021451402</td><td>0.016577591</td><td>-1.2940000</td><td>0.208508881</td><td>-0.055744761</td><td> 0.012841958</td><td>23</td></tr>\n",
       "\t<tr><td>1</td><td>Negative intention</td><td>10</td><td>10\n",
       "(0.158)</td><td>D</td><td>-0.024122006</td><td>0.018630928</td><td>-1.2947292</td><td>0.208261338</td><td>-0.062663016</td><td> 0.014419004</td><td>23</td></tr>\n",
       "\t<tr><td>1</td><td>Negative intention</td><td>14</td><td>14\n",
       "(0.217)</td><td>B</td><td>-0.034119276</td><td>0.021839309</td><td>-1.5622873</td><td>0.131876009</td><td>-0.079297329</td><td> 0.011058777</td><td>23</td></tr>\n",
       "\t<tr><td>1</td><td>Negative intention</td><td>14</td><td>14\n",
       "(0.217)</td><td>C</td><td> 0.008120419</td><td>0.024398771</td><td> 0.3328208</td><td>0.742284179</td><td>-0.042352285</td><td> 0.058593123</td><td>23</td></tr>\n",
       "\t<tr><td>1</td><td>Negative intention</td><td>14</td><td>14\n",
       "(0.217)</td><td>D</td><td> 0.037381771</td><td>0.026316023</td><td> 1.4204947</td><td>0.168879002</td><td>-0.017057070</td><td> 0.091820613</td><td>23</td></tr>\n",
       "\t<tr><td>1</td><td>Negative intention</td><td>21</td><td>21\n",
       "(0.314)</td><td>B</td><td>-0.019636618</td><td>0.014380067</td><td>-1.3655442</td><td>0.185289345</td><td>-0.049384053</td><td> 0.010110818</td><td>23</td></tr>\n",
       "\t<tr><td>1</td><td>Negative intention</td><td>21</td><td>21\n",
       "(0.314)</td><td>C</td><td>-0.005764359</td><td>0.016957222</td><td>-0.3399354</td><td>0.736990088</td><td>-0.040843045</td><td> 0.029314327</td><td>23</td></tr>\n",
       "\t<tr><td>1</td><td>Negative intention</td><td>21</td><td>21\n",
       "(0.314)</td><td>D</td><td> 0.056542840</td><td>0.019526786</td><td> 2.8956553</td><td>0.008153622</td><td> 0.016148606</td><td> 0.096937074</td><td>23</td></tr>\n",
       "\t<tr><td>1</td><td>Negative intention</td><td>28</td><td>28\n",
       "(0.344)</td><td>B</td><td>-0.023839803</td><td>0.012139699</td><td>-1.9637886</td><td>0.061754061</td><td>-0.048952685</td><td> 0.001273078</td><td>23</td></tr>\n",
       "\t<tr><td>1</td><td>Negative intention</td><td>28</td><td>28\n",
       "(0.344)</td><td>C</td><td>-0.007994908</td><td>0.012806919</td><td>-0.6242648</td><td>0.538597218</td><td>-0.034488039</td><td> 0.018498222</td><td>23</td></tr>\n",
       "\t<tr><td>1</td><td>Negative intention</td><td>28</td><td>28\n",
       "(0.344)</td><td>D</td><td> 0.033341933</td><td>0.014480294</td><td> 2.3025729</td><td>0.030690779</td><td> 0.003387163</td><td> 0.063296703</td><td>23</td></tr>\n",
       "</tbody>\n",
       "</table>\n"
      ],
      "text/latex": [
       "A grouped\\_df: 108 × 12\n",
       "\\begin{tabular}{llllllllllll}\n",
       " male & outcome & within & avg & term & estimate & std.error & statistic & p.value & conf.low & conf.high & df\\\\\n",
       " <dbl> & <fct> & <dbl> & <chr> & <fct> & <dbl> & <dbl> & <dbl> & <dbl> & <dbl> & <dbl> & <dbl>\\\\\n",
       "\\hline\n",
       "\t 0 & Reply              &  4 & 4\n",
       "(0.049)  & B & -0.006328884 & 0.009918907 & -0.6380626 & 5.297351e-01 & -0.026847706 &  0.0141899381 & 23\\\\\n",
       "\t 0 & Reply              &  4 & 4\n",
       "(0.049)  & C &  0.061846769 & 0.009458265 &  6.5389128 & 1.133466e-06 &  0.042280858 &  0.0814126808 & 23\\\\\n",
       "\t 0 & Reply              &  4 & 4\n",
       "(0.049)  & D &  0.038252858 & 0.011056710 &  3.4596962 & 2.126848e-03 &  0.015380311 &  0.0611254051 & 23\\\\\n",
       "\t 0 & Reply              &  7 & 7\n",
       "(0.317)  & B & -0.139458482 & 0.027537860 & -5.0642454 & 3.978058e-05 & -0.196424886 & -0.0824920774 & 23\\\\\n",
       "\t 0 & Reply              &  7 & 7\n",
       "(0.317)  & C & -0.032841460 & 0.036112901 & -0.9094108 & 3.725652e-01 & -0.107546688 &  0.0418637666 & 23\\\\\n",
       "\t 0 & Reply              &  7 & 7\n",
       "(0.317)  & D & -0.033710309 & 0.037525892 & -0.8983213 & 3.783226e-01 & -0.111338530 &  0.0439179124 & 23\\\\\n",
       "\t 0 & Reply              & 10 & 10\n",
       "(0.496) & B & -0.082339482 & 0.029961241 & -2.7482000 & 1.145112e-02 & -0.144319031 & -0.0203599332 & 23\\\\\n",
       "\t 0 & Reply              & 10 & 10\n",
       "(0.496) & C &  0.060706352 & 0.024242283 &  2.5041516 & 1.981181e-02 &  0.010557370 &  0.1108553346 & 23\\\\\n",
       "\t 0 & Reply              & 10 & 10\n",
       "(0.496) & D & -0.010907611 & 0.031041341 & -0.3513898 & 7.284946e-01 & -0.075121517 &  0.0533062940 & 23\\\\\n",
       "\t 0 & Reply              & 14 & 14\n",
       "(0.699) & B & -0.087036424 & 0.022307052 & -3.9017448 & 7.177904e-04 & -0.133182076 & -0.0408907707 & 23\\\\\n",
       "\t 0 & Reply              & 14 & 14\n",
       "(0.699) & C &  0.074394156 & 0.019264272 &  3.8617684 & 7.924700e-04 &  0.034542974 &  0.1142453386 & 23\\\\\n",
       "\t 0 & Reply              & 14 & 14\n",
       "(0.699) & D &  0.016787600 & 0.018818542 &  0.8920776 & 3.815898e-01 & -0.022141521 &  0.0557167205 & 23\\\\\n",
       "\t 0 & Reply              & 21 & 21\n",
       "(0.825) & B & -0.007486056 & 0.016346804 & -0.4579523 & 6.512839e-01 & -0.041301997 &  0.0263298844 & 23\\\\\n",
       "\t 0 & Reply              & 21 & 21\n",
       "(0.825) & C &  0.045358681 & 0.016603640 &  2.7318516 & 1.188616e-02 &  0.011011434 &  0.0797059282 & 23\\\\\n",
       "\t 0 & Reply              & 21 & 21\n",
       "(0.825) & D & -0.021713019 & 0.015224590 & -1.4261809 & 1.672493e-01 & -0.053207483 &  0.0097814450 & 23\\\\\n",
       "\t 0 & Reply              & 28 & 28\n",
       "(0.850) & B &  0.007210463 & 0.015945544 &  0.4521930 & 6.553659e-01 & -0.025775407 &  0.0401963339 & 23\\\\\n",
       "\t 0 & Reply              & 28 & 28\n",
       "(0.850) & C &  0.049495593 & 0.015583558 &  3.1761420 & 4.211843e-03 &  0.017258547 &  0.0817326389 & 23\\\\\n",
       "\t 0 & Reply              & 28 & 28\n",
       "(0.850) & D & -0.030928987 & 0.014777913 & -2.0929198 & 4.758287e-02 & -0.061499429 & -0.0003585451 & 23\\\\\n",
       "\t 0 & Positive intention &  4 & 4\n",
       "(0.033)  & B & -0.011380706 & 0.009752931 & -1.1669011 & 2.552068e-01 & -0.031556181 &  0.0087947687 & 23\\\\\n",
       "\t 0 & Positive intention &  4 & 4\n",
       "(0.033)  & C &  0.029059936 & 0.008755428 &  3.3190765 & 2.989626e-03 &  0.010947953 &  0.0471719198 & 23\\\\\n",
       "\t 0 & Positive intention &  4 & 4\n",
       "(0.033)  & D &  0.034447300 & 0.013429582 &  2.5650315 & 1.731010e-02 &  0.006666093 &  0.0622285057 & 23\\\\\n",
       "\t 0 & Positive intention &  7 & 7\n",
       "(0.207)  & B & -0.087673908 & 0.020526084 & -4.2713411 & 2.863203e-04 & -0.130135349 & -0.0452124678 & 23\\\\\n",
       "\t 0 & Positive intention &  7 & 7\n",
       "(0.207)  & C &  0.005078933 & 0.032927909 &  0.1542440 & 8.787628e-01 & -0.063037637 &  0.0731955032 & 23\\\\\n",
       "\t 0 & Positive intention &  7 & 7\n",
       "(0.207)  & D & -0.032722039 & 0.028215376 & -1.1597237 & 2.580594e-01 & -0.091089990 &  0.0256459124 & 23\\\\\n",
       "\t 0 & Positive intention & 10 & 10\n",
       "(0.329) & B & -0.055287462 & 0.019843900 & -2.7861188 & 1.049934e-02 & -0.096337697 & -0.0142372277 & 23\\\\\n",
       "\t 0 & Positive intention & 10 & 10\n",
       "(0.329) & C &  0.049753056 & 0.029247550 &  1.7011016 & 1.024067e-01 & -0.010750112 &  0.1102562233 & 23\\\\\n",
       "\t 0 & Positive intention & 10 & 10\n",
       "(0.329) & D & -0.038472978 & 0.028015383 & -1.3732804 & 1.829056e-01 & -0.096427214 &  0.0194812585 & 23\\\\\n",
       "\t 0 & Positive intention & 14 & 14\n",
       "(0.459) & B & -0.062337939 & 0.024738221 & -2.5199039 & 1.913405e-02 & -0.113512847 & -0.0111630307 & 23\\\\\n",
       "\t 0 & Positive intention & 14 & 14\n",
       "(0.459) & C &  0.029196186 & 0.024765161 &  1.1789217 & 2.504819e-01 & -0.022034452 &  0.0804268241 & 23\\\\\n",
       "\t 0 & Positive intention & 14 & 14\n",
       "(0.459) & D & -0.041292016 & 0.021494029 & -1.9210924 & 6.719964e-02 & -0.085755804 &  0.0031717712 & 23\\\\\n",
       "\t ⋮ & ⋮ & ⋮ & ⋮ & ⋮ & ⋮ & ⋮ & ⋮ & ⋮ & ⋮ & ⋮ & ⋮\\\\\n",
       "\t 1 & Positive intention & 10 & 10\n",
       "(0.228) & B &  0.037980369 & 0.029743397 &  1.2769345 & 0.214367032 & -0.023548534 &  0.099509273 & 23\\\\\n",
       "\t 1 & Positive intention & 10 & 10\n",
       "(0.228) & C &  0.009867290 & 0.034280206 &  0.2878422 & 0.776045305 & -0.061046720 &  0.080781300 & 23\\\\\n",
       "\t 1 & Positive intention & 10 & 10\n",
       "(0.228) & D &  0.003464337 & 0.029143042 &  0.1188735 & 0.906407700 & -0.056822639 &  0.063751312 & 23\\\\\n",
       "\t 1 & Positive intention & 14 & 14\n",
       "(0.306) & B &  0.097932100 & 0.033540955 &  2.9197767 & 0.007708826 &  0.028547348 &  0.167316852 & 23\\\\\n",
       "\t 1 & Positive intention & 14 & 14\n",
       "(0.306) & C &  0.033320405 & 0.029372518 &  1.1344075 & 0.268308879 & -0.027441278 &  0.094082088 & 23\\\\\n",
       "\t 1 & Positive intention & 14 & 14\n",
       "(0.306) & D &  0.051167402 & 0.023329345 &  2.1932636 & 0.038661838 &  0.002906976 &  0.099427828 & 23\\\\\n",
       "\t 1 & Positive intention & 21 & 21\n",
       "(0.361) & B &  0.101226365 & 0.030617382 &  3.3061731 & 0.003084031 &  0.037889485 &  0.164563245 & 23\\\\\n",
       "\t 1 & Positive intention & 21 & 21\n",
       "(0.361) & C &  0.023000762 & 0.021806294 &  1.0547763 & 0.302482330 & -0.022108993 &  0.068110518 & 23\\\\\n",
       "\t 1 & Positive intention & 21 & 21\n",
       "(0.361) & D &  0.051461952 & 0.023010427 &  2.2364623 & 0.035310411 &  0.003861258 &  0.099062646 & 23\\\\\n",
       "\t 1 & Positive intention & 28 & 28\n",
       "(0.372) & B &  0.102852437 & 0.028651273 &  3.5898034 & 0.001548234 &  0.043582764 &  0.162122111 & 23\\\\\n",
       "\t 1 & Positive intention & 28 & 28\n",
       "(0.372) & C &  0.028889168 & 0.019816780 &  1.4578134 & 0.158412160 & -0.012104964 &  0.069883300 & 23\\\\\n",
       "\t 1 & Positive intention & 28 & 28\n",
       "(0.372) & D &  0.047675114 & 0.022401586 &  2.1282026 & 0.044254552 &  0.001333903 &  0.094016325 & 23\\\\\n",
       "\t 1 & Negative intention &  4 & 4\n",
       "(0.022)  & B & -0.010224810 & 0.007734770 & -1.3219281 & 0.199189825 & -0.026225401 &  0.005775781 & 23\\\\\n",
       "\t 1 & Negative intention &  4 & 4\n",
       "(0.022)  & C & -0.012580438 & 0.006766054 & -1.8593462 & 0.075818451 & -0.026577088 &  0.001416212 & 23\\\\\n",
       "\t 1 & Negative intention &  4 & 4\n",
       "(0.022)  & D &  0.005184695 & 0.007454251 &  0.6955354 & 0.493688225 & -0.010235597 &  0.020604988 & 23\\\\\n",
       "\t 1 & Negative intention &  7 & 7\n",
       "(0.092)  & B & -0.039285473 & 0.016319635 & -2.4072519 & 0.024496130 & -0.073045211 & -0.005525735 & 23\\\\\n",
       "\t 1 & Negative intention &  7 & 7\n",
       "(0.092)  & C & -0.004313571 & 0.015249325 & -0.2828697 & 0.779806976 & -0.035859203 &  0.027232060 & 23\\\\\n",
       "\t 1 & Negative intention &  7 & 7\n",
       "(0.092)  & D & -0.008206535 & 0.017792379 & -0.4612388 & 0.648959537 & -0.045012876 &  0.028599806 & 23\\\\\n",
       "\t 1 & Negative intention & 10 & 10\n",
       "(0.158) & B & -0.055876677 & 0.018790196 & -2.9737145 & 0.006796551 & -0.094747158 & -0.017006196 & 23\\\\\n",
       "\t 1 & Negative intention & 10 & 10\n",
       "(0.158) & C & -0.021451402 & 0.016577591 & -1.2940000 & 0.208508881 & -0.055744761 &  0.012841958 & 23\\\\\n",
       "\t 1 & Negative intention & 10 & 10\n",
       "(0.158) & D & -0.024122006 & 0.018630928 & -1.2947292 & 0.208261338 & -0.062663016 &  0.014419004 & 23\\\\\n",
       "\t 1 & Negative intention & 14 & 14\n",
       "(0.217) & B & -0.034119276 & 0.021839309 & -1.5622873 & 0.131876009 & -0.079297329 &  0.011058777 & 23\\\\\n",
       "\t 1 & Negative intention & 14 & 14\n",
       "(0.217) & C &  0.008120419 & 0.024398771 &  0.3328208 & 0.742284179 & -0.042352285 &  0.058593123 & 23\\\\\n",
       "\t 1 & Negative intention & 14 & 14\n",
       "(0.217) & D &  0.037381771 & 0.026316023 &  1.4204947 & 0.168879002 & -0.017057070 &  0.091820613 & 23\\\\\n",
       "\t 1 & Negative intention & 21 & 21\n",
       "(0.314) & B & -0.019636618 & 0.014380067 & -1.3655442 & 0.185289345 & -0.049384053 &  0.010110818 & 23\\\\\n",
       "\t 1 & Negative intention & 21 & 21\n",
       "(0.314) & C & -0.005764359 & 0.016957222 & -0.3399354 & 0.736990088 & -0.040843045 &  0.029314327 & 23\\\\\n",
       "\t 1 & Negative intention & 21 & 21\n",
       "(0.314) & D &  0.056542840 & 0.019526786 &  2.8956553 & 0.008153622 &  0.016148606 &  0.096937074 & 23\\\\\n",
       "\t 1 & Negative intention & 28 & 28\n",
       "(0.344) & B & -0.023839803 & 0.012139699 & -1.9637886 & 0.061754061 & -0.048952685 &  0.001273078 & 23\\\\\n",
       "\t 1 & Negative intention & 28 & 28\n",
       "(0.344) & C & -0.007994908 & 0.012806919 & -0.6242648 & 0.538597218 & -0.034488039 &  0.018498222 & 23\\\\\n",
       "\t 1 & Negative intention & 28 & 28\n",
       "(0.344) & D &  0.033341933 & 0.014480294 &  2.3025729 & 0.030690779 &  0.003387163 &  0.063296703 & 23\\\\\n",
       "\\end{tabular}\n"
      ],
      "text/markdown": [
       "\n",
       "A grouped_df: 108 × 12\n",
       "\n",
       "| male &lt;dbl&gt; | outcome &lt;fct&gt; | within &lt;dbl&gt; | avg &lt;chr&gt; | term &lt;fct&gt; | estimate &lt;dbl&gt; | std.error &lt;dbl&gt; | statistic &lt;dbl&gt; | p.value &lt;dbl&gt; | conf.low &lt;dbl&gt; | conf.high &lt;dbl&gt; | df &lt;dbl&gt; |\n",
       "|---|---|---|---|---|---|---|---|---|---|---|---|\n",
       "| 0 | Reply              |  4 | 4\n",
       "(0.049)  | B | -0.006328884 | 0.009918907 | -0.6380626 | 5.297351e-01 | -0.026847706 |  0.0141899381 | 23 |\n",
       "| 0 | Reply              |  4 | 4\n",
       "(0.049)  | C |  0.061846769 | 0.009458265 |  6.5389128 | 1.133466e-06 |  0.042280858 |  0.0814126808 | 23 |\n",
       "| 0 | Reply              |  4 | 4\n",
       "(0.049)  | D |  0.038252858 | 0.011056710 |  3.4596962 | 2.126848e-03 |  0.015380311 |  0.0611254051 | 23 |\n",
       "| 0 | Reply              |  7 | 7\n",
       "(0.317)  | B | -0.139458482 | 0.027537860 | -5.0642454 | 3.978058e-05 | -0.196424886 | -0.0824920774 | 23 |\n",
       "| 0 | Reply              |  7 | 7\n",
       "(0.317)  | C | -0.032841460 | 0.036112901 | -0.9094108 | 3.725652e-01 | -0.107546688 |  0.0418637666 | 23 |\n",
       "| 0 | Reply              |  7 | 7\n",
       "(0.317)  | D | -0.033710309 | 0.037525892 | -0.8983213 | 3.783226e-01 | -0.111338530 |  0.0439179124 | 23 |\n",
       "| 0 | Reply              | 10 | 10\n",
       "(0.496) | B | -0.082339482 | 0.029961241 | -2.7482000 | 1.145112e-02 | -0.144319031 | -0.0203599332 | 23 |\n",
       "| 0 | Reply              | 10 | 10\n",
       "(0.496) | C |  0.060706352 | 0.024242283 |  2.5041516 | 1.981181e-02 |  0.010557370 |  0.1108553346 | 23 |\n",
       "| 0 | Reply              | 10 | 10\n",
       "(0.496) | D | -0.010907611 | 0.031041341 | -0.3513898 | 7.284946e-01 | -0.075121517 |  0.0533062940 | 23 |\n",
       "| 0 | Reply              | 14 | 14\n",
       "(0.699) | B | -0.087036424 | 0.022307052 | -3.9017448 | 7.177904e-04 | -0.133182076 | -0.0408907707 | 23 |\n",
       "| 0 | Reply              | 14 | 14\n",
       "(0.699) | C |  0.074394156 | 0.019264272 |  3.8617684 | 7.924700e-04 |  0.034542974 |  0.1142453386 | 23 |\n",
       "| 0 | Reply              | 14 | 14\n",
       "(0.699) | D |  0.016787600 | 0.018818542 |  0.8920776 | 3.815898e-01 | -0.022141521 |  0.0557167205 | 23 |\n",
       "| 0 | Reply              | 21 | 21\n",
       "(0.825) | B | -0.007486056 | 0.016346804 | -0.4579523 | 6.512839e-01 | -0.041301997 |  0.0263298844 | 23 |\n",
       "| 0 | Reply              | 21 | 21\n",
       "(0.825) | C |  0.045358681 | 0.016603640 |  2.7318516 | 1.188616e-02 |  0.011011434 |  0.0797059282 | 23 |\n",
       "| 0 | Reply              | 21 | 21\n",
       "(0.825) | D | -0.021713019 | 0.015224590 | -1.4261809 | 1.672493e-01 | -0.053207483 |  0.0097814450 | 23 |\n",
       "| 0 | Reply              | 28 | 28\n",
       "(0.850) | B |  0.007210463 | 0.015945544 |  0.4521930 | 6.553659e-01 | -0.025775407 |  0.0401963339 | 23 |\n",
       "| 0 | Reply              | 28 | 28\n",
       "(0.850) | C |  0.049495593 | 0.015583558 |  3.1761420 | 4.211843e-03 |  0.017258547 |  0.0817326389 | 23 |\n",
       "| 0 | Reply              | 28 | 28\n",
       "(0.850) | D | -0.030928987 | 0.014777913 | -2.0929198 | 4.758287e-02 | -0.061499429 | -0.0003585451 | 23 |\n",
       "| 0 | Positive intention |  4 | 4\n",
       "(0.033)  | B | -0.011380706 | 0.009752931 | -1.1669011 | 2.552068e-01 | -0.031556181 |  0.0087947687 | 23 |\n",
       "| 0 | Positive intention |  4 | 4\n",
       "(0.033)  | C |  0.029059936 | 0.008755428 |  3.3190765 | 2.989626e-03 |  0.010947953 |  0.0471719198 | 23 |\n",
       "| 0 | Positive intention |  4 | 4\n",
       "(0.033)  | D |  0.034447300 | 0.013429582 |  2.5650315 | 1.731010e-02 |  0.006666093 |  0.0622285057 | 23 |\n",
       "| 0 | Positive intention |  7 | 7\n",
       "(0.207)  | B | -0.087673908 | 0.020526084 | -4.2713411 | 2.863203e-04 | -0.130135349 | -0.0452124678 | 23 |\n",
       "| 0 | Positive intention |  7 | 7\n",
       "(0.207)  | C |  0.005078933 | 0.032927909 |  0.1542440 | 8.787628e-01 | -0.063037637 |  0.0731955032 | 23 |\n",
       "| 0 | Positive intention |  7 | 7\n",
       "(0.207)  | D | -0.032722039 | 0.028215376 | -1.1597237 | 2.580594e-01 | -0.091089990 |  0.0256459124 | 23 |\n",
       "| 0 | Positive intention | 10 | 10\n",
       "(0.329) | B | -0.055287462 | 0.019843900 | -2.7861188 | 1.049934e-02 | -0.096337697 | -0.0142372277 | 23 |\n",
       "| 0 | Positive intention | 10 | 10\n",
       "(0.329) | C |  0.049753056 | 0.029247550 |  1.7011016 | 1.024067e-01 | -0.010750112 |  0.1102562233 | 23 |\n",
       "| 0 | Positive intention | 10 | 10\n",
       "(0.329) | D | -0.038472978 | 0.028015383 | -1.3732804 | 1.829056e-01 | -0.096427214 |  0.0194812585 | 23 |\n",
       "| 0 | Positive intention | 14 | 14\n",
       "(0.459) | B | -0.062337939 | 0.024738221 | -2.5199039 | 1.913405e-02 | -0.113512847 | -0.0111630307 | 23 |\n",
       "| 0 | Positive intention | 14 | 14\n",
       "(0.459) | C |  0.029196186 | 0.024765161 |  1.1789217 | 2.504819e-01 | -0.022034452 |  0.0804268241 | 23 |\n",
       "| 0 | Positive intention | 14 | 14\n",
       "(0.459) | D | -0.041292016 | 0.021494029 | -1.9210924 | 6.719964e-02 | -0.085755804 |  0.0031717712 | 23 |\n",
       "| ⋮ | ⋮ | ⋮ | ⋮ | ⋮ | ⋮ | ⋮ | ⋮ | ⋮ | ⋮ | ⋮ | ⋮ |\n",
       "| 1 | Positive intention | 10 | 10\n",
       "(0.228) | B |  0.037980369 | 0.029743397 |  1.2769345 | 0.214367032 | -0.023548534 |  0.099509273 | 23 |\n",
       "| 1 | Positive intention | 10 | 10\n",
       "(0.228) | C |  0.009867290 | 0.034280206 |  0.2878422 | 0.776045305 | -0.061046720 |  0.080781300 | 23 |\n",
       "| 1 | Positive intention | 10 | 10\n",
       "(0.228) | D |  0.003464337 | 0.029143042 |  0.1188735 | 0.906407700 | -0.056822639 |  0.063751312 | 23 |\n",
       "| 1 | Positive intention | 14 | 14\n",
       "(0.306) | B |  0.097932100 | 0.033540955 |  2.9197767 | 0.007708826 |  0.028547348 |  0.167316852 | 23 |\n",
       "| 1 | Positive intention | 14 | 14\n",
       "(0.306) | C |  0.033320405 | 0.029372518 |  1.1344075 | 0.268308879 | -0.027441278 |  0.094082088 | 23 |\n",
       "| 1 | Positive intention | 14 | 14\n",
       "(0.306) | D |  0.051167402 | 0.023329345 |  2.1932636 | 0.038661838 |  0.002906976 |  0.099427828 | 23 |\n",
       "| 1 | Positive intention | 21 | 21\n",
       "(0.361) | B |  0.101226365 | 0.030617382 |  3.3061731 | 0.003084031 |  0.037889485 |  0.164563245 | 23 |\n",
       "| 1 | Positive intention | 21 | 21\n",
       "(0.361) | C |  0.023000762 | 0.021806294 |  1.0547763 | 0.302482330 | -0.022108993 |  0.068110518 | 23 |\n",
       "| 1 | Positive intention | 21 | 21\n",
       "(0.361) | D |  0.051461952 | 0.023010427 |  2.2364623 | 0.035310411 |  0.003861258 |  0.099062646 | 23 |\n",
       "| 1 | Positive intention | 28 | 28\n",
       "(0.372) | B |  0.102852437 | 0.028651273 |  3.5898034 | 0.001548234 |  0.043582764 |  0.162122111 | 23 |\n",
       "| 1 | Positive intention | 28 | 28\n",
       "(0.372) | C |  0.028889168 | 0.019816780 |  1.4578134 | 0.158412160 | -0.012104964 |  0.069883300 | 23 |\n",
       "| 1 | Positive intention | 28 | 28\n",
       "(0.372) | D |  0.047675114 | 0.022401586 |  2.1282026 | 0.044254552 |  0.001333903 |  0.094016325 | 23 |\n",
       "| 1 | Negative intention |  4 | 4\n",
       "(0.022)  | B | -0.010224810 | 0.007734770 | -1.3219281 | 0.199189825 | -0.026225401 |  0.005775781 | 23 |\n",
       "| 1 | Negative intention |  4 | 4\n",
       "(0.022)  | C | -0.012580438 | 0.006766054 | -1.8593462 | 0.075818451 | -0.026577088 |  0.001416212 | 23 |\n",
       "| 1 | Negative intention |  4 | 4\n",
       "(0.022)  | D |  0.005184695 | 0.007454251 |  0.6955354 | 0.493688225 | -0.010235597 |  0.020604988 | 23 |\n",
       "| 1 | Negative intention |  7 | 7\n",
       "(0.092)  | B | -0.039285473 | 0.016319635 | -2.4072519 | 0.024496130 | -0.073045211 | -0.005525735 | 23 |\n",
       "| 1 | Negative intention |  7 | 7\n",
       "(0.092)  | C | -0.004313571 | 0.015249325 | -0.2828697 | 0.779806976 | -0.035859203 |  0.027232060 | 23 |\n",
       "| 1 | Negative intention |  7 | 7\n",
       "(0.092)  | D | -0.008206535 | 0.017792379 | -0.4612388 | 0.648959537 | -0.045012876 |  0.028599806 | 23 |\n",
       "| 1 | Negative intention | 10 | 10\n",
       "(0.158) | B | -0.055876677 | 0.018790196 | -2.9737145 | 0.006796551 | -0.094747158 | -0.017006196 | 23 |\n",
       "| 1 | Negative intention | 10 | 10\n",
       "(0.158) | C | -0.021451402 | 0.016577591 | -1.2940000 | 0.208508881 | -0.055744761 |  0.012841958 | 23 |\n",
       "| 1 | Negative intention | 10 | 10\n",
       "(0.158) | D | -0.024122006 | 0.018630928 | -1.2947292 | 0.208261338 | -0.062663016 |  0.014419004 | 23 |\n",
       "| 1 | Negative intention | 14 | 14\n",
       "(0.217) | B | -0.034119276 | 0.021839309 | -1.5622873 | 0.131876009 | -0.079297329 |  0.011058777 | 23 |\n",
       "| 1 | Negative intention | 14 | 14\n",
       "(0.217) | C |  0.008120419 | 0.024398771 |  0.3328208 | 0.742284179 | -0.042352285 |  0.058593123 | 23 |\n",
       "| 1 | Negative intention | 14 | 14\n",
       "(0.217) | D |  0.037381771 | 0.026316023 |  1.4204947 | 0.168879002 | -0.017057070 |  0.091820613 | 23 |\n",
       "| 1 | Negative intention | 21 | 21\n",
       "(0.314) | B | -0.019636618 | 0.014380067 | -1.3655442 | 0.185289345 | -0.049384053 |  0.010110818 | 23 |\n",
       "| 1 | Negative intention | 21 | 21\n",
       "(0.314) | C | -0.005764359 | 0.016957222 | -0.3399354 | 0.736990088 | -0.040843045 |  0.029314327 | 23 |\n",
       "| 1 | Negative intention | 21 | 21\n",
       "(0.314) | D |  0.056542840 | 0.019526786 |  2.8956553 | 0.008153622 |  0.016148606 |  0.096937074 | 23 |\n",
       "| 1 | Negative intention | 28 | 28\n",
       "(0.344) | B | -0.023839803 | 0.012139699 | -1.9637886 | 0.061754061 | -0.048952685 |  0.001273078 | 23 |\n",
       "| 1 | Negative intention | 28 | 28\n",
       "(0.344) | C | -0.007994908 | 0.012806919 | -0.6242648 | 0.538597218 | -0.034488039 |  0.018498222 | 23 |\n",
       "| 1 | Negative intention | 28 | 28\n",
       "(0.344) | D |  0.033341933 | 0.014480294 |  2.3025729 | 0.030690779 |  0.003387163 |  0.063296703 | 23 |\n",
       "\n"
      ],
      "text/plain": [
       "    male outcome            within avg         term estimate     std.error  \n",
       "1   0    Reply               4     4\\n(0.049)  B    -0.006328884 0.009918907\n",
       "2   0    Reply               4     4\\n(0.049)  C     0.061846769 0.009458265\n",
       "3   0    Reply               4     4\\n(0.049)  D     0.038252858 0.011056710\n",
       "4   0    Reply               7     7\\n(0.317)  B    -0.139458482 0.027537860\n",
       "5   0    Reply               7     7\\n(0.317)  C    -0.032841460 0.036112901\n",
       "6   0    Reply               7     7\\n(0.317)  D    -0.033710309 0.037525892\n",
       "7   0    Reply              10     10\\n(0.496) B    -0.082339482 0.029961241\n",
       "8   0    Reply              10     10\\n(0.496) C     0.060706352 0.024242283\n",
       "9   0    Reply              10     10\\n(0.496) D    -0.010907611 0.031041341\n",
       "10  0    Reply              14     14\\n(0.699) B    -0.087036424 0.022307052\n",
       "11  0    Reply              14     14\\n(0.699) C     0.074394156 0.019264272\n",
       "12  0    Reply              14     14\\n(0.699) D     0.016787600 0.018818542\n",
       "13  0    Reply              21     21\\n(0.825) B    -0.007486056 0.016346804\n",
       "14  0    Reply              21     21\\n(0.825) C     0.045358681 0.016603640\n",
       "15  0    Reply              21     21\\n(0.825) D    -0.021713019 0.015224590\n",
       "16  0    Reply              28     28\\n(0.850) B     0.007210463 0.015945544\n",
       "17  0    Reply              28     28\\n(0.850) C     0.049495593 0.015583558\n",
       "18  0    Reply              28     28\\n(0.850) D    -0.030928987 0.014777913\n",
       "19  0    Positive intention  4     4\\n(0.033)  B    -0.011380706 0.009752931\n",
       "20  0    Positive intention  4     4\\n(0.033)  C     0.029059936 0.008755428\n",
       "21  0    Positive intention  4     4\\n(0.033)  D     0.034447300 0.013429582\n",
       "22  0    Positive intention  7     7\\n(0.207)  B    -0.087673908 0.020526084\n",
       "23  0    Positive intention  7     7\\n(0.207)  C     0.005078933 0.032927909\n",
       "24  0    Positive intention  7     7\\n(0.207)  D    -0.032722039 0.028215376\n",
       "25  0    Positive intention 10     10\\n(0.329) B    -0.055287462 0.019843900\n",
       "26  0    Positive intention 10     10\\n(0.329) C     0.049753056 0.029247550\n",
       "27  0    Positive intention 10     10\\n(0.329) D    -0.038472978 0.028015383\n",
       "28  0    Positive intention 14     14\\n(0.459) B    -0.062337939 0.024738221\n",
       "29  0    Positive intention 14     14\\n(0.459) C     0.029196186 0.024765161\n",
       "30  0    Positive intention 14     14\\n(0.459) D    -0.041292016 0.021494029\n",
       "⋮   ⋮    ⋮                  ⋮      ⋮           ⋮    ⋮            ⋮          \n",
       "79  1    Positive intention 10     10\\n(0.228) B     0.037980369 0.029743397\n",
       "80  1    Positive intention 10     10\\n(0.228) C     0.009867290 0.034280206\n",
       "81  1    Positive intention 10     10\\n(0.228) D     0.003464337 0.029143042\n",
       "82  1    Positive intention 14     14\\n(0.306) B     0.097932100 0.033540955\n",
       "83  1    Positive intention 14     14\\n(0.306) C     0.033320405 0.029372518\n",
       "84  1    Positive intention 14     14\\n(0.306) D     0.051167402 0.023329345\n",
       "85  1    Positive intention 21     21\\n(0.361) B     0.101226365 0.030617382\n",
       "86  1    Positive intention 21     21\\n(0.361) C     0.023000762 0.021806294\n",
       "87  1    Positive intention 21     21\\n(0.361) D     0.051461952 0.023010427\n",
       "88  1    Positive intention 28     28\\n(0.372) B     0.102852437 0.028651273\n",
       "89  1    Positive intention 28     28\\n(0.372) C     0.028889168 0.019816780\n",
       "90  1    Positive intention 28     28\\n(0.372) D     0.047675114 0.022401586\n",
       "91  1    Negative intention  4     4\\n(0.022)  B    -0.010224810 0.007734770\n",
       "92  1    Negative intention  4     4\\n(0.022)  C    -0.012580438 0.006766054\n",
       "93  1    Negative intention  4     4\\n(0.022)  D     0.005184695 0.007454251\n",
       "94  1    Negative intention  7     7\\n(0.092)  B    -0.039285473 0.016319635\n",
       "95  1    Negative intention  7     7\\n(0.092)  C    -0.004313571 0.015249325\n",
       "96  1    Negative intention  7     7\\n(0.092)  D    -0.008206535 0.017792379\n",
       "97  1    Negative intention 10     10\\n(0.158) B    -0.055876677 0.018790196\n",
       "98  1    Negative intention 10     10\\n(0.158) C    -0.021451402 0.016577591\n",
       "99  1    Negative intention 10     10\\n(0.158) D    -0.024122006 0.018630928\n",
       "100 1    Negative intention 14     14\\n(0.217) B    -0.034119276 0.021839309\n",
       "101 1    Negative intention 14     14\\n(0.217) C     0.008120419 0.024398771\n",
       "102 1    Negative intention 14     14\\n(0.217) D     0.037381771 0.026316023\n",
       "103 1    Negative intention 21     21\\n(0.314) B    -0.019636618 0.014380067\n",
       "104 1    Negative intention 21     21\\n(0.314) C    -0.005764359 0.016957222\n",
       "105 1    Negative intention 21     21\\n(0.314) D     0.056542840 0.019526786\n",
       "106 1    Negative intention 28     28\\n(0.344) B    -0.023839803 0.012139699\n",
       "107 1    Negative intention 28     28\\n(0.344) C    -0.007994908 0.012806919\n",
       "108 1    Negative intention 28     28\\n(0.344) D     0.033341933 0.014480294\n",
       "    statistic  p.value      conf.low     conf.high     df\n",
       "1   -0.6380626 5.297351e-01 -0.026847706  0.0141899381 23\n",
       "2    6.5389128 1.133466e-06  0.042280858  0.0814126808 23\n",
       "3    3.4596962 2.126848e-03  0.015380311  0.0611254051 23\n",
       "4   -5.0642454 3.978058e-05 -0.196424886 -0.0824920774 23\n",
       "5   -0.9094108 3.725652e-01 -0.107546688  0.0418637666 23\n",
       "6   -0.8983213 3.783226e-01 -0.111338530  0.0439179124 23\n",
       "7   -2.7482000 1.145112e-02 -0.144319031 -0.0203599332 23\n",
       "8    2.5041516 1.981181e-02  0.010557370  0.1108553346 23\n",
       "9   -0.3513898 7.284946e-01 -0.075121517  0.0533062940 23\n",
       "10  -3.9017448 7.177904e-04 -0.133182076 -0.0408907707 23\n",
       "11   3.8617684 7.924700e-04  0.034542974  0.1142453386 23\n",
       "12   0.8920776 3.815898e-01 -0.022141521  0.0557167205 23\n",
       "13  -0.4579523 6.512839e-01 -0.041301997  0.0263298844 23\n",
       "14   2.7318516 1.188616e-02  0.011011434  0.0797059282 23\n",
       "15  -1.4261809 1.672493e-01 -0.053207483  0.0097814450 23\n",
       "16   0.4521930 6.553659e-01 -0.025775407  0.0401963339 23\n",
       "17   3.1761420 4.211843e-03  0.017258547  0.0817326389 23\n",
       "18  -2.0929198 4.758287e-02 -0.061499429 -0.0003585451 23\n",
       "19  -1.1669011 2.552068e-01 -0.031556181  0.0087947687 23\n",
       "20   3.3190765 2.989626e-03  0.010947953  0.0471719198 23\n",
       "21   2.5650315 1.731010e-02  0.006666093  0.0622285057 23\n",
       "22  -4.2713411 2.863203e-04 -0.130135349 -0.0452124678 23\n",
       "23   0.1542440 8.787628e-01 -0.063037637  0.0731955032 23\n",
       "24  -1.1597237 2.580594e-01 -0.091089990  0.0256459124 23\n",
       "25  -2.7861188 1.049934e-02 -0.096337697 -0.0142372277 23\n",
       "26   1.7011016 1.024067e-01 -0.010750112  0.1102562233 23\n",
       "27  -1.3732804 1.829056e-01 -0.096427214  0.0194812585 23\n",
       "28  -2.5199039 1.913405e-02 -0.113512847 -0.0111630307 23\n",
       "29   1.1789217 2.504819e-01 -0.022034452  0.0804268241 23\n",
       "30  -1.9210924 6.719964e-02 -0.085755804  0.0031717712 23\n",
       "⋮   ⋮          ⋮            ⋮            ⋮             ⋮ \n",
       "79   1.2769345 0.214367032  -0.023548534  0.099509273  23\n",
       "80   0.2878422 0.776045305  -0.061046720  0.080781300  23\n",
       "81   0.1188735 0.906407700  -0.056822639  0.063751312  23\n",
       "82   2.9197767 0.007708826   0.028547348  0.167316852  23\n",
       "83   1.1344075 0.268308879  -0.027441278  0.094082088  23\n",
       "84   2.1932636 0.038661838   0.002906976  0.099427828  23\n",
       "85   3.3061731 0.003084031   0.037889485  0.164563245  23\n",
       "86   1.0547763 0.302482330  -0.022108993  0.068110518  23\n",
       "87   2.2364623 0.035310411   0.003861258  0.099062646  23\n",
       "88   3.5898034 0.001548234   0.043582764  0.162122111  23\n",
       "89   1.4578134 0.158412160  -0.012104964  0.069883300  23\n",
       "90   2.1282026 0.044254552   0.001333903  0.094016325  23\n",
       "91  -1.3219281 0.199189825  -0.026225401  0.005775781  23\n",
       "92  -1.8593462 0.075818451  -0.026577088  0.001416212  23\n",
       "93   0.6955354 0.493688225  -0.010235597  0.020604988  23\n",
       "94  -2.4072519 0.024496130  -0.073045211 -0.005525735  23\n",
       "95  -0.2828697 0.779806976  -0.035859203  0.027232060  23\n",
       "96  -0.4612388 0.648959537  -0.045012876  0.028599806  23\n",
       "97  -2.9737145 0.006796551  -0.094747158 -0.017006196  23\n",
       "98  -1.2940000 0.208508881  -0.055744761  0.012841958  23\n",
       "99  -1.2947292 0.208261338  -0.062663016  0.014419004  23\n",
       "100 -1.5622873 0.131876009  -0.079297329  0.011058777  23\n",
       "101  0.3328208 0.742284179  -0.042352285  0.058593123  23\n",
       "102  1.4204947 0.168879002  -0.017057070  0.091820613  23\n",
       "103 -1.3655442 0.185289345  -0.049384053  0.010110818  23\n",
       "104 -0.3399354 0.736990088  -0.040843045  0.029314327  23\n",
       "105  2.8956553 0.008153622   0.016148606  0.096937074  23\n",
       "106 -1.9637886 0.061754061  -0.048952685  0.001273078  23\n",
       "107 -0.6242648 0.538597218  -0.034488039  0.018498222  23\n",
       "108  2.3025729 0.030690779   0.003387163  0.063296703  23"
      ]
     },
     "metadata": {},
     "output_type": "display_data"
    }
   ],
   "source": [
    "#| include: false\n",
    "\n",
    "est_flow_sub <- flow %>%\n",
    "  mutate(age_less30 = if_else(age < 30, 1, 0)) %>%\n",
    "  dplyr::filter(age_less30 == 1) %>%\n",
    "  group_by(outcome, within, male) %>%\n",
    "  nest() %>%\n",
    "  mutate(\n",
    "    fit = map(data, ~ lm_robust(\n",
    "      update(mod$ctrl, . ~ . - male - age_demean),\n",
    "      cluster = RCTweek,\n",
    "      se_type = \"stata\",\n",
    "      data = .x\n",
    "    )),\n",
    "    avg = map_chr(data, ~ sprintf(\n",
    "      \"%1d\\n(%1.3f)\", within, with(subset(.x, treat == \"A\"), mean(value))\n",
    "    ))\n",
    "  ) %>%\n",
    "  mutate(\n",
    "    tidy = map(fit, tidy),\n",
    "    tidy = map(tidy, ~ subset(.x, str_detect(term, \"treat\"))),\n",
    "    tidy = map(tidy, ~ dplyr::select(.x, -outcome))\n",
    "  ) %>%\n",
    "  dplyr::select(-data, -fit) %>%\n",
    "  unnest(cols = tidy) %>%\n",
    "  mutate(\n",
    "    term = str_replace(term, \"treat\", \"\"),\n",
    "    term = factor(term, LETTERS[2:4])\n",
    "  )\n",
    "\n",
    "est_flow_sub"
   ]
  },
  {
   "cell_type": "code",
   "execution_count": 15,
   "metadata": {
    "vscode": {
     "languageId": "r"
    }
   },
   "outputs": [
    {
     "data": {
      "image/png": "[encoded data removed]",
      "text/plain": [
       "plot without title"
      ]
     },
     "metadata": {
      "image/png": {
       "height": 600,
       "width": 900
      }
     },
     "output_type": "display_data"
    }
   ],
   "source": [
    "#| label: fig-young-male-speed\n",
    "#| fig-cap: \"Effect on Reply within Specific Days after Sending Notification among Males Less than 30. Notes: These plots show the average effect (and associated 95% confidential interval) on each outcome.\"\n",
    "\n",
    "plot_list_male <- unique(est_flow_sub$outcome) %>%\n",
    "  purrr::map(function(x) {\n",
    "    subset(est_flow_sub, male == 1 & outcome == x) %>%\n",
    "      ggplot(aes(x = within, y = estimate, color = term, shape = term)) +\n",
    "      geom_hline(aes(yintercept = 0), linetype = 2) +\n",
    "      geom_point(size = 3, position = position_dodge(2)) +\n",
    "      geom_errorbar(\n",
    "        aes(ymin = conf.low, ymax = conf.high),\n",
    "        position = position_dodge(2),\n",
    "        width = 0\n",
    "      ) +\n",
    "      scale_x_continuous(\n",
    "        breaks = subset(est_flow_sub, male == 1 & outcome == x)$within,\n",
    "        labels = subset(est_flow_sub, male == 1 & outcome == x)$avg\n",
    "      ) +\n",
    "      scale_y_continuous(\n",
    "        breaks = seq(-0.2, 0.2, by = 0.05), limits = c(-0.1, 0.2)\n",
    "      ) +\n",
    "      labs(\n",
    "        title = paste(\"Outcome:\", x),\n",
    "        x = \"Days after sending notification\\n(Control average)\",\n",
    "        y = \"Estimated Effects (95%CI)\",\n",
    "        color = \"Treatment\", shape = \"Treatment\"\n",
    "      ) +\n",
    "      simplegg()\n",
    "  })\n",
    "\n",
    "wrap_plots(plot_list_male, ncol = 2) +\n",
    "  plot_layout(guides = \"collect\") &\n",
    "  theme(legend.position = \"bottom\")"
   ]
  },
  {
   "cell_type": "code",
   "execution_count": 16,
   "metadata": {
    "vscode": {
     "languageId": "r"
    }
   },
   "outputs": [
    {
     "data": {
      "image/png": "[encoded data removed]",
      "text/plain": [
       "plot without title"
      ]
     },
     "metadata": {
      "image/png": {
       "height": 600,
       "width": 900
      }
     },
     "output_type": "display_data"
    }
   ],
   "source": [
    "#| label: fig-young-female-speed\n",
    "#| fig-cap: \"Effect on Reply within Specific Days after Sending Notification among Females Less than 30. Notes: These plots show the average effect (and associated 95% confidential interval) on each outcome.\"\n",
    "\n",
    "plot_list_female <- unique(est_flow_sub$outcome) %>%\n",
    "  purrr::map(function(x) {\n",
    "    subset(est_flow_sub, male == 0 & outcome == x) %>%\n",
    "      ggplot(aes(x = within, y = estimate, color = term, shape = term)) +\n",
    "      geom_hline(aes(yintercept = 0), linetype = 2) +\n",
    "      geom_point(size = 3, position = position_dodge(2)) +\n",
    "      geom_errorbar(\n",
    "        aes(ymin = conf.low, ymax = conf.high),\n",
    "        position = position_dodge(2),\n",
    "        width = 0\n",
    "      ) +\n",
    "      scale_x_continuous(\n",
    "        breaks = subset(est_flow_sub, male == 0 & outcome == x)$within,\n",
    "        labels = subset(est_flow_sub, male == 0 & outcome == x)$avg\n",
    "      ) +\n",
    "      scale_y_continuous(\n",
    "        breaks = seq(-0.2, 0.2, by = 0.05), limits = c(-0.2, 0.2)\n",
    "      ) +\n",
    "      labs(\n",
    "        title = paste(\"Outcome:\", x),\n",
    "        x = \"Days after sending notification\\n(Control average)\",\n",
    "        y = \"Estimated Effects (95%CI)\",\n",
    "        color = \"Treatment\", shape = \"Treatment\"\n",
    "      ) +\n",
    "      simplegg()\n",
    "  })\n",
    "\n",
    "wrap_plots(plot_list_female, ncol = 2) +\n",
    "  plot_layout(guides = \"collect\") &\n",
    "  theme(legend.position = \"bottom\")"
   ]
  },
  {
   "attachments": {},
   "cell_type": "markdown",
   "metadata": {},
   "source": [
    "# Results: Effects on Coordination Process"
   ]
  },
  {
   "cell_type": "code",
   "execution_count": 17,
   "metadata": {
    "vscode": {
     "languageId": "r"
    }
   },
   "outputs": [],
   "source": [
    "#| include: false\n",
    "\n",
    "exclude <- use %>%\n",
    "  select(id, starts_with(\"exg_stop\")) %>%\n",
    "  pivot_longer(\n",
    "    -id,\n",
    "    names_to = \"outcome\", values_to = \"exclude\",\n",
    "    names_prefix = \"exg_stop_\"\n",
    "  )\n",
    "\n",
    "coordination <- use %>%\n",
    "  select(test, candidate, consent, donate, everything()) %>%\n",
    "  pivot_longer(test:donate, names_to = \"outcome\") %>%\n",
    "  dplyr::left_join(exclude, by = c(\"id\", \"outcome\")) %>%\n",
    "  mutate(\n",
    "    age_demean = age - mean(rawdt$age),\n",
    "    outcome = factor(\n",
    "      outcome,\n",
    "      levels = unlist(names(outcome_label)[4:7]),\n",
    "      labels = unlist(outcome_label[4:7])\n",
    "    )\n",
    "  )"
   ]
  },
  {
   "cell_type": "code",
   "execution_count": 18,
   "metadata": {
    "vscode": {
     "languageId": "r"
    }
   },
   "outputs": [
    {
     "name": "stdout",
     "output_type": "stream",
     "text": [
      "\\begin{table}\n",
      "\\centering\n",
      "\\begin{threeparttable}\n",
      "\\begin{tabular}[t]{lcccccccc}\n",
      "\\toprule\n",
      "\\multicolumn{1}{c}{ } & \\multicolumn{2}{c}{CT} & \\multicolumn{2}{c}{Candidate} & \\multicolumn{2}{c}{Consent} & \\multicolumn{2}{c}{Donation} \\\\\n",
      "\\cmidrule(l{3pt}r{3pt}){2-3} \\cmidrule(l{3pt}r{3pt}){4-5} \\cmidrule(l{3pt}r{3pt}){6-7} \\cmidrule(l{3pt}r{3pt}){8-9}\n",
      "  & (1) & (2) & (3) & (4) & (5) & (6) & (7) & (8)\\\\\n",
      "\\midrule\n",
      "Constant & \\num{0.2350}*** & \\num{0.1531}*** & \\num{0.0779}*** & \\num{0.0472}** & \\num{0.0687}*** & \\num{0.0318} & \\num{0.0574}*** & \\num{0.0272}*\\\\\n",
      " & (\\num{0.0115}) & (\\num{0.0295}) & (\\num{0.0065}) & (\\num{0.0224}) & (\\num{0.0062}) & (\\num{0.0197}) & (\\num{0.0052}) & (\\num{0.0164})\\\\\n",
      "Treatment B & \\num{0.0325}** & \\num{0.0351}*** & \\num{0.0051} & \\num{0.0049} & \\num{0.0059} & \\num{0.0051} & \\num{0.0040} & \\num{0.0032}\\\\\n",
      " & (\\num{0.0141}) & (\\num{0.0076}) & (\\num{0.0076}) & (\\num{0.0049}) & (\\num{0.0074}) & (\\num{0.0042}) & (\\num{0.0060}) & (\\num{0.0044})\\\\\n",
      "Treatment C & \\num{0.0146} & \\num{0.0145}* & \\num{0.0010} & \\num{-0.0016} & \\num{0.0024} & \\num{-0.0007} & \\num{0.0016} & \\num{-0.0011}\\\\\n",
      " & (\\num{0.0163}) & (\\num{0.0087}) & (\\num{0.0102}) & (\\num{0.0058}) & (\\num{0.0086}) & (\\num{0.0047}) & (\\num{0.0076}) & (\\num{0.0050})\\\\\n",
      "Treatment D & \\num{0.0260} & \\num{0.0318}*** & \\num{0.0084} & \\num{0.0097}** & \\num{0.0099} & \\num{0.0101}* & \\num{0.0030} & \\num{0.0034}\\\\\n",
      " & (\\num{0.0161}) & (\\num{0.0081}) & (\\num{0.0093}) & (\\num{0.0049}) & (\\num{0.0102}) & (\\num{0.0052}) & (\\num{0.0095}) & (\\num{0.0058})\\\\\n",
      "\\midrule\n",
      "Control average & 0.2350 & 0.2350 & 0.0779 & 0.0779 & 0.0687 & 0.0687 & 0.0574 & 0.0574\\\\\n",
      "Covariates &  & Y &  & Y &  & Y &  & Y\\\\\n",
      "Num.Obs. & \\num{10435} & \\num{10435} & \\num{8587} & \\num{8587} & \\num{8558} & \\num{8558} & \\num{8441} & \\num{8441}\\\\\n",
      "\\bottomrule\n",
      "\\end{tabular}\n",
      "\\begin{tablenotes}\n",
      "\\item \\textit{Note: } \n",
      "\\item * p < 0.1, ** p < 0.05, *** p < 0.01. Standard errors clustered by experimental weeks are reported in parentheses. Covariates are gender, squared polynomial of (demeaned) age, number of past coordinations, number of hospitals per 10 square kilometers, number of hospitals with PBSC collection per 10 square kilometers, number of hospitals with BM collection per 10 square kilometers, prefecture dummies, month dummies, and week dummies.\n",
      "\\end{tablenotes}\n",
      "\\end{threeparttable}\n",
      "\\end{table}\n"
     ]
    }
   ],
   "source": [
    "#| label: tbl-full-coordination\n",
    "#| tbl-cap: \"Linear Probability Model of Coordination Process.\"\n",
    "#| output: asis\n",
    "\n",
    "est_coordination <- coordination %>%\n",
    "  group_by(outcome) %>%\n",
    "  nest() %>%\n",
    "  mutate(\n",
    "    fit1 = map(\n",
    "      data,\n",
    "      ~ lm_robust(\n",
    "        mod$unctrl,\n",
    "        data = subset(., exclude == 0),\n",
    "        cluster = RCTweek,\n",
    "        se_type = \"stata\"\n",
    "      )\n",
    "    ),\n",
    "    fit2 = map(\n",
    "      data,\n",
    "      ~ lm_robust(\n",
    "        mod$ctrl,\n",
    "        data = subset(., exclude == 0),\n",
    "        cluster = RCTweek,\n",
    "        se_type = \"stata\"\n",
    "      )\n",
    "    ),\n",
    "    avg = map_chr(\n",
    "      data,\n",
    "      ~ with(\n",
    "        subset(., exclude == 0 & treat == \"A\"),\n",
    "        sprintf(\"%.4f\", mean(value))\n",
    "      )\n",
    "    )\n",
    "  ) %>%\n",
    "  pivot_longer(\n",
    "    fit1:fit2,\n",
    "    names_prefix = \"fit\",\n",
    "    names_to = \"model\",\n",
    "    values_to = \"fit\"\n",
    "  ) %>%\n",
    "  select(- data)\n",
    "\n",
    "add_table <- c(\"Control average\", est_coordination$avg) %>%\n",
    "  rbind(c(\"Covariates\", \"\", \"Y\", \"\", \"Y\", \"\", \"Y\", \"\", \"Y\")) %>%\n",
    "  data.frame()\n",
    "\n",
    "attr(add_table, \"position\") <- c(9, 10)\n",
    "\n",
    "est_coordination %>%\n",
    "  pull(fit) %>%\n",
    "  modelsummary(\n",
    "    coef_map = c(\n",
    "      \"(Intercept)\" = \"Constant\",\n",
    "      \"treatB\" = \"Treatment B\",\n",
    "      \"treatC\" = \"Treatment C\",\n",
    "      \"treatD\" = \"Treatment D\"\n",
    "    ),\n",
    "    stars = c(\"***\" = .01, \"**\" = .05, \"*\" = .1),\n",
    "    fmt = 4,\n",
    "    gof_omit = \"R2|AIC|BIC|Log|Std|FE|se_type\",\n",
    "    add_rows = add_table\n",
    "  ) %>%\n",
    "  kableExtra::kable_styling() %>%\n",
    "  kableExtra::add_header_above(c(\n",
    "    \" \" = 1, \"CT\" = 2, \"Candidate\" = 2, \"Consent\" = 2, \"Donation\" = 2\n",
    "  )) %>%\n",
    "  kableExtra::footnote(\n",
    "    paste(\n",
    "      \"* p < 0.1, ** p < 0.05, *** p < 0.01.\",\n",
    "      \"Standard errors clustered by experimental weeks\",\n",
    "      \"are reported in parentheses.\",\n",
    "      \"Covariates are gender, squared polynomial of (demeaned) age,\",\n",
    "      \"number of past coordinations,\",\n",
    "      \"number of hospitals per 10 square kilometers,\",\n",
    "      \"number of hospitals with PBSC collection per 10 square kilometers,\",\n",
    "      \"number of hospitals with BM collection per 10 square kilometers,\",\n",
    "      \"prefecture dummies, month dummies, and week dummies.\"\n",
    "    ),\n",
    "    threeparttable = TRUE\n",
    "  ) %>%\n",
    "  print()\n",
    "  # as.character() %>%\n",
    "  # display_html()"
   ]
  },
  {
   "cell_type": "code",
   "execution_count": 19,
   "metadata": {
    "vscode": {
     "languageId": "r"
    }
   },
   "outputs": [
    {
     "name": "stderr",
     "output_type": "stream",
     "text": [
      "3 coefficients  not defined because the design matrix is rank deficient\n",
      "\n",
      "\n"
     ]
    },
    {
     "name": "stderr",
     "output_type": "stream",
     "text": [
      "3 coefficients  not defined because the design matrix is rank deficient\n",
      "\n",
      "\n"
     ]
    },
    {
     "name": "stderr",
     "output_type": "stream",
     "text": [
      "3 coefficients  not defined because the design matrix is rank deficient\n",
      "\n",
      "\n"
     ]
    },
    {
     "name": "stderr",
     "output_type": "stream",
     "text": [
      "3 coefficients  not defined because the design matrix is rank deficient\n",
      "\n",
      "\n"
     ]
    },
    {
     "name": "stderr",
     "output_type": "stream",
     "text": [
      "3 coefficients  not defined because the design matrix is rank deficient\n",
      "\n",
      "\n"
     ]
    },
    {
     "name": "stderr",
     "output_type": "stream",
     "text": [
      "3 coefficients  not defined because the design matrix is rank deficient\n",
      "\n",
      "\n"
     ]
    },
    {
     "name": "stderr",
     "output_type": "stream",
     "text": [
      "3 coefficients  not defined because the design matrix is rank deficient\n",
      "\n",
      "\n"
     ]
    },
    {
     "name": "stderr",
     "output_type": "stream",
     "text": [
      "3 coefficients  not defined because the design matrix is rank deficient\n",
      "\n",
      "\n"
     ]
    },
    {
     "name": "stderr",
     "output_type": "stream",
     "text": [
      "3 coefficients  not defined because the design matrix is rank deficient\n",
      "\n",
      "\n"
     ]
    },
    {
     "name": "stderr",
     "output_type": "stream",
     "text": [
      "3 coefficients  not defined because the design matrix is rank deficient\n",
      "\n",
      "\n"
     ]
    },
    {
     "name": "stderr",
     "output_type": "stream",
     "text": [
      "3 coefficients  not defined because the design matrix is rank deficient\n",
      "\n",
      "\n"
     ]
    },
    {
     "name": "stderr",
     "output_type": "stream",
     "text": [
      "3 coefficients  not defined because the design matrix is rank deficient\n",
      "\n",
      "\n"
     ]
    },
    {
     "name": "stderr",
     "output_type": "stream",
     "text": [
      "3 coefficients  not defined because the design matrix is rank deficient\n",
      "\n",
      "\n"
     ]
    },
    {
     "name": "stderr",
     "output_type": "stream",
     "text": [
      "3 coefficients  not defined because the design matrix is rank deficient\n",
      "\n",
      "\n"
     ]
    },
    {
     "name": "stderr",
     "output_type": "stream",
     "text": [
      "3 coefficients  not defined because the design matrix is rank deficient\n",
      "\n",
      "\n"
     ]
    },
    {
     "name": "stderr",
     "output_type": "stream",
     "text": [
      "3 coefficients  not defined because the design matrix is rank deficient\n",
      "\n",
      "\n"
     ]
    }
   ],
   "source": [
    "#| include: false\n",
    "\n",
    "est_coordination_sub <- coordination %>%\n",
    "  mutate(age_less30 = if_else(age < 30, 1, 0)) %>%\n",
    "  group_by(outcome, male, age_less30) %>%\n",
    "  nest() %>%\n",
    "  mutate(est = map(data, ~ lm_robust(\n",
    "    update(mod$ctrl, . ~ . - male - age_demean),\n",
    "    cluster = RCTweek,\n",
    "    se_type = \"stata\",\n",
    "    data = subset(.x, exclude == 0)\n",
    "  ))) %>%\n",
    "  mutate(\n",
    "    fit = map(est, tidy),\n",
    "    fit = map(fit, ~ subset(.x, str_detect(term, \"treat\"))),\n",
    "    fit = map(fit, ~ dplyr::select(.x, -outcome)),\n",
    "    N = map_chr(est, ~ paste(\"N =\", nobs(.x))),\n",
    "    mean = map_dbl(data, ~ with(subset(., exclude == 0 & treat == \"A\"), mean(value))),\n",
    "    mean = sprintf(\"Control avg = %1.3f\", mean)\n",
    "  ) %>%\n",
    "  select(-data, -est) %>%\n",
    "  unnest(cols = fit) %>%\n",
    "  mutate(\n",
    "    pos = paste0(male, age_less30),\n",
    "    pos = factor(\n",
    "      pos,\n",
    "      levels = c(\"01\", \"00\", \"11\", \"10\"),\n",
    "      labels = c(\n",
    "        \"Female\\u00d7\\nAge<30\",\n",
    "        \"Female\\u00d7\\n30\\u2264Age\",\n",
    "        \"Male\\u00d7\\nAge<30\",\n",
    "        \"Male\\u00d7\\n30\\u2264Age\"\n",
    "      )\n",
    "    ),\n",
    "    term = str_replace(term, \"treat\", \"\"),\n",
    "    term = factor(term, LETTERS[2:4])\n",
    "  )"
   ]
  },
  {
   "cell_type": "code",
   "execution_count": 20,
   "metadata": {
    "vscode": {
     "languageId": "r"
    }
   },
   "outputs": [
    {
     "data": {
      "image/png": "[encoded data removed]",
      "text/plain": [
       "plot without title"
      ]
     },
     "metadata": {
      "image/png": {
       "height": 600,
       "width": 900
      }
     },
     "output_type": "display_data"
    }
   ],
   "source": [
    "#| label: fig-subsample-coordination\n",
    "#| fig-cap: \"Effect on Coordination by Gender and Age Group. Note: These plots show the average effect (and associated 95% confidential interval) on each outcome by gender and age group. We cluster standard errors by experimental weeks. We control number of past coordinations, number of hospitals per 10 square kilometers, number of hospitals with PBSC collection per 10 square kilometers, number of hospitals with BM collection per 10 square kilometers, prefecture dummies, month dummies, and week dummies.\"\n",
    "\n",
    "text <- est_coordination_sub %>%\n",
    "  ungroup() %>%\n",
    "  select(male, age_less30, pos, N, mean, outcome) %>%\n",
    "  distinct()\n",
    "\n",
    "plot_list <- unique(est_coordination_sub$outcome) %>%\n",
    "  purrr::map(function(x) {\n",
    "    subset(est_coordination_sub, outcome == x) %>%\n",
    "      ggplot(aes(x = pos, y = estimate)) +\n",
    "      geom_hline(aes(yintercept = 0), linetype = 2) +\n",
    "      geom_point(\n",
    "        aes(color = term, shape = term),\n",
    "        size = 3, position = position_dodge(0.5)\n",
    "      ) +\n",
    "      geom_errorbar(\n",
    "        aes(ymin = conf.low, ymax = conf.high, color = term),\n",
    "        position = position_dodge(0.5),\n",
    "        width = 0\n",
    "      ) +\n",
    "      geom_text(\n",
    "        aes(y = -0.1, label = N),\n",
    "        data = subset(text, outcome == x),\n",
    "        color = \"black\"\n",
    "      ) +\n",
    "      geom_text(\n",
    "        aes(y = -0.125, label = mean),\n",
    "        data = subset(text, outcome == x),\n",
    "        color = \"black\"\n",
    "      ) +\n",
    "      scale_y_continuous(\n",
    "        breaks = seq(-0.2, 0.2, by = 0.05), limits = c(-0.15, 0.2)\n",
    "      ) +\n",
    "      labs(\n",
    "        title = paste(\"Outcome:\", x),\n",
    "        x = \"Subset\",\n",
    "        y = \"Estimated Effects (95%CI)\",\n",
    "        color = \"Treatment\", shape = \"Treatment\"\n",
    "      ) +\n",
    "      simplegg()\n",
    "  })\n",
    "\n",
    "wrap_plots(plot_list, ncol = 2) +\n",
    "  plot_layout(guides = \"collect\") &\n",
    "  theme(legend.position = \"bottom\")"
   ]
  }
 ],
 "metadata": {
  "kernelspec": {
   "display_name": "IR 4.2",
   "language": "R",
   "name": "ir42"
  },
  "language_info": {
   "codemirror_mode": "r",
   "file_extension": ".r",
   "mimetype": "text/x-r-source",
   "name": "R",
   "pygments_lexer": "r",
   "version": "4.2.2"
  },
  "vscode": {
   "interpreter": {
    "hash": "369f2c481f4da34e4445cda3fffd2e751bd1c4d706f27375911949ba6bb62e1c"
   }
  }
 },
 "nbformat": 4,
 "nbformat_minor": 2
}
