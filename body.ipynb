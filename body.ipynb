{
 "cells": [
  {
   "attachments": {},
   "cell_type": "markdown",
   "metadata": {},
   "source": [
    "---\n",
    "title: |\n",
    "  Only You:\n",
    "  A Field Experiment of Text Message to Prevent Free-riding in Japan Marrow Donor Program\n",
    "author:\n",
    "  - name: Hiroki Kato\n",
    "    affiliations:\n",
    "      - Graduate School of Economics, Osaka University, Japan\n",
    "  - name: Fumio Ohtake\n",
    "    affiliations:\n",
    "      - Graduate School of Economics, Osaka University, Japan\n",
    "      - Center for Infectious Disease Education and Research (CiDER), Osaka University, Japan\n",
    "  - name: Saiko Kurosawa\n",
    "    affiliations:\n",
    "      - Department of Oncology, Ina Central Hospital, Japan\n",
    "  - name: Kazuhiro Yoshiuchi\n",
    "    affiliations:\n",
    "      - Graduate School of Medicine, Tokyo University, Japan\n",
    "  - name: Takahiro Fukuda\n",
    "    affiliations:\n",
    "      - Department of Hematopoietic Stem Cell Transplantation, National Cancer Center Hospital, Japan\n",
    "pdf-engine: lualatex\n",
    "format:\n",
    "  pdf:\n",
    "    documentclass: article\n",
    "    papersize: a4paper\n",
    "    fig-format: pdf\n",
    "    toc: false\n",
    "    number-sections: true\n",
    "    keep-tex: true\n",
    "    include-in-header:\n",
    "      - tex/header.tex\n",
    "latex-output-dir: docs/PDF\n",
    "execute:\n",
    "  echo: false\n",
    "  warning: false\n",
    "---"
   ]
  },
  {
   "cell_type": "code",
   "execution_count": null,
   "metadata": {
    "vscode": {
     "languageId": "r"
    }
   },
   "outputs": [],
   "source": [
    "#| include: false\n",
    "\n",
    "library(here)\n",
    "library(IRdisplay)\n",
    "source(here(\"R\", \"_library.r\"))\n",
    "source(here(\"R\", \"_outcome_labels.r\"))\n",
    "\n",
    "root <- \"D:/JMDPフィールド実験\""
   ]
  },
  {
   "attachments": {},
   "cell_type": "markdown",
   "metadata": {},
   "source": [
    "# Field Experiment\n",
    "## Background: Coordination Process of JMDP\n",
    "\n",
    "骨髄バンクに登録したドナー候補者が幹細胞を提供するために、以下の工程がある\n",
    "\n",
    "1. 適合通知の返信\n",
    "    - 骨髄バンクに登録した患者のHLAが一致すると、骨髄バンクはその候補者に幹細胞提供を依頼する適合通知を受け取る\n",
    "    - 適合通知を受け取ったドナー候補者は提供の意向を示して返信する\n",
    "1. 確認検査\n",
    "    - 1カ月以内に実施される\n",
    "    - コーディネーターが提供方法を詳細に説明をし、ドナーの意思や家族の同意について調査する\n",
    "    - 調整医師が問診、診察、感染症の有無や血液型を調べる一般血液検査を実施する\n",
    "    - 骨髄バンクが設定している基準を満たしているかどうかを検査する\n",
    "1. 第一候補者選定\n",
    "    - 患者は同時に最大10人のドナーとのコーディネーションを進められる\n",
    "    - 患者の主治医はその中から最もドナーに適した候補者を選ぶ\n",
    "    - 重要なことは、ドナー候補者は患者が何人のドナーとのコーディネーションを進めているかを知ることができない。また、コーディネーターや調整医師も知らないので、ドナー候補者はその情報を得られない。\n",
    "1. 最終同意\n",
    "    - 第一候補者に選定されたドナーは、コーディネーターと調整医師からの説明を再度受けて、最終的な意思決定をする\n",
    "    - ドナーは自身の意思だけでなく、家族の代表者の同意も必要である\n",
    "    - 最終同意後、ドナーは自身の意向を変えられない\n",
    "1. 採取\n",
    "    - 最終同意後、術前検査と採取準備（貧血を防ぐための自己血採血）を実施する\n",
    "    - 採取のために1週間程度の入院が必要である\n",
    "    - 確認検査から採取まで3～4カ月程度かかる\n",
    "\n",
    "## Experimental Design\n",
    "\n",
    "- ドナー候補者確定後、骨髄バンクは対象者に幹細胞提供を依頼する「適合通知」と、それを郵送した旨を伝えるSNSメッセージを送付する。\n",
    "- 適合通知の全文\n",
    "  - この度、あなたと骨髄バンクの登録患者さんのHLA型（白血球の型）が一致し、ドナー候補者のおひとりに選ばれました。今後、ご提供に向け詳しい検査や面談を希望されるかをお伺いしたく連絡させていただきました。同封の資料をよくお読みいただき、コーディネートが可能かどうか検討の上、この案内が届いてから7日以内に返信用紙ほかをご返送ください。返送後、コーディネートを進めさせていただく場合は、担当者よりご相談のお電話を差し上げますのでよろしくお願い申し上げます。\n",
    "- 我々の介入は行動科学の知見に基づくメッセージを適合通知に加える。\n",
    "  - 確率メッセージ「1人の登録患者さんとHLA型が一致するドナー登録者は数百〜数万人に1人です。ドナー候補者が複数みつかる場合もありますが、多くはないこともご理解頂ければ幸いです。」\n",
    "  - 患者情報メッセージ「骨髄バンクを介して移植ができる患者さんは約6割です。骨髄等を提供するドナーが早く見つかれば、その比率を高めることができます。」\n",
    "- これらのメッセージの目的はコーディネーションを促進することである。ただし、我々はドナー候補者に過度なプレッシャーを与えないように適切な配慮をして、メッセージを作成した。\n",
    "  - 嘆願調のようなメッセージを避けている\n",
    "  - メッセージの作成に際して、骨髄バンクが公開している情報のみを使用している\n",
    "  - 移植リスクに関する説明はこれまでと同様の方法で実施している\n",
    "- 二つの介入メッセージの効果を推定するために、我々は3つの実験群を設ける。\n",
    "  - 実験群A：介入メッセージなし\n",
    "  - 実験群B：確率メッセージ\n",
    "  - 実験群C：患者情報メッセージ\n",
    "- さらに、情報過多による認知負荷の負の影響を検証するために、二つの介入メッセージを両方加えた適合通知を送付する実験群Dも設ける。"
   ]
  },
  {
   "cell_type": "code",
   "execution_count": null,
   "metadata": {
    "vscode": {
     "languageId": "r"
    }
   },
   "outputs": [],
   "source": [
    "#| include: false\n",
    "\n",
    "schedule <- read_csv(here(root, \"RCT-schedule.csv\"))"
   ]
  },
  {
   "cell_type": "code",
   "execution_count": 49,
   "metadata": {
    "vscode": {
     "languageId": "r"
    }
   },
   "outputs": [
    {
     "data": {
      "text/html": [
       "<table class=\"table\" style=\"margin-left: auto; margin-right: auto;\">\n",
       "<caption>Assignment Schedule</caption>\n",
       " <thead>\n",
       "  <tr>\n",
       "   <th style=\"text-align:left;\"> week </th>\n",
       "   <th style=\"text-align:center;\"> Sep 21 </th>\n",
       "   <th style=\"text-align:center;\"> Oct 21 </th>\n",
       "   <th style=\"text-align:center;\"> Nov 21 </th>\n",
       "   <th style=\"text-align:center;\"> Dec 21 </th>\n",
       "   <th style=\"text-align:center;\"> Jan 22 </th>\n",
       "   <th style=\"text-align:center;\"> Feb 22 </th>\n",
       "  </tr>\n",
       " </thead>\n",
       "<tbody>\n",
       "  <tr>\n",
       "   <td style=\"text-align:left;\"> Week 1 </td>\n",
       "   <td style=\"text-align:center;\"> B </td>\n",
       "   <td style=\"text-align:center;\"> C </td>\n",
       "   <td style=\"text-align:center;\"> C </td>\n",
       "   <td style=\"text-align:center;\"> D </td>\n",
       "   <td style=\"text-align:center;\"> B </td>\n",
       "   <td style=\"text-align:center;\"> A </td>\n",
       "  </tr>\n",
       "  <tr>\n",
       "   <td style=\"text-align:left;\"> Week 2 </td>\n",
       "   <td style=\"text-align:center;\"> D </td>\n",
       "   <td style=\"text-align:center;\"> B </td>\n",
       "   <td style=\"text-align:center;\"> A </td>\n",
       "   <td style=\"text-align:center;\"> A </td>\n",
       "   <td style=\"text-align:center;\"> C </td>\n",
       "   <td style=\"text-align:center;\"> B </td>\n",
       "  </tr>\n",
       "  <tr>\n",
       "   <td style=\"text-align:left;\"> Week 3 </td>\n",
       "   <td style=\"text-align:center;\"> A </td>\n",
       "   <td style=\"text-align:center;\"> D </td>\n",
       "   <td style=\"text-align:center;\"> B </td>\n",
       "   <td style=\"text-align:center;\"> C </td>\n",
       "   <td style=\"text-align:center;\"> D </td>\n",
       "   <td style=\"text-align:center;\"> C </td>\n",
       "  </tr>\n",
       "  <tr>\n",
       "   <td style=\"text-align:left;\"> Week 4 </td>\n",
       "   <td style=\"text-align:center;\"> C </td>\n",
       "   <td style=\"text-align:center;\"> A </td>\n",
       "   <td style=\"text-align:center;\"> D </td>\n",
       "   <td style=\"text-align:center;\"> B </td>\n",
       "   <td style=\"text-align:center;\"> A </td>\n",
       "   <td style=\"text-align:center;\"> D </td>\n",
       "  </tr>\n",
       "</tbody>\n",
       "</table>"
      ]
     },
     "metadata": {},
     "output_type": "display_data"
    }
   ],
   "source": [
    "#| output: asis\n",
    "\n",
    "schedule %>%\n",
    "  mutate(\n",
    "    my = paste0(month, \"/\", year - 2000),\n",
    "    my = factor(\n",
    "      my,\n",
    "      levels = c(\"9/21\", \"10/21\", \"11/21\", \"12/21\", \"1/22\", \"2/22\"),\n",
    "      labels = c(\"Sep 21\", \"Oct 21\", \"Nov 21\", \"Dec 21\", \"Jan 22\", \"Feb 22\")\n",
    "    ),\n",
    "    week = factor(week, levels = 1:4, labels = paste(\"Week\", 1:4))\n",
    "  ) %>%\n",
    "  dplyr::select(week, my, treat) %>%\n",
    "  pivot_wider(values_from = treat, names_from = my) %>%\n",
    "  kable(\n",
    "    caption = 'Assignment Schedule',\n",
    "    align = 'lcccccc',\n",
    "    format = 'html',\n",
    "    booktabs = TRUE,\n",
    "    linesep = \"\"\n",
    "  ) %>%\n",
    "  kableExtra::kable_styling() %>%\n",
    "  # print()\n",
    "  as.character() %>%\n",
    "  display_html()"
   ]
  },
  {
   "attachments": {},
   "cell_type": "markdown",
   "metadata": {},
   "source": [
    "- 我々は2021年9月から2022年2月にかけて骨髄バンクが適合通知を送付したドナー候補者11,154名をフィールド実験の対象とした。\n",
    "- 実験群の割り当ては骨髄バンク事務局の業務の無理のない範囲で週単位でクラスターランダム化した。\n",
    "  - 週・月の固定効果を取り除けるように、実験群が週・月でバランスするように割り当てた。\n",
    "  - 割り当てのスケジュールは上表にまとめている"
   ]
  },
  {
   "attachments": {},
   "cell_type": "markdown",
   "metadata": {},
   "source": [
    "## Data and Empirical Strategy"
   ]
  },
  {
   "cell_type": "code",
   "execution_count": null,
   "metadata": {
    "vscode": {
     "languageId": "r"
    }
   },
   "outputs": [],
   "source": [
    "#| include: false\n",
    "\n",
    "rawdt <- read_csv(here(root, \"shaped.csv\"), locale = locale(encoding = \"cp932\"))\n",
    "\n",
    "use <- rawdt %>%\n",
    "  dplyr::filter(ongoing == 0) %>%\n",
    "  mutate(\n",
    "    treat = factor(treat, levels = LETTERS[1:4]),\n",
    "    plan_two_methods = if_else(plan_method == \"BM/PB\", 1, 0)\n",
    "  )"
   ]
  },
  {
   "cell_type": "code",
   "execution_count": 29,
   "metadata": {
    "vscode": {
     "languageId": "r"
    }
   },
   "outputs": [
    {
     "data": {
      "text/html": [
       "'F-value = 0.105; p-value = 0.956'"
      ],
      "text/latex": [
       "'F-value = 0.105; p-value = 0.956'"
      ],
      "text/markdown": [
       "'F-value = 0.105; p-value = 0.956'"
      ],
      "text/plain": [
       "[1] \"F-value = 0.105; p-value = 0.956\""
      ]
     },
     "metadata": {},
     "output_type": "display_data"
    }
   ],
   "source": [
    "#| include: false\n",
    "\n",
    "lm_robust(\n",
    "  ongoing ~ treat,\n",
    "  data = rawdt,\n",
    "  cluster = RCTweek,\n",
    "  se_type = \"stata\"\n",
    ") %>%\n",
    "{\n",
    "  f <- summary(.)$fstatistic[1]\n",
    "  numdf <- summary(.)$fstatistic[2]\n",
    "  dendf <- summary(.)$fstatistic[3]\n",
    "  p <- pf(f, numdf, dendf, lower.tail = FALSE)\n",
    "\n",
    "  sprintf(\"F-value = %1.3f; p-value = %1.3f\", f, p)\n",
    "}"
   ]
  },
  {
   "attachments": {},
   "cell_type": "markdown",
   "metadata": {},
   "source": [
    "- 我々は2022年6月末に骨髄バンクが管理するコーディネーションデータの提供を受けた。\n",
    "  - 観測単位はフィールド実験の対象であるドナー候補者である\n",
    "  - 個人属性として性別・年齢・過去のコーディネーション回数・居住地域（都道府県レベル）を記録している\n",
    "  - コーディネーションの過程について、提供に至るまでの各工程に到達したかどうかを記録しており、これらをアウトカム変数として用いる\n",
    "  - 適合通知の返信については、返信したかどうかに加えて、返信日数・提供意向についても記録きろくしている\n",
    "  - コーディネーションが途中で中断した場合、その理由を三つのカテゴリー（患者理由・ドナーの健康以外の理由・ドナーの健康上の理由）で記録している\n",
    "- 追加的なデータとして、JMDPがホームページ上で公開している施設リストを用いる\n",
    "  - このデータは病院の住所に加えて、骨髄採取が可能かどうか、末梢血幹細胞採取が可能かどうかを含んでいる\n",
    "  - 我々はこのデータを都道府県レベルで集計して、10平方キロメートル当たりの病院の数を計算し、コーディネーションデータと都道府県をキーとして突合する\n",
    "  - この変数をコーディネーションや提供の移動コストとみなす\n",
    "- 分析対象は分析対象は国内在住でコーディネーションが完全に終了している11,049名とする。\n",
    "  - 海外に在住する人が1名いた\n",
    "  - 現在もコーディネーションが進行している人が104名いた\n",
    "  - コーディネーションの進行中の比率は実験群でバランスしている（F-value, p-value = $0.956$）"
   ]
  },
  {
   "cell_type": "code",
   "execution_count": 47,
   "metadata": {
    "vscode": {
     "languageId": "r"
    }
   },
   "outputs": [
    {
     "data": {
      "text/html": [
       "<table class=\"table table\" style=\"width: auto !important; margin-left: auto; margin-right: auto; margin-left: auto; margin-right: auto;\">\n",
       "<caption>Overview of Field Experiment</caption>\n",
       " <thead>\n",
       "<tr>\n",
       "<th style=\"empty-cells: hide;border-bottom:hidden;\" colspan=\"1\"></th>\n",
       "<th style=\"border-bottom:hidden;padding-bottom:0; padding-left:3px;padding-right:3px;text-align: center; \" colspan=\"4\"><div style=\"border-bottom: 1px solid #ddd; padding-bottom: 5px; \">Experimental Arms</div></th>\n",
       "<th style=\"empty-cells: hide;border-bottom:hidden;\" colspan=\"1\"></th>\n",
       "</tr>\n",
       "  <tr>\n",
       "   <th style=\"text-align:left;\">   </th>\n",
       "   <th style=\"text-align:center;\"> A </th>\n",
       "   <th style=\"text-align:center;\"> B </th>\n",
       "   <th style=\"text-align:center;\"> C </th>\n",
       "   <th style=\"text-align:center;\"> D </th>\n",
       "   <th style=\"text-align:center;\"> F-test, p-value </th>\n",
       "  </tr>\n",
       " </thead>\n",
       "<tbody>\n",
       "  <tr grouplength=\"3\"><td colspan=\"6\" style=\"border-bottom: 1px solid;\"><strong>A. Interventions</strong></td></tr>\n",
       "<tr>\n",
       "   <td style=\"text-align:left;padding-left: 2em;\" indentlevel=\"1\"> 通常の適合通知 </td>\n",
       "   <td style=\"text-align:center;\"> X </td>\n",
       "   <td style=\"text-align:center;\"> X </td>\n",
       "   <td style=\"text-align:center;\"> X </td>\n",
       "   <td style=\"text-align:center;\"> X </td>\n",
       "   <td style=\"text-align:center;\">  </td>\n",
       "  </tr>\n",
       "  <tr>\n",
       "   <td style=\"text-align:left;padding-left: 2em;\" indentlevel=\"1\"> 確率メッセージ </td>\n",
       "   <td style=\"text-align:center;\">  </td>\n",
       "   <td style=\"text-align:center;\"> X </td>\n",
       "   <td style=\"text-align:center;\">  </td>\n",
       "   <td style=\"text-align:center;\"> X </td>\n",
       "   <td style=\"text-align:center;\">  </td>\n",
       "  </tr>\n",
       "  <tr>\n",
       "   <td style=\"text-align:left;padding-left: 2em;\" indentlevel=\"1\"> 患者情報メッセージ </td>\n",
       "   <td style=\"text-align:center;\">  </td>\n",
       "   <td style=\"text-align:center;\">  </td>\n",
       "   <td style=\"text-align:center;\"> X </td>\n",
       "   <td style=\"text-align:center;\"> X </td>\n",
       "   <td style=\"text-align:center;\">  </td>\n",
       "  </tr>\n",
       "  <tr grouplength=\"1\"><td colspan=\"6\" style=\"border-bottom: 1px solid;\"><strong>B. Sample Size</strong></td></tr>\n",
       "<tr>\n",
       "   <td style=\"text-align:left;padding-left: 2em;\" indentlevel=\"1\"> サンプルサイズ </td>\n",
       "   <td style=\"text-align:center;\"> 2535 </td>\n",
       "   <td style=\"text-align:center;\"> 3053 </td>\n",
       "   <td style=\"text-align:center;\"> 2726 </td>\n",
       "   <td style=\"text-align:center;\"> 2735 </td>\n",
       "   <td style=\"text-align:center;\">  </td>\n",
       "  </tr>\n",
       "  <tr grouplength=\"7\"><td colspan=\"6\" style=\"border-bottom: 1px solid;\"><strong>C. Covariates, Balance Test</strong></td></tr>\n",
       "<tr>\n",
       "   <td style=\"text-align:left;padding-left: 2em;\" indentlevel=\"1\"> Male (=1) </td>\n",
       "   <td style=\"text-align:center;\"> 0.62 </td>\n",
       "   <td style=\"text-align:center;\"> 0.63 </td>\n",
       "   <td style=\"text-align:center;\"> 0.63 </td>\n",
       "   <td style=\"text-align:center;\"> 0.61 </td>\n",
       "   <td style=\"text-align:center;\"> 0.36 </td>\n",
       "  </tr>\n",
       "  <tr>\n",
       "   <td style=\"text-align:left;padding-left: 2em;\" indentlevel=\"1\"> Age </td>\n",
       "   <td style=\"text-align:center;\"> 38.38 </td>\n",
       "   <td style=\"text-align:center;\"> 38.12 </td>\n",
       "   <td style=\"text-align:center;\"> 37.45 </td>\n",
       "   <td style=\"text-align:center;\"> 37.98 </td>\n",
       "   <td style=\"text-align:center;\"> 0.07 </td>\n",
       "  </tr>\n",
       "  <tr>\n",
       "   <td style=\"text-align:left;padding-left: 2em;\" indentlevel=\"1\"> Number of past coordinations </td>\n",
       "   <td style=\"text-align:center;\"> 1.61 </td>\n",
       "   <td style=\"text-align:center;\"> 1.59 </td>\n",
       "   <td style=\"text-align:center;\"> 1.62 </td>\n",
       "   <td style=\"text-align:center;\"> 1.56 </td>\n",
       "   <td style=\"text-align:center;\"> 0.45 </td>\n",
       "  </tr>\n",
       "  <tr>\n",
       "   <td style=\"text-align:left;padding-left: 2em;\" indentlevel=\"1\"> Planned harvest method: BM and PBMC </td>\n",
       "   <td style=\"text-align:center;\"> 0.87 </td>\n",
       "   <td style=\"text-align:center;\"> 0.89 </td>\n",
       "   <td style=\"text-align:center;\"> 0.87 </td>\n",
       "   <td style=\"text-align:center;\"> 0.90 </td>\n",
       "   <td style=\"text-align:center;\"> 0.28 </td>\n",
       "  </tr>\n",
       "  <tr>\n",
       "   <td style=\"text-align:left;padding-left: 2em;\" indentlevel=\"1\"> Number of listed hospitals </td>\n",
       "   <td style=\"text-align:center;\"> 0.48 </td>\n",
       "   <td style=\"text-align:center;\"> 0.49 </td>\n",
       "   <td style=\"text-align:center;\"> 0.49 </td>\n",
       "   <td style=\"text-align:center;\"> 0.49 </td>\n",
       "   <td style=\"text-align:center;\"> 0.80 </td>\n",
       "  </tr>\n",
       "  <tr>\n",
       "   <td style=\"text-align:left;padding-left: 2em;\" indentlevel=\"1\"> Number of hospitals listed with PBSC collection </td>\n",
       "   <td style=\"text-align:center;\"> 0.16 </td>\n",
       "   <td style=\"text-align:center;\"> 0.17 </td>\n",
       "   <td style=\"text-align:center;\"> 0.17 </td>\n",
       "   <td style=\"text-align:center;\"> 0.16 </td>\n",
       "   <td style=\"text-align:center;\"> 0.67 </td>\n",
       "  </tr>\n",
       "  <tr>\n",
       "   <td style=\"text-align:left;padding-left: 2em;\" indentlevel=\"1\"> Number of hospitals listed with BM collection </td>\n",
       "   <td style=\"text-align:center;\"> 0.25 </td>\n",
       "   <td style=\"text-align:center;\"> 0.26 </td>\n",
       "   <td style=\"text-align:center;\"> 0.25 </td>\n",
       "   <td style=\"text-align:center;\"> 0.25 </td>\n",
       "   <td style=\"text-align:center;\"> 0.80 </td>\n",
       "  </tr>\n",
       "</tbody>\n",
       "</table>"
      ]
     },
     "metadata": {},
     "output_type": "display_data"
    }
   ],
   "source": [
    "#| output: asis\n",
    "\n",
    "balance_test <- use %>%\n",
    "  select(\n",
    "    male,\n",
    "    age,\n",
    "    coordinate,\n",
    "    plan_two_methods,\n",
    "    hospital_per_area,\n",
    "    PB_per_area,\n",
    "    BM_per_area,\n",
    "    treat,\n",
    "    RCTweek\n",
    "  ) %>%\n",
    "  pivot_longer(male:BM_per_area, values_to = \"value\", names_to = \"vars\") %>%\n",
    "  group_by(vars) %>%\n",
    "  do(est = lm_robust(\n",
    "    value ~ treat,\n",
    "    clusters = RCTweek,\n",
    "    se_type = \"stata\",\n",
    "    data = .\n",
    "  )) %>%\n",
    "  summarize(\n",
    "    vars = vars,\n",
    "    f = summary(est)$fstatistic[1],\n",
    "    numdf = summary(est)$fstatistic[2],\n",
    "    dendf = summary(est)$fstatistic[3],\n",
    "    \"F-test, p-value\" = pf(f, numdf, dendf, lower.tail = FALSE)\n",
    "  )\n",
    "\n",
    "size <- with(use, sprintf(\"%1d\", table(treat))) %>%\n",
    "  {\n",
    "    tribble(\n",
    "      ~terms, ~A, ~B, ~C, ~D, ~\"F-test, p-value\",\n",
    "      \"通常の適合通知\", \"X\", \"X\", \"X\", \"X\", \"\",\n",
    "      \"確率メッセージ\", \"\", \"X\", \"\", \"X\", \"\",\n",
    "      \"患者情報メッセージ\", \"\", \"\", \"X\", \"X\", \"\",\n",
    "      \"サンプルサイズ\", .[1], .[2], .[3], .[4], \"\"\n",
    "    )\n",
    "  }\n",
    "\n",
    "attr(size, \"position\") <- seq(nrow(size))\n",
    "\n",
    "use %>%\n",
    "  datasummary(\n",
    "    (`Male (=1)` = male) +\n",
    "    (`Age` = age) +\n",
    "    (`Number of past coordinations` = coordinate) +\n",
    "    (`Planned harvest method: BM and PBMC` = plan_two_methods) +\n",
    "    (`Number of listed hospitals` = hospital_per_area) +\n",
    "    (`Number of hospitals listed with PBSC collection` = PB_per_area) +\n",
    "    (`Number of hospitals listed with BM collection` = BM_per_area) ~ mean * treat,\n",
    "    data = .,\n",
    "    title = \"Overview of Field Experiment\",\n",
    "    add_rows = size,\n",
    "    add_columns = balance_test[c(5, 1, 3, 7, 4, 2, 6), 5],\n",
    "    align = \"lccccc\",\n",
    "    output = \"html\"\n",
    "  ) %>%\n",
    "  kableExtra::kable_styling() %>%\n",
    "  add_header_above(c(\" \" = 1, \"Experimental Arms\" = 4, \" \" = 1)) %>%\n",
    "  group_rows(\"A. Interventions\", 1, 3) %>%\n",
    "  group_rows(\"B. Sample Size\", 4, 4) %>%\n",
    "  group_rows(\"C. Covariates, Balance Test\", 5, 11) %>%\n",
    "  # print()\n",
    "  as.character() %>%\n",
    "  display_html()"
   ]
  },
  {
   "attachments": {},
   "cell_type": "markdown",
   "metadata": {},
   "source": [
    "- 上表はフィールド実験を概観している\n",
    "  - パネルAは各実験群の介入をまとめており、パネルBは各実験群のサンプルサイズを示している\n",
    "  - パネルCは共変量のバランステストの結果を示しており、割り当てのランダム化が成功しているかどうかを検証している\n",
    "  - ほとんどの共変量は群間でバランスしているが、ドナー候補者の年齢は群間でアンバランスである可能性がある（F-test, p-value = $0.07$）\n",
    "  - 実験群C・Dのドナー候補者は実験群A・Bのドナー候補者よりも若い\n",
    "- ドナー候補者は実験群を選択できない、すなわち、実験群は外生的であるので、単純な二群比較は平均処置効果を識別できる。\n",
    "  - 一部の共変量、および割り当ての週と月が実験群間で完全にバランスしていないので、単純な二群比較はバイアスを伴う可能性がある\n",
    "  - そこで、我々は以下の線形確率モデルを推定する（$X_i$は個人属性ベクトル、$\\lambda_m$と$\\theta_w$はそれぞれ週・月のダミー変数）\n",
    "\n",
    "\\begin{equation}\n",
    "  Y_{imw} =\n",
    "  \\beta_1 \\cdot \\text{B}_{mw} + \\beta_2 \\cdot \\text{C}_{mw}\n",
    "  + \\beta_3 \\cdot \\text{D}_{mw}\n",
    "  + X'_i \\gamma + \\lambda_m + \\theta_w + u_{imw}\n",
    "\\end{equation}"
   ]
  }
 ],
 "metadata": {
  "kernelspec": {
   "display_name": "R 4.1",
   "language": "R",
   "name": "ir41"
  },
  "language_info": {
   "codemirror_mode": "r",
   "file_extension": ".r",
   "mimetype": "text/x-r-source",
   "name": "R",
   "pygments_lexer": "r",
   "version": "4.1.0"
  },
  "orig_nbformat": 4,
  "vscode": {
   "interpreter": {
    "hash": "369f2c481f4da34e4445cda3fffd2e751bd1c4d706f27375911949ba6bb62e1c"
   }
  }
 },
 "nbformat": 4,
 "nbformat_minor": 2
}
