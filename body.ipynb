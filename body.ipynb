{
 "cells": [
  {
   "attachments": {},
   "cell_type": "markdown",
   "metadata": {},
   "source": [
    "---\n",
    "title: |\n",
    "  Only You:\n",
    "  A Field Experiment of Text Message to Prevent Free-riding in Japan Marrow Donor Program\n",
    "author:\n",
    "  - name: Hiroki Kato\n",
    "    affiliations:\n",
    "      - Graduate School of Economics, Osaka University, Japan\n",
    "  - name: Fumio Ohtake\n",
    "    affiliations:\n",
    "      - Graduate School of Economics, Osaka University, Japan\n",
    "      - Center for Infectious Disease Education and Research (CiDER), Osaka University, Japan\n",
    "  - name: Saiko Kurosawa\n",
    "    affiliations:\n",
    "      - Department of Oncology, Ina Central Hospital, Japan\n",
    "  - name: Kazuhiro Yoshiuchi\n",
    "    affiliations:\n",
    "      - Graduate School of Medicine, Tokyo University, Japan\n",
    "  - name: Takahiro Fukuda\n",
    "    affiliations:\n",
    "      - Department of Hematopoietic Stem Cell Transplantation, National Cancer Center Hospital, Japan\n",
    "jupyter:\n",
    "  kernelspec:\n",
    "    display_name: IR 4.2\n",
    "    language: R\n",
    "    name: ir42\n",
    "pdf-engine: lualatex\n",
    "format:\n",
    "  pdf:\n",
    "    documentclass: article\n",
    "    papersize: a4paper\n",
    "    fig-format: pdf\n",
    "    fig-width: 15\n",
    "    fig-height: 10\n",
    "    toc: false\n",
    "    number-sections: true\n",
    "    keep-tex: true\n",
    "    latex-output-dir: docs/PDF\n",
    "    include-in-header:\n",
    "      - tex/header.tex\n",
    "execute:\n",
    "  echo: false\n",
    "  warning: false\n",
    "  enabled: true\n",
    "---"
   ]
  },
  {
   "cell_type": "code",
   "execution_count": 1,
   "metadata": {
    "vscode": {
     "languageId": "r"
    }
   },
   "outputs": [],
   "source": [
    "library(repr)\n",
    "options(repr.plot.width=15, repr.plot.height=10)"
   ]
  },
  {
   "cell_type": "code",
   "execution_count": 2,
   "metadata": {
    "vscode": {
     "languageId": "r"
    }
   },
   "outputs": [],
   "source": [
    "#| include: false\n",
    "\n",
    "library(here)\n",
    "library(IRdisplay)\n",
    "source(here(\"R\", \"_library.r\"))\n",
    "source(here(\"R\", \"_outcome_labels.r\"))\n",
    "\n",
    "root <- \"D:/JMDPフィールド実験\""
   ]
  },
  {
   "attachments": {},
   "cell_type": "markdown",
   "metadata": {},
   "source": [
    "# Field Experiment\n",
    "## Background: Coordination Process of JMDP\n",
    "\n",
    "骨髄バンクに登録したドナー候補者が幹細胞を提供するために、以下の工程がある\n",
    "\n",
    "1. 適合通知の返信\n",
    "    - 骨髄バンクに登録した患者のHLAが一致すると、骨髄バンクはその候補者に幹細胞提供を依頼する適合通知を受け取る\n",
    "    - 適合通知を受け取ったドナー候補者は提供の意向を示して返信する\n",
    "1. 確認検査\n",
    "    - 1カ月以内に実施される\n",
    "    - コーディネーターが提供方法を詳細に説明をし、ドナーの意思や家族の同意について調査する\n",
    "    - 調整医師が問診、診察、感染症の有無や血液型を調べる一般血液検査を実施する\n",
    "    - 骨髄バンクが設定している基準を満たしているかどうかを検査する\n",
    "1. 第一候補者選定\n",
    "    - 患者は同時に最大10人のドナーとのコーディネーションを進められる\n",
    "    - 患者の主治医はその中から最もドナーに適した候補者を選ぶ\n",
    "    - 重要なことは、ドナー候補者は患者が何人のドナーとのコーディネーションを進めているかを知ることができない。また、コーディネーターや調整医師も知らないので、ドナー候補者はその情報を得られない。\n",
    "1. 最終同意\n",
    "    - 第一候補者に選定されたドナーは、コーディネーターと調整医師からの説明を再度受けて、最終的な意思決定をする\n",
    "    - ドナーは自身の意思だけでなく、家族の代表者の同意も必要である\n",
    "    - 最終同意後、ドナーは自身の意向を変えられない\n",
    "1. 採取\n",
    "    - 最終同意後、術前検査と採取準備（貧血を防ぐための自己血採血）を実施する\n",
    "    - 採取のために1週間程度の入院が必要である\n",
    "    - 確認検査から採取まで3～4カ月程度かかる\n",
    "\n",
    "## Experimental Design\n",
    "\n",
    "- ドナー候補者確定後、骨髄バンクは対象者に幹細胞提供を依頼する「適合通知」と、それを郵送した旨を伝えるSNSメッセージを送付する。\n",
    "- 適合通知の全文\n",
    "  - この度、あなたと骨髄バンクの登録患者さんのHLA型（白血球の型）が一致し、ドナー候補者のおひとりに選ばれました。今後、ご提供に向け詳しい検査や面談を希望されるかをお伺いしたく連絡させていただきました。同封の資料をよくお読みいただき、コーディネートが可能かどうか検討の上、この案内が届いてから7日以内に返信用紙ほかをご返送ください。返送後、コーディネートを進めさせていただく場合は、担当者よりご相談のお電話を差し上げますのでよろしくお願い申し上げます。\n",
    "- 我々の介入は行動科学の知見に基づくメッセージを適合通知に加える。\n",
    "  - 確率メッセージ「1人の登録患者さんとHLA型が一致するドナー登録者は数百〜数万人に1人です。ドナー候補者が複数みつかる場合もありますが、多くはないこともご理解頂ければ幸いです。」\n",
    "  - 患者情報メッセージ「骨髄バンクを介して移植ができる患者さんは約6割です。骨髄等を提供するドナーが早く見つかれば、その比率を高めることができます。」\n",
    "- これらのメッセージの目的はコーディネーションを促進することである。ただし、我々はドナー候補者に過度なプレッシャーを与えないように適切な配慮をして、メッセージを作成した。\n",
    "  - 嘆願調のようなメッセージを避けている\n",
    "  - メッセージの作成に際して、骨髄バンクが公開している情報のみを使用している\n",
    "  - 移植リスクに関する説明はこれまでと同様の方法で実施している\n",
    "- 二つの介入メッセージの効果を推定するために、我々は3つの実験群を設ける。\n",
    "  - 実験群A：介入メッセージなし\n",
    "  - 実験群B：確率メッセージ\n",
    "  - 実験群C：患者情報メッセージ\n",
    "- さらに、情報過多による認知負荷の負の影響を検証するために、二つの介入メッセージを両方加えた適合通知を送付する実験群Dも設ける。"
   ]
  },
  {
   "cell_type": "code",
   "execution_count": 3,
   "metadata": {
    "vscode": {
     "languageId": "r"
    }
   },
   "outputs": [
    {
     "name": "stderr",
     "output_type": "stream",
     "text": [
      "\u001b[1mRows: \u001b[22m\u001b[34m24\u001b[39m \u001b[1mColumns: \u001b[22m\u001b[34m7\u001b[39m\n"
     ]
    },
    {
     "name": "stderr",
     "output_type": "stream",
     "text": [
      "\u001b[36m──\u001b[39m \u001b[1mColumn specification\u001b[22m \u001b[36m────────────────────────────────────────────────────────\u001b[39m\n",
      "\u001b[1mDelimiter:\u001b[22m \",\"\n",
      "\u001b[31mchr\u001b[39m  (1): treat\n",
      "\u001b[32mdbl\u001b[39m  (4): year, month, week, RCTweek\n",
      "\u001b[34mdate\u001b[39m (2): start_date, end_date\n"
     ]
    },
    {
     "name": "stderr",
     "output_type": "stream",
     "text": [
      "\n",
      "\u001b[36mℹ\u001b[39m Use `spec()` to retrieve the full column specification for this data.\n",
      "\u001b[36mℹ\u001b[39m Specify the column types or set `show_col_types = FALSE` to quiet this message.\n"
     ]
    }
   ],
   "source": [
    "#| include: false\n",
    "\n",
    "schedule <- read_csv(here(root, \"RCT-schedule.csv\"))"
   ]
  },
  {
   "cell_type": "code",
   "execution_count": 4,
   "metadata": {
    "vscode": {
     "languageId": "r"
    }
   },
   "outputs": [
    {
     "name": "stdout",
     "output_type": "stream",
     "text": [
      "\\begin{table}\n",
      "\n",
      "\\caption{Assignment Schedule}\n",
      "\\centering\n",
      "\\begin{tabular}[t]{lcccccc}\n",
      "\\toprule\n",
      "week & Sep 21 & Oct 21 & Nov 21 & Dec 21 & Jan 22 & Feb 22\\\\\n",
      "\\midrule\n",
      "Week 1 & B & C & C & D & B & A\\\\\n",
      "Week 2 & D & B & A & A & C & B\\\\\n",
      "Week 3 & A & D & B & C & D & C\\\\\n",
      "Week 4 & C & A & D & B & A & D\\\\\n",
      "\\bottomrule\n",
      "\\end{tabular}\n",
      "\\end{table}\n"
     ]
    }
   ],
   "source": [
    "#| output: asis\n",
    "\n",
    "schedule %>%\n",
    "  mutate(\n",
    "    my = paste0(month, \"/\", year - 2000),\n",
    "    my = factor(\n",
    "      my,\n",
    "      levels = c(\"9/21\", \"10/21\", \"11/21\", \"12/21\", \"1/22\", \"2/22\"),\n",
    "      labels = c(\"Sep 21\", \"Oct 21\", \"Nov 21\", \"Dec 21\", \"Jan 22\", \"Feb 22\")\n",
    "    ),\n",
    "    week = factor(week, levels = 1:4, labels = paste(\"Week\", 1:4))\n",
    "  ) %>%\n",
    "  dplyr::select(week, my, treat) %>%\n",
    "  pivot_wider(values_from = treat, names_from = my) %>%\n",
    "  kable(\n",
    "    caption = 'Assignment Schedule',\n",
    "    align = 'lcccccc',\n",
    "    format = 'latex',\n",
    "    booktabs = TRUE,\n",
    "    linesep = \"\"\n",
    "  ) %>%\n",
    "  kableExtra::kable_styling() %>%\n",
    "  print()\n",
    "  # as.character() %>%\n",
    "  # display_html()"
   ]
  },
  {
   "attachments": {},
   "cell_type": "markdown",
   "metadata": {},
   "source": [
    "- 我々は2021年9月から2022年2月にかけて骨髄バンクが適合通知を送付したドナー候補者11,154名をフィールド実験の対象とした。\n",
    "- 実験群の割り当ては骨髄バンク事務局の業務の無理のない範囲で週単位でクラスターランダム化した。\n",
    "  - 週・月の固定効果を取り除けるように、実験群が週・月でバランスするように割り当てた。\n",
    "  - 割り当てのスケジュールは上表にまとめている"
   ]
  },
  {
   "attachments": {},
   "cell_type": "markdown",
   "metadata": {},
   "source": [
    "## Data and Empirical Strategy"
   ]
  },
  {
   "cell_type": "code",
   "execution_count": 5,
   "metadata": {
    "vscode": {
     "languageId": "r"
    }
   },
   "outputs": [
    {
     "name": "stderr",
     "output_type": "stream",
     "text": [
      "\u001b[1mRows: \u001b[22m\u001b[34m11153\u001b[39m \u001b[1mColumns: \u001b[22m\u001b[34m39\u001b[39m\n"
     ]
    },
    {
     "name": "stderr",
     "output_type": "stream",
     "text": [
      "\u001b[36m──\u001b[39m \u001b[1mColumn specification\u001b[22m \u001b[36m────────────────────────────────────────────────────────\u001b[39m\n",
      "\u001b[1mDelimiter:\u001b[22m \",\"\n",
      "\u001b[31mchr\u001b[39m   (6): treat, prefecture, reasonBM, reasonPB, plan_method, method\n",
      "\u001b[32mdbl\u001b[39m  (31): year, month, week, RCTweek, id, sentenceB, sentenceC, toka, male,...\n",
      "\u001b[34mdate\u001b[39m  (2): start_date, end_date\n"
     ]
    },
    {
     "name": "stderr",
     "output_type": "stream",
     "text": [
      "\n",
      "\u001b[36mℹ\u001b[39m Use `spec()` to retrieve the full column specification for this data.\n",
      "\u001b[36mℹ\u001b[39m Specify the column types or set `show_col_types = FALSE` to quiet this message.\n"
     ]
    }
   ],
   "source": [
    "#| include: false\n",
    "\n",
    "rawdt <- read_csv(here(root, \"shaped.csv\"), locale = locale(encoding = \"cp932\"))\n",
    "\n",
    "use <- rawdt %>%\n",
    "  dplyr::filter(ongoing == 0) %>%\n",
    "  mutate(\n",
    "    treat = factor(treat, levels = LETTERS[1:4]),\n",
    "    plan_two_methods = if_else(plan_method == \"BM/PB\", 1, 0)\n",
    "  )"
   ]
  },
  {
   "cell_type": "code",
   "execution_count": 6,
   "metadata": {
    "vscode": {
     "languageId": "r"
    }
   },
   "outputs": [
    {
     "data": {
      "text/html": [
       "'F-value = 0.105; p-value = 0.956'"
      ],
      "text/latex": [
       "'F-value = 0.105; p-value = 0.956'"
      ],
      "text/markdown": [
       "'F-value = 0.105; p-value = 0.956'"
      ],
      "text/plain": [
       "[1] \"F-value = 0.105; p-value = 0.956\""
      ]
     },
     "metadata": {},
     "output_type": "display_data"
    }
   ],
   "source": [
    "#| include: false\n",
    "\n",
    "lm_robust(\n",
    "  ongoing ~ treat,\n",
    "  data = rawdt,\n",
    "  cluster = RCTweek,\n",
    "  se_type = \"stata\"\n",
    ") %>%\n",
    "{\n",
    "  f <- summary(.)$fstatistic[1]\n",
    "  numdf <- summary(.)$fstatistic[2]\n",
    "  dendf <- summary(.)$fstatistic[3]\n",
    "  p <- pf(f, numdf, dendf, lower.tail = FALSE)\n",
    "\n",
    "  sprintf(\"F-value = %1.3f; p-value = %1.3f\", f, p)\n",
    "}"
   ]
  },
  {
   "attachments": {},
   "cell_type": "markdown",
   "metadata": {},
   "source": [
    "- 我々は2022年6月末に骨髄バンクが管理するコーディネーションデータの提供を受けた。\n",
    "  - 観測単位はフィールド実験の対象であるドナー候補者である\n",
    "  - 個人属性として性別・年齢・過去のコーディネーション回数・居住地域（都道府県レベル）を記録している\n",
    "  - コーディネーションの過程について、提供に至るまでの各工程に到達したかどうかを記録しており、これらをアウトカム変数として用いる\n",
    "  - 適合通知の返信については、返信したかどうかに加えて、返信日数・提供意向についても記録きろくしている\n",
    "  - コーディネーションが途中で中断した場合、その理由を三つのカテゴリー（患者理由・ドナーの健康以外の理由・ドナーの健康上の理由）で記録している\n",
    "- 追加的なデータとして、JMDPがホームページ上で公開している施設リストを用いる\n",
    "  - このデータは病院の住所に加えて、骨髄採取が可能かどうか、末梢血幹細胞採取が可能かどうかを含んでいる\n",
    "  - 我々はこのデータを都道府県レベルで集計して、10平方キロメートル当たりの病院の数を計算し、コーディネーションデータと都道府県をキーとして突合する\n",
    "  - この変数をコーディネーションや提供の移動コストとみなす\n",
    "- 分析対象は分析対象は国内在住でコーディネーションが完全に終了している11,049名とする。\n",
    "  - 海外に在住する人が1名いた\n",
    "  - 現在もコーディネーションが進行している人が104名いた\n",
    "  - コーディネーションの進行中の比率は実験群でバランスしている（F-value, p-value = $0.956$）"
   ]
  },
  {
   "cell_type": "code",
   "execution_count": 7,
   "metadata": {
    "vscode": {
     "languageId": "r"
    }
   },
   "outputs": [
    {
     "name": "stdout",
     "output_type": "stream",
     "text": [
      "\\begin{table}\n",
      "\n",
      "\\caption{Overview of Field Experiment}\n",
      "\\centering\n",
      "\\begin{tabular}[t]{lccccc}\n",
      "\\toprule\n",
      "\\multicolumn{1}{c}{ } & \\multicolumn{4}{c}{Experimental Arms} & \\multicolumn{1}{c}{ } \\\\\n",
      "\\cmidrule(l{3pt}r{3pt}){2-5}\n",
      "  & A & B & C & D & F-test, p-value\\\\\n",
      "\\midrule\n",
      "\\addlinespace[0.3em]\n",
      "\\multicolumn{6}{l}{\\textbf{A. Interventions}}\\\\\n",
      "\\hspace{1em}通常の適合通知 & X & X & X & X & \\\\\n",
      "\\hspace{1em}確率メッセージ &  & X &  & X & \\\\\n",
      "\\hspace{1em}患者情報メッセージ &  &  & X & X & \\\\\n",
      "\\addlinespace[0.3em]\n",
      "\\multicolumn{6}{l}{\\textbf{B. Sample Size}}\\\\\n",
      "\\hspace{1em}サンプルサイズ & 2535 & 3053 & 2726 & 2735 & \\\\\n",
      "\\addlinespace[0.3em]\n",
      "\\multicolumn{6}{l}{\\textbf{C. Covariates, Balance Test}}\\\\\n",
      "\\hspace{1em}Male (=1) & \\num{0.62} & \\num{0.63} & \\num{0.63} & \\num{0.61} & \\num{0.36}\\\\\n",
      "\\hspace{1em}Age & \\num{38.38} & \\num{38.12} & \\num{37.45} & \\num{37.98} & \\num{0.07}\\\\\n",
      "\\hspace{1em}Number of past coordinations & \\num{1.61} & \\num{1.59} & \\num{1.62} & \\num{1.56} & \\num{0.45}\\\\\n",
      "\\hspace{1em}Planned harvest method: BM and PBMC & \\num{0.87} & \\num{0.89} & \\num{0.87} & \\num{0.90} & \\num{0.28}\\\\\n",
      "\\hspace{1em}Number of listed hospitals & \\num{0.48} & \\num{0.49} & \\num{0.49} & \\num{0.49} & \\num{0.80}\\\\\n",
      "\\hspace{1em}Number of hospitals listed with PBSC collection & \\num{0.16} & \\num{0.17} & \\num{0.17} & \\num{0.16} & \\num{0.67}\\\\\n",
      "\\hspace{1em}Number of hospitals listed with BM collection & \\num{0.25} & \\num{0.26} & \\num{0.25} & \\num{0.25} & \\num{0.80}\\\\\n",
      "\\bottomrule\n",
      "\\end{tabular}\n",
      "\\end{table}\n"
     ]
    }
   ],
   "source": [
    "#| output: asis\n",
    "\n",
    "balance_test <- use %>%\n",
    "  select(\n",
    "    male,\n",
    "    age,\n",
    "    coordinate,\n",
    "    plan_two_methods,\n",
    "    hospital_per_area,\n",
    "    PB_per_area,\n",
    "    BM_per_area,\n",
    "    treat,\n",
    "    RCTweek\n",
    "  ) %>%\n",
    "  pivot_longer(male:BM_per_area, values_to = \"value\", names_to = \"vars\") %>%\n",
    "  group_by(vars) %>%\n",
    "  do(est = lm_robust(\n",
    "    value ~ treat,\n",
    "    clusters = RCTweek,\n",
    "    se_type = \"stata\",\n",
    "    data = .\n",
    "  )) %>%\n",
    "  summarize(\n",
    "    vars = vars,\n",
    "    f = summary(est)$fstatistic[1],\n",
    "    numdf = summary(est)$fstatistic[2],\n",
    "    dendf = summary(est)$fstatistic[3],\n",
    "    \"F-test, p-value\" = pf(f, numdf, dendf, lower.tail = FALSE)\n",
    "  )\n",
    "\n",
    "size <- with(use, sprintf(\"%1d\", table(treat))) %>%\n",
    "  {\n",
    "    tribble(\n",
    "      ~terms, ~A, ~B, ~C, ~D, ~\"F-test, p-value\",\n",
    "      \"通常の適合通知\", \"X\", \"X\", \"X\", \"X\", \"\",\n",
    "      \"確率メッセージ\", \"\", \"X\", \"\", \"X\", \"\",\n",
    "      \"患者情報メッセージ\", \"\", \"\", \"X\", \"X\", \"\",\n",
    "      \"サンプルサイズ\", .[1], .[2], .[3], .[4], \"\"\n",
    "    )\n",
    "  }\n",
    "\n",
    "attr(size, \"position\") <- seq(nrow(size))\n",
    "\n",
    "use %>%\n",
    "  datasummary(\n",
    "    (`Male (=1)` = male) +\n",
    "    (`Age` = age) +\n",
    "    (`Number of past coordinations` = coordinate) +\n",
    "    (`Planned harvest method: BM and PBMC` = plan_two_methods) +\n",
    "    (`Number of listed hospitals` = hospital_per_area) +\n",
    "    (`Number of hospitals listed with PBSC collection` = PB_per_area) +\n",
    "    (`Number of hospitals listed with BM collection` = BM_per_area) ~ mean * treat,\n",
    "    data = .,\n",
    "    title = \"Overview of Field Experiment\",\n",
    "    add_rows = size,\n",
    "    add_columns = balance_test[c(5, 1, 3, 7, 4, 2, 6), 5],\n",
    "    align = \"lccccc\",\n",
    "    output = \"latex\"\n",
    "  ) %>%\n",
    "  kableExtra::kable_styling() %>%\n",
    "  add_header_above(c(\" \" = 1, \"Experimental Arms\" = 4, \" \" = 1)) %>%\n",
    "  group_rows(\"A. Interventions\", 1, 3) %>%\n",
    "  group_rows(\"B. Sample Size\", 4, 4) %>%\n",
    "  group_rows(\"C. Covariates, Balance Test\", 5, 11) %>%\n",
    "  print()\n",
    "  # as.character() %>%\n",
    "  # display_html()"
   ]
  },
  {
   "attachments": {},
   "cell_type": "markdown",
   "metadata": {},
   "source": [
    "- 上表はフィールド実験を概観している\n",
    "  - パネルAは各実験群の介入をまとめており、パネルBは各実験群のサンプルサイズを示している\n",
    "  - パネルCは共変量のバランステストの結果を示しており、割り当てのランダム化が成功しているかどうかを検証している\n",
    "  - ほとんどの共変量は群間でバランスしているが、ドナー候補者の年齢は群間でアンバランスである可能性がある（F-test, p-value = $0.07$）\n",
    "  - 実験群C・Dのドナー候補者は実験群A・Bのドナー候補者よりも若い\n",
    "- ドナー候補者は実験群を選択できない、すなわち、実験群は外生的であるので、単純な二群比較は平均処置効果を識別できる。\n",
    "  - 一部の共変量、および割り当ての週と月が実験群間で完全にバランスしていないので、単純な二群比較はバイアスを伴う可能性がある\n",
    "  - そこで、我々は以下の線形確率モデルを推定する（$X_i$は個人属性ベクトル、$\\lambda_m$と$\\theta_w$はそれぞれ週・月のダミー変数）\n",
    "\n",
    "\\begin{equation}\n",
    "  Y_{imw} =\n",
    "  \\beta_1 \\cdot \\text{B}_{mw} + \\beta_2 \\cdot \\text{C}_{mw}\n",
    "  + \\beta_3 \\cdot \\text{D}_{mw}\n",
    "  + X'_i \\gamma + \\lambda_m + \\theta_w + u_{imw}\n",
    "\\end{equation}"
   ]
  },
  {
   "attachments": {},
   "cell_type": "markdown",
   "metadata": {},
   "source": [
    "# Effects on Reply and Intentions"
   ]
  },
  {
   "cell_type": "code",
   "execution_count": 8,
   "metadata": {
    "vscode": {
     "languageId": "r"
    }
   },
   "outputs": [],
   "source": [
    "stock <- use %>%\n",
    "  dplyr::filter(exg_stop_reply == 0) %>%\n",
    "  rename(positive = intention) %>%\n",
    "  mutate(\n",
    "    negative = reply * (1 - positive),\n",
    "    age_demean = age - mean(rawdt$age),\n",
    "  ) %>%\n",
    "  select(reply, positive, negative, everything()) %>%\n",
    "  pivot_longer(reply:negative, \"outcome\") %>%\n",
    "  mutate(outcome = factor(\n",
    "    outcome,\n",
    "    levels = unlist(names(outcome_label)[1:3]),\n",
    "    labels = unlist(outcome_label[1:3])\n",
    "  ))"
   ]
  },
  {
   "cell_type": "markdown",
   "metadata": {},
   "source": [
    "\n",
    "- ドナー候補者の意向が最も現れる返信に対する効果を推定する\n",
    "  - 返信のアウトカム変数は提供意向に関わらず適合通知に返信したらならば1を取るダミー変数\n",
    "- さらに、返信に対する効果を提供意向の観点から分解する\n",
    "  - 正の意向は適合通知に返信し、かつ提供の意向を示したならば1を取るダミー変数\n",
    "  - 逆に、負の意向は適合通知に返信し、かつ提供の意向を示さなければ1を取るダミー変数\n",
    "  - 適合通知に返信しなかった場合、正の意向と負の意向のアウトカム変数を0とコードする\n",
    "  - したがって、二つの意向に対する効果の和は必ず返信に対する効果となる\n",
    "  - コントロール（実験群A）の返信率は$88.35$%である。正の意向を伴って返信した比率は$55.33$%である一方で、負の意向を伴って返信した比率は$33.03$%である\n",
    "  - よって、返信者の$62.63$%が正の意向を持っている\n",
    "- 返信をする以前に患者側の都合でコーディネーションが中断してしまう可能性がある\n",
    "  - このケースはドナー候補者の意向と無関係に生じるコーディネーションの中断なので、分析のサンプルから除外する\n",
    "  - 各実験群の$0.5$--$0.7$%をこのケースで除外しており、その比率は群間でバランスしている"
   ]
  },
  {
   "attachments": {},
   "cell_type": "markdown",
   "metadata": {},
   "source": [
    "## Estimation Results"
   ]
  },
  {
   "cell_type": "code",
   "execution_count": 9,
   "metadata": {
    "vscode": {
     "languageId": "r"
    }
   },
   "outputs": [
    {
     "name": "stdout",
     "output_type": "stream",
     "text": [
      "\\begin{table}\n",
      "\n",
      "\\caption{Linear Probability Model of Replay and Intention}\n",
      "\\centering\n",
      "\\begin{threeparttable}\n",
      "\\begin{tabular}[t]{lcccccc}\n",
      "\\toprule\n",
      "\\multicolumn{3}{c}{ } & \\multicolumn{4}{c}{Intention} \\\\\n",
      "\\cmidrule(l{3pt}r{3pt}){4-7}\n",
      "\\multicolumn{1}{c}{ } & \\multicolumn{2}{c}{Reply} & \\multicolumn{2}{c}{Positive} & \\multicolumn{2}{c}{Negative} \\\\\n",
      "\\cmidrule(l{3pt}r{3pt}){2-3} \\cmidrule(l{3pt}r{3pt}){4-5} \\cmidrule(l{3pt}r{3pt}){6-7}\n",
      "  & (1) & (2) & (3) & (4) & (5) & (6)\\\\\n",
      "\\midrule\n",
      "Constant & \\num{0.8835}*** & \\num{0.9692}*** & \\num{0.5533}*** & \\num{0.6909}*** & \\num{0.3303}*** & \\num{0.2784}***\\\\\n",
      " & (\\num{0.0065}) & (\\num{0.0195}) & (\\num{0.0125}) & (\\num{0.0288}) & (\\num{0.0089}) & (\\num{0.0248})\\\\\n",
      "Treatment B & \\num{0.0105} & \\num{0.0131}** & \\num{0.0218} & \\num{0.0203}* & \\num{-0.0113} & \\num{-0.0073}\\\\\n",
      " & (\\num{0.0075}) & (\\num{0.0061}) & (\\num{0.0135}) & (\\num{0.0122}) & (\\num{0.0094}) & (\\num{0.0075})\\\\\n",
      "Treatment C & \\num{-0.0057} & \\num{0.0001} & \\num{-0.0053} & \\num{-0.0063} & \\num{-0.0004} & \\num{0.0064}\\\\\n",
      " & (\\num{0.0081}) & (\\num{0.0051}) & (\\num{0.0151}) & (\\num{0.0107}) & (\\num{0.0150}) & (\\num{0.0092})\\\\\n",
      "Treatment D & \\num{0.0058} & \\num{0.0067} & \\num{0.0046} & \\num{0.0073} & \\num{0.0012} & \\num{-0.0006}\\\\\n",
      " & (\\num{0.0074}) & (\\num{0.0051}) & (\\num{0.0166}) & (\\num{0.0097}) & (\\num{0.0138}) & (\\num{0.0065})\\\\\n",
      "\\midrule\n",
      "Control average & 0.8835 & 0.8835 & 0.5533 & 0.5533 & 0.3303 & 0.3303\\\\\n",
      "Covariates &  & X &  & X &  & X\\\\\n",
      "Num.Obs. & \\num{10985} & \\num{10985} & \\num{10985} & \\num{10985} & \\num{10985} & \\num{10985}\\\\\n",
      "\\bottomrule\n",
      "\\multicolumn{7}{l}{\\rule{0pt}{1em}* p $<$ 0.1, ** p $<$ 0.05, *** p $<$ 0.01}\\\\\n",
      "\\end{tabular}\n",
      "\\begin{tablenotes}\n",
      "\\item \\textit{Note: } \n",
      "\\item * p < 0.1, ** p < 0.05, *** p < 0.01. Standard errors clustered by experimental weeks are reported in parentheses. Covariates are gender, squared polynomial of (demeaned) age, a dummy indicating that planned harvest method are BM and PBMC, number of past coordinations, number of hospitals per 10 square kilometers, number of hospitals with PBSC collection per 10 square kilometers, number of hospitals with BM collection per 10 square kilometers, prefecture dummies, month dummies, and week dummies.\n",
      "\\end{tablenotes}\n",
      "\\end{threeparttable}\n",
      "\\end{table}\n"
     ]
    }
   ],
   "source": [
    "#| output: asis\n",
    "\n",
    "mod <- list(\n",
    "  unctrl = value ~ treat,\n",
    "  ctrl = value ~ treat + age_demean + I(age_demean^2) + male + coordinate +\n",
    "    plan_two_methods + hospital_per_area + PB_per_area + BM_per_area +\n",
    "    factor(prefecture) + factor(month) + factor(week)\n",
    ")\n",
    "\n",
    "est_stock <- stock %>%\n",
    "  group_by(outcome) %>%\n",
    "  nest() %>%\n",
    "  mutate(\n",
    "    fit1 = map(\n",
    "      data,\n",
    "      ~ lm_robust(\n",
    "        mod$unctrl,\n",
    "        data = .,\n",
    "        cluster = RCTweek,\n",
    "        se_type = \"stata\"\n",
    "      )\n",
    "    ),\n",
    "    fit2 = map(\n",
    "      data,\n",
    "      ~ lm_robust(\n",
    "        mod$ctrl,\n",
    "        data = .,\n",
    "        cluster = RCTweek,\n",
    "        se_type = \"stata\"\n",
    "      )\n",
    "    )\n",
    "  ) %>%\n",
    "  pivot_longer(\n",
    "    fit1:fit2,\n",
    "    names_prefix = \"fit\",\n",
    "    names_to = \"model\",\n",
    "    values_to = \"fit\"\n",
    "  )\n",
    "\n",
    "ctrl_avg <- stock %>%\n",
    "  dplyr::filter(treat == \"A\") %>%\n",
    "  group_by(outcome) %>%\n",
    "  summarize(mean = sprintf(\"%1.4f\", mean(value)))\n",
    "\n",
    "add_table <- tibble::tribble(\n",
    "  ~term, ~\"(1)\", ~\"(2)\", ~\"(3)\", ~\"(4)\", ~\"(5)\", ~\"(6)\",\n",
    "  \"Control average\", ctrl_avg$mean[1], ctrl_avg$mean[1],\n",
    "  ctrl_avg$mean[2], ctrl_avg$mean[2],\n",
    "  ctrl_avg$mean[3], ctrl_avg$mean[3],\n",
    "  \"Covariates\", \"\", \"X\", \"\", \"X\", \"\", \"X\"\n",
    ")\n",
    "\n",
    "attr(add_table, \"position\") <- 9:12\n",
    "\n",
    "est_stock %>%\n",
    "  pull(fit) %>%\n",
    "  setNames(paste0(\"(\", seq_len(length(.)), \")\")) %>%\n",
    "  modelsummary(\n",
    "    title = \"Linear Probability Model of Replay and Intention\",\n",
    "    coef_map = c(\n",
    "      \"(Intercept)\" = \"Constant\",\n",
    "      \"treatB\" = \"Treatment B\",\n",
    "      \"treatC\" = \"Treatment C\",\n",
    "      \"treatD\" = \"Treatment D\"\n",
    "    ),\n",
    "    stars = c(\"***\" = .01, \"**\" = .05, \"*\" = .1),\n",
    "    fmt = 4,\n",
    "    gof_omit = \"R2|AIC|BIC|Log|Std|FE|se_type\",\n",
    "    add_rows = add_table,\n",
    "    output = \"latex\"\n",
    "  ) %>%\n",
    "  kableExtra::kable_styling() %>%\n",
    "  kableExtra::add_header_above(c(\n",
    "    \" \" = 1, \"Reply\" = 2, \"Positive\" = 2, \"Negative\" = 2\n",
    "  )) %>%\n",
    "  kableExtra::add_header_above(c(\n",
    "    \" \" = 3, \"Intention\" = 4\n",
    "  )) %>%\n",
    "  kableExtra::footnote(\n",
    "    paste(\n",
    "      \"* p < 0.1, ** p < 0.05, *** p < 0.01.\",\n",
    "      \"Standard errors clustered by experimental weeks\",\n",
    "      \"are reported in parentheses.\",\n",
    "      \"Covariates are gender, squared polynomial of (demeaned) age,\",\n",
    "      \"a dummy indicating that planned harvest method are BM and PBMC,\",\n",
    "      \"number of past coordinations,\",\n",
    "      \"number of hospitals per 10 square kilometers,\",\n",
    "      \"number of hospitals with PBSC collection per 10 square kilometers,\",\n",
    "      \"number of hospitals with BM collection per 10 square kilometers,\",\n",
    "      \"prefecture dummies, month dummies, and week dummies.\"\n",
    "    ),\n",
    "    threeparttable = TRUE\n",
    "  ) %>%\n",
    "  print()\n",
    "  # as.character() %>%\n",
    "  # display_html()"
   ]
  },
  {
   "attachments": {},
   "cell_type": "markdown",
   "metadata": {},
   "source": [
    "- 上表は線形確率モデルの推定結果である\n",
    "  - 奇数列は実験群ダミーのみを説明変数として用いているのに対して、偶数列は個人属性や月・週の固定効果も制御している\n",
    "  - すべての特定化で標準誤差をランダム化のユニットである実験週レベルでクラスタしている\n",
    "- 列(1)では、実験群Bは返信率を$0.01$もしくは$1.2$%高めている\n",
    "  - 個人属性などをコントロールすると、効果のサイズは大きく変化しないが、統計的に5%水準で有意となる\n",
    "  - 実験群Bの正の効果は正の意向を伴った返信への大きな効果から来ている。列(3)と(5)では、実験群Bが正の意向を伴った返信率を$0.02$もしくは$3.94$%高めている一方で、負の意向を伴った返信率を$0.01$もしくは$3.42$%下げている。ただし、これらは統計的に非有意である。\n",
    "- 実験群CとDは実験群Bよりも効果のサイズが小さく、統計的に非有意である。さらに、ロジット推定は効果の方向について上表と整合的な結果となるが、統計的に非有意である。総合すると、我々の介入は全体的に返信に大きな影響を与えていない。"
   ]
  },
  {
   "cell_type": "code",
   "execution_count": 10,
   "metadata": {
    "vscode": {
     "languageId": "r"
    }
   },
   "outputs": [
    {
     "name": "stderr",
     "output_type": "stream",
     "text": [
      "3 coefficients  not defined because the design matrix is rank deficient\n",
      "\n",
      "\n"
     ]
    },
    {
     "name": "stderr",
     "output_type": "stream",
     "text": [
      "3 coefficients  not defined because the design matrix is rank deficient\n",
      "\n",
      "\n"
     ]
    },
    {
     "name": "stderr",
     "output_type": "stream",
     "text": [
      "3 coefficients  not defined because the design matrix is rank deficient\n",
      "\n",
      "\n"
     ]
    },
    {
     "name": "stderr",
     "output_type": "stream",
     "text": [
      "3 coefficients  not defined because the design matrix is rank deficient\n",
      "\n",
      "\n"
     ]
    },
    {
     "name": "stderr",
     "output_type": "stream",
     "text": [
      "3 coefficients  not defined because the design matrix is rank deficient\n",
      "\n",
      "\n"
     ]
    },
    {
     "name": "stderr",
     "output_type": "stream",
     "text": [
      "3 coefficients  not defined because the design matrix is rank deficient\n",
      "\n",
      "\n"
     ]
    },
    {
     "name": "stderr",
     "output_type": "stream",
     "text": [
      "3 coefficients  not defined because the design matrix is rank deficient\n",
      "\n",
      "\n"
     ]
    },
    {
     "name": "stderr",
     "output_type": "stream",
     "text": [
      "3 coefficients  not defined because the design matrix is rank deficient\n",
      "\n",
      "\n"
     ]
    },
    {
     "name": "stderr",
     "output_type": "stream",
     "text": [
      "3 coefficients  not defined because the design matrix is rank deficient\n",
      "\n",
      "\n"
     ]
    },
    {
     "name": "stderr",
     "output_type": "stream",
     "text": [
      "3 coefficients  not defined because the design matrix is rank deficient\n",
      "\n",
      "\n"
     ]
    },
    {
     "name": "stderr",
     "output_type": "stream",
     "text": [
      "3 coefficients  not defined because the design matrix is rank deficient\n",
      "\n",
      "\n"
     ]
    },
    {
     "name": "stderr",
     "output_type": "stream",
     "text": [
      "3 coefficients  not defined because the design matrix is rank deficient\n",
      "\n",
      "\n"
     ]
    },
    {
     "name": "stderr",
     "output_type": "stream",
     "text": [
      "\u001b[1m\u001b[22mAdding missing grouping variables: `outcome`\n"
     ]
    },
    {
     "data": {
      "image/png": "[encoded data removed]",
      "text/plain": [
       "plot without title"
      ]
     },
     "metadata": {
      "image/png": {
       "height": 600,
       "width": 900
      }
     },
     "output_type": "display_data"
    }
   ],
   "source": [
    "#| label: reg-reply-stock-subsample\n",
    "#| fig-cap: 'Effect on Reply and Intentions by Gender and Age Group. Note: These plots show the average effect (and associated 95% confidential interval) on each outcome by gender and age group. We cluster standard errors by experimental weeks. We control number of past coordinations, number of hospitals per 10 square kilometers, number of hospitals with PBSC collection per 10 square kilometers, number of hospitals with BM collection per 10 square kilometers, prefecture dummies, month dummies, and week dummies.'\n",
    "\n",
    "est_stock_sub <- stock %>%\n",
    "  mutate(age_less30 = if_else(age < 30, 1, 0)) %>%\n",
    "  group_by(outcome, male, age_less30) %>%\n",
    "  nest() %>%\n",
    "  mutate(est = map(data, ~ lm_robust(\n",
    "    update(mod$ctrl, . ~ . - male - age_demean),\n",
    "    cluster = RCTweek,\n",
    "    se_type = \"stata\",\n",
    "    data = .x\n",
    "  ))) %>%\n",
    "  mutate(\n",
    "    fit = map(est, tidy),\n",
    "    fit = map(fit, ~ subset(.x, str_detect(term, \"treat\"))),\n",
    "    fit = map(fit, ~ dplyr::select(.x, -outcome)),\n",
    "    N = map_chr(est, ~ paste(\"N =\", nobs(.x))),\n",
    "    mean = map_dbl(data, ~ with(subset(., treat == \"A\"), mean(value))),\n",
    "    mean = sprintf(\"Control avg = %1.3f\", mean)\n",
    "  ) %>%\n",
    "  select(-data, -est) %>%\n",
    "  unnest(cols = fit) %>%\n",
    "  mutate(\n",
    "    pos = paste0(male, age_less30),\n",
    "    pos = factor(\n",
    "      pos,\n",
    "      levels = c(\"01\", \"00\", \"11\", \"10\"),\n",
    "      labels = c(\n",
    "        \"Female\\u00d7\\nAge<30\",\n",
    "        \"Female\\u00d7\\n30\\u2264Age\",\n",
    "        \"Male\\u00d7\\nAge<30\",\n",
    "        \"Male\\u00d7\\n30\\u2264Age\"\n",
    "      )\n",
    "    ),\n",
    "    term = str_replace(term, \"treat\", \"\"),\n",
    "    term = factor(term, LETTERS[2:4])\n",
    "  )\n",
    "\n",
    "text <- est_stock_sub %>%\n",
    "  select(male, age_less30, pos, N, mean) %>%\n",
    "  distinct()\n",
    "\n",
    "plot_list <- unique(est_stock_sub$outcome) %>%\n",
    "  purrr::map(function(x) {\n",
    "    subset(est_stock_sub, outcome == x) %>%\n",
    "      ggplot(aes(x = pos, y = estimate)) +\n",
    "      geom_hline(aes(yintercept = 0), linetype = 2) +\n",
    "      geom_point(\n",
    "        aes(color = term, shape = term),\n",
    "        size = 3, position = position_dodge(0.5)\n",
    "      ) +\n",
    "      geom_errorbar(\n",
    "        aes(ymin = conf.low, ymax = conf.high, color = term),\n",
    "        position = position_dodge(0.5),\n",
    "        width = 0\n",
    "      ) +\n",
    "      geom_text(\n",
    "        aes(y = -0.125, label = N),\n",
    "        data = subset(text, outcome == x),\n",
    "        color = \"black\"\n",
    "      ) +\n",
    "      geom_text(\n",
    "        aes(y = -0.15, label = mean),\n",
    "        data = subset(text, outcome == x),\n",
    "        color = \"black\"\n",
    "      ) +\n",
    "      scale_y_continuous(\n",
    "        breaks = seq(-0.2, 0.2, by = 0.05), limits = c(-0.17, 0.17)\n",
    "      ) +\n",
    "      labs(\n",
    "        title = paste(\"Outcome:\", x),\n",
    "        x = \"Subset\",\n",
    "        y = \"Estimated Effects (95%CI)\",\n",
    "        color = \"Treatment\", shape = \"Treatment\"\n",
    "      ) +\n",
    "      simplegg()\n",
    "  })\n",
    "\n",
    "wrap_plots(plot_list, ncol = 2) +\n",
    "  plot_layout(guides = \"collect\") &\n",
    "  theme(legend.position = \"bottom\")"
   ]
  },
  {
   "attachments": {},
   "cell_type": "markdown",
   "metadata": {},
   "source": [
    "- メッセージの効果は大きな異質性がある\n",
    "  - 上図は性別と年齢層（30歳未満かどうか）でサンプルを4分割して、各サブセットでメッセージの効果を推定している\n",
    "- 実験群BとDは30歳未満の男性の返信率を$0.06$もしくは$8.06$%高めている。\n",
    "  - とくに、実験群Bの返信に対する正の効果は、正の意向を伴う返信率を大きく高めていることに起因している。このグループで、実験群Bは正の意向を伴う返信率を$0.1$もしくは$25.91$%高めている一方で、負の意向を伴う返信率を$0.03$もしくは$8.38$%下げている。これらは統計的に有意な効果である。\n",
    "  - 対して、他の性年代のグループ（とくに、30歳以上の男女）では、メッセージが返信や意向に大きな影響を与えていない。ただし、30歳未満の女性で、実験群Dが正の意向を伴う返信率を$0.05$もしくは$9.69$%下げている。\n",
    "- したがって、他のドナー候補者が少ないというメッセージは若年男性の提供意向を高め、適合通知への返信を促している\n",
    "  - 若年男性ドナーは移植成績が良いにも関わらず、提供意向が他の性年代よりも明らかに低いことを考慮すると、実験群Bのメッセージは移植コーディネーションの効率性を改善しているといえる"
   ]
  }
 ],
 "metadata": {
  "kernelspec": {
   "display_name": "IR 4.2",
   "language": "R",
   "name": "ir42"
  },
  "language_info": {
   "codemirror_mode": "r",
   "file_extension": ".r",
   "mimetype": "text/x-r-source",
   "name": "R",
   "pygments_lexer": "r",
   "version": "4.2.2"
  },
  "vscode": {
   "interpreter": {
    "hash": "369f2c481f4da34e4445cda3fffd2e751bd1c4d706f27375911949ba6bb62e1c"
   }
  }
 },
 "nbformat": 4,
 "nbformat_minor": 2
}
